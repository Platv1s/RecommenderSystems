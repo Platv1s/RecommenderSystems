{
 "cells": [
  {
   "cell_type": "markdown",
   "metadata": {},
   "source": [
    "# Assignment 1\n"
   ]
  },
  {
   "cell_type": "code",
   "execution_count": 1,
   "metadata": {},
   "outputs": [
    {
     "name": "stderr",
     "output_type": "stream",
     "text": [
      "Using TensorFlow backend.\n",
      "C:\\Users\\Thijs\\Anaconda3\\envs\\Python35\\lib\\site-packages\\gensim\\utils.py:1167: UserWarning: detected Windows; aliasing chunkize to chunkize_serial\n",
      "  warnings.warn(\"detected Windows; aliasing chunkize to chunkize_serial\")\n"
     ]
    }
   ],
   "source": [
    "import numpy as np\n",
    "np.random.seed(13) #TODO Check if this is used for sgd\n",
    "import keras.backend as K\n",
    "from keras.models import Sequential\n",
    "from keras.layers import Dense, Embedding, Reshape, Lambda\n",
    "from keras.utils import np_utils\n",
    "from keras.utils.data_utils import get_file\n",
    "from keras.preprocessing.text import Tokenizer\n",
    "from keras.utils.vis_utils import model_to_dot\n",
    "from keras.preprocessing import sequence\n",
    "from gensim.models import KeyedVectors\n",
    "from sklearn.manifold import TSNE\n",
    "from sklearn.metrics.pairwise import cosine_similarity\n",
    "from sklearn.neighbors import NearestNeighbors as nn\n",
    "from matplotlib import pylab\n",
    "from __future__ import division"
   ]
  },
  {
   "cell_type": "code",
   "execution_count": null,
   "metadata": {},
   "outputs": [],
   "source": []
  },
  {
   "cell_type": "code",
   "execution_count": 39,
   "metadata": {},
   "outputs": [],
   "source": [
    "# DO NOT Modify the lines in this cell\n",
    "path = 'alice.txt'\n",
    "corpus = open(path).readlines()[0:700]\n",
    "\n",
    "corpus = [sentence for sentence in corpus if sentence.count(\" \") >= 2]\n",
    "\n",
    "tokenizer = Tokenizer(filters='!\"#$%&()*+,-./:;<=>?@[\\\\]^_`{|}~\\t\\n'+\"'\")\n",
    "tokenizer.fit_on_texts(corpus)\n",
    "corpus = tokenizer.texts_to_sequences(corpus)\n",
    "nb_samples = sum(len(s) for s in corpus)\n",
    "V = len(tokenizer.word_index) + 1\n",
    "\n",
    "# Is this something they need to change?\n",
    "dim = 100\n",
    "window_size = 2 #use this window size for Skipgram, CBOW, and the model with the additional hidden layer\n",
    "window_size_corpus = 4 #use this window size for the co-occurrence matrix"
   ]
  },
  {
   "cell_type": "markdown",
   "metadata": {},
   "source": [
    "## Question 1\n",
    "\n",
    "### Co-occurrence Matrix\n",
    "Use the provided code to load the \"Alice in Wonderland\" text document. \n",
    "1. Implement the word-word co-occurrence matrix for “Alice in Wonderland”\n",
    "2. Normalize the words such that every value lies within a range of 0 and 1\n",
    "3. Compute the cosine distance between the given words:\n",
    "    - Alice \n",
    "    - Dinah\n",
    "    - Rabbit\n",
    "4. List the 5 closest words to 'Alice'. Discuss the results.\n",
    "5. Discuss what the main drawbacks are of a term-term co-occurence matrix solutions?\n"
   ]
  },
  {
   "cell_type": "code",
   "execution_count": 56,
   "metadata": {},
   "outputs": [
    {
     "data": {
      "text/plain": [
       "array([[ 0.        ,  0.44444444,  0.48148148, ...,  0.03703704,\n",
       "         0.        ,  0.        ],\n",
       "       [ 0.44444444,  0.        ,  0.07407407, ...,  0.03703704,\n",
       "         0.        ,  0.        ],\n",
       "       [ 0.48148148,  0.07407407,  0.        , ...,  0.        ,\n",
       "         0.        ,  0.        ],\n",
       "       ..., \n",
       "       [ 0.03703704,  0.03703704,  0.        , ...,  0.        ,\n",
       "         0.        ,  0.        ],\n",
       "       [ 0.        ,  0.        ,  0.        , ...,  0.        ,\n",
       "         0.        ,  0.        ],\n",
       "       [ 0.        ,  0.        ,  0.        , ...,  0.        ,\n",
       "         0.        ,  0.        ]])"
      ]
     },
     "execution_count": 56,
     "metadata": {},
     "output_type": "execute_result"
    }
   ],
   "source": [
    "#create co-occurrence matrix\n",
    "#print(tokenizer)\n",
    "#print(corpus)\n",
    "#print(nb_samples)\n",
    "#print(V)\n",
    "#print(\"\\n\")\n",
    "\n",
    "def create_co_occurrence(crps, win_size, voc_size):\n",
    "    # Discuss -1 with Thijs\n",
    "    co_occurrence_mat = np.zeros((voc_size-1,voc_size-1), int)\n",
    "    for sentence in crps:\n",
    "        # Sliding window inside of sentence\n",
    "        for i, center_word in enumerate(sentence):\n",
    "            i_min = max(0, i - win_size + 1)\n",
    "            i_max = min(len(sentence), i + win_size)\n",
    "            window = sentence[i_min: i_max]\n",
    "            #print(\"Window:\", window)\n",
    "            \n",
    "            # Increment co occurence of words in sliding window\n",
    "            for j in range(i_min, i_max):\n",
    "                if i != j:\n",
    "                    co_word = sentence[j]\n",
    "                    co_occurrence_mat[center_word-1, co_word-1] += 1\n",
    "    \n",
    "    np.amax(co_occurrence_mat)\n",
    "    \n",
    "    return co_occurrence_mat\n",
    "\n",
    "co_occurence = create_co_occurrence(corpus, window_size, V)\n",
    "\n",
    "#Normalize\n",
    "co_occurence = co_occurence / np.amax(co_occurence)\n",
    "co_occurence"
   ]
  },
  {
   "cell_type": "code",
   "execution_count": 57,
   "metadata": {
    "scrolled": true
   },
   "outputs": [
    {
     "name": "stdout",
     "output_type": "stream",
     "text": [
      "{'taught': 714, 'lonely': 1144, 'hall': 147, 'roast': 733, 'brightened': 739, 'insolence': 1018, 'croquet': 760, 'either': 140, 'latitude': 416, 'give': 488, 'hide': 1031, 'golden': 188, 'know': 62, 'poker': 716, 'behind': 329, 'feeling': 464, 'aloud': 408, 'ann': 581, 'rest': 1047, 'housemaid': 1165, 'bats': 269, 'legs': 750, 'remember': 219, 'inclined': 1034, 'going': 116, 'they': 39, 'ferrets': 578, 'tale': 377, 'poky': 863, 'turned': 220, 'sticks': 661, 'should': 218, 'time': 66, 'curiosity': 603, 'fifth': 1100, 'escape': 876, 'sits': 932, 'joined': 1112, 'good': 157, 'indeed': 190, 'ran': 207, 'station': 899, 'ah': 503, 'absurd': 1067, 'puzzling': 509, 'we': 239, 'ring': 549, 'positively': 980, 'seems': 360, 'eagerly': 371, 'swam': 236, 'subject': 539, 'uncomfortable': 971, 'explain': 561, 'rate': 270, 'feathers': 967, 'just': 141, 'walking': 430, 'sighed': 1117, 'bed': 1139, 'surprised': 277, 'head': 189, 'first': 104, 'manage': 323, 'their': 180, 'simple': 712, 'showing': 634, 'seaside': 885, 'animals': 545, 'digging': 893, 'since': 1155, 'meaning': 1028, 'belongs': 952, 'made': 206, 'hoping': 453, 'usual': 820, 'paused': 1033, 'miles': 407, 'pour': 848, 'shrill': 926, 'listen': 414, 'smile': 1032, 'thump': 431, 'refused': 981, 'rules': 454, 'burning': 602, 'away': 165, 'foot': 490, 'wonder': 103, 'bird': 1130, 'normans': 1019, 'actually': 600, 'have': 84, 'call': 1086, 'conqueror': 532, 'waiting': 452, 'wild': 708, 'strange': 844, 'ten': 738, 'conduct': 1016, 'cunning': 1095, 'hands': 514, 'sat': 226, 'finds': 1166, 'begin': 696, 'dozing': 656, 'world': 301, 'solemn': 1073, 'usurpation': 994, 'solid': 674, 'hair': 505, 'say': 83, 'bring': 757, 'dear': 64, 'not': 29, 'stigand': 1002, 'same': 193, 'myself': 786, 'down': 26, 'could': 58, 'prizes': 241, 'hundred': 954, 'window': 1180, 'wanted': 551, 'brave': 628, 'saying': 183, 'understand': 530, 'puzzle': 822, 'sort': 179, 'walk': 317, 'turkey': 734, 'bend': 1101, 'lesson': 533, 'nobody': 577, 'kind': 787, 'friends': 713, 'harm': 907, 'nonsense': 491, 'confusion': 1075, 'question': 162, 'hole': 243, 'back': 110, 'you': 12, 'easy': 1040, 'locks': 677, 'wooden': 895, 'children': 274, 'declare': 880, 'clinging': 968, 'advice': 753, 'salt': 522, 'severely': 475, 'one': 48, 'poison': 340, 'game': 759, 'shape': 1038, 'with': 23, 'else': 266, 'cold': 984, 'ago': 916, 'doors': 440, 'want': 788, 'frowning': 998, 'wise': 703, 'feet': 101, 'matter': 428, 'pleaded': 1107, 'means': 1007, 'gently': 859, 'sure': 136, 'begun': 429, 'two': 227, 'itself': 297, 'race': 202, 'white': 128, 'll': 37, 'end': 309, 'familiarly': 973, 'glass': 222, 'oyster': 1125, 'any': 121, 'eats': 772, 'the': 1, 'several': 312, 'being': 362, 'asking': 423, 'impatiently': 1114, 'an': 133, 'venture': 1128, 'london': 837, 'directions': 795, 'reaching': 806, 'narrow': 875, 'is': 33, 'undo': 1104, 'buttered': 736, 'iii': 964, 'do': 49, 'dare': 1069, 'sudden': 363, 'tired': 244, 'history': 367, 'commotion': 959, 'lit': 668, 'signify': 835, 'hurrying': 665, 'authority': 982, 'bottle': 273, 'placed': 1039, 'thinking': 823, 'nothing': 112, 's': 36, 'other': 221, 'fire': 935, 'french': 531, 'bent': 1030, 'drink': 338, 'fishes': 858, 'despair': 1054, 'pointing': 1051, 'trembling': 368, 'certainly': 456, 'walked': 442, 'before': 130, 'smiling': 860, 'thought': 53, 'past': 625, 'brother': 908, 'hot': 249, 'sensation': 1131, 'besides': 827, 'earth': 410, 'daughter': 1118, 'was': 9, 'patriotic': 1003, 'cried': 124, 'glad': 419, 'natural': 391, 'crying': 470, 'archbishop': 1004, 'w': 1170, 'geography': 836, 'truth': 659, 'promised': 1082, 'listening': 640, 'seem': 316, 'beds': 690, 'grow': 480, 'shiver': 997, 'ventured': 725, 'pretend': 763, 'consultation': 972, 'coast': 889, 'plenty': 612, 'show': 535, 'decided': 746, 'canary': 1138, 'somehow': 884, 'english': 228, 'snappishly': 1123, 'lessons': 313, 'finding': 462, 'occurred': 598, 'put': 178, 'dressed': 810, 'larger': 448, 'story': 575, 'way': 45, 'had': 17, 'feel': 383, 'presently': 637, 'cur': 1092, 'things': 93, 'savage': 812, 'growing': 483, 'struck': 800, 'shoes': 782, 'histories': 705, 'shedding': 803, 'himself': 811, 'fallen': 311, 'dry': 164, 'adjourn': 1024, 'leaves': 662, 'passion': 962, 'twenty': 833, 'law': 1089, 'whiskers': 437, 'footsteps': 1146, 'feelings': 925, 'pet': 1129, 'fur': 546, 'twelve': 829, 'pretending': 762, 'hold': 458, 'bank': 381, 'later': 724, 'met': 1087, 'try': 194, 'creep': 768, 'others': 1111, 'dog': 945, 'sorts': 508, 'yourself': 494, 'get': 67, 'rats': 957, 'funny': 418, 'proceed': 1000, 'esq': 796, 'shrinking': 517, 'lory': 201, 'side': 441, 'dripping': 969, 'expecting': 773, 'opening': 779, 'dreamy': 654, 'judge': 573, 'curtsey': 646, 'older': 977, 'knocking': 1172, 'to': 3, 'antipathies': 639, 'angry': 534, 'elegant': 1064, 'stupid': 385, 'splendidly': 809, 'orange': 619, 'ii': 778, 'ringlets': 506, 'lock': 682, 'short': 1065, 'or': 57, 'directly': 1177, 'important': 986, 'solemnly': 560, 'spread': 855, 'currants': 766, 'different': 821, 'useful': 542, 'stopping': 611, 'paris': 511, 'cherry': 728, 'worth': 388, 'somewhere': 409, 'book': 205, 'into': 72, 'prize': 1060, 'dodo': 90, 'gave': 474, 'brown': 949, 'words': 159, 'whisper': 1085, 'angrily': 1102, 'waited': 466, 'earnestly': 658, 'old': 292, 'sitting': 585, 'happen': 304, 'patted': 1080, 'm': 77, 'see': 56, 'jury': 572, 'sooner': 723, 'last': 291, 'like': 47, 'through': 144, 'she': 4, 'minute': 473, 'round': 108, 'hoped': 1181, 'ones': 1078, 'hopeless': 801, 'wondered': 599, 'life': 356, 'printed': 702, 'duchess': 280, 'large': 153, 'much': 91, 'zealand': 644, 'family': 940, 'great': 117, 'night': 324, 'sharply': 471, 'read': 704, 'suddenly': 175, 'labelled': 618, 'alas': 332, 'nurse': 537, 'kept': 281, 'longed': 688, 'knowledge': 413, 'watch': 392, 'paws': 536, 'lying': 354, 'crown': 1015, 'field': 604, 'all': 22, 'pair': 229, 'deal': 357, 'machines': 892, 'curtseying': 647, 'learnt': 632, 'messages': 582, 'whether': 386, 'taste': 461, 'adoption': 1026, 'kills': 956, 'est': 918, 'happened': 336, 'pulled': 1055, 'c': 1083, 'carefully': 1134, 'knowing': 979, 'chin': 883, 'purring': 933, 'own': 247, 'over': 100, 'love': 799, 'humbly': 1099, 'favoured': 989, 'nervous': 743, 're': 322, 'fitted': 684, 'high': 168, 'tone': 196, 'leap': 921, 'sending': 489, 'voices': 1049, 'morcar': 553, 'cause': 364, 'until': 805, 'piece': 1059, 'respectable': 765, 'day': 250, 'how': 38, 'ignorant': 648, 'magpie': 1132, 'cupboards': 398, 'hastily': 279, 'sides': 613, 'nine': 492, 'six': 830, 'allow': 978, 'hurt': 433, 'grin': 853, 'began': 75, 'by': 71, 'there': 55, 'continued': 1020, 'wasting': 1093, 'talk': 237, 'person': 352, 'nile': 850, 'sadly': 443, 'speak': 278, 'wondering': 672, 'heard': 230, 'executed': 1150, 'choked': 1079, 'believe': 1029, 'next': 210, 'nor': 596, 'existence': 877, 'afterwards': 597, 'saw': 400, 'best': 225, 'bad': 520, 'idea': 260, 'growled': 1109, 'got': 118, 'legged': 673, 'disappointment': 621, 'peeped': 587, 'run': 1160, 'winter': 1035, 'sad': 569, 'knew': 451, 'usually': 459, 'while': 192, 'trial': 571, 'can': 97, 'exact': 1037, 'putting': 867, 'plainly': 748, 'doorway': 694, 'quiver': 922, 'young': 1122, 'picking': 593, 'real': 1175, 'worse': 879, 'led': 447, 'sea': 523, 'happens': 481, 'doth': 513, 'grammar': 910, 'name': 319, 'right': 158, 'then': 79, 'somebody': 307, 'your': 88, 'nearly': 871, 'however': 135, 'flashed': 601, 'care': 769, 'must': 69, 'who': 96, 'distance': 315, 'attending': 1098, 'cry': 493, 'if': 32, 'hurry': 339, 'disagree': 722, 'such': 74, 'morning': 502, 'splash': 882, 'minutes': 467, 'really': 272, 'waters': 849, 'ugh': 996, 'pale': 961, 'killing': 624, 'up': 43, 'edwin': 552, 'knows': 826, 'tell': 146, 'belong': 676, 'certain': 343, 'chapter': 242, 'schoolroom': 633, 'denial': 1091, 'course': 204, 'swimming': 528, 'throat': 1137, 'this': 28, 'walrus': 905, 'conquest': 995, 'replied': 378, 'oh': 51, 'condemn': 1096, 'trying': 187, 'change': 519, 'times': 359, 'lamps': 669, 'that': 13, 'nicely': 934, 'ma': 320, 'true': 629, 'open': 678, 'says': 541, 'driest': 987, 'meeting': 1023, 'dropped': 358, 'muttering': 498, 'will': 191, 'shining': 847, 'house': 156, 'lest': 1174, 'asked': 1050, 'mistake': 1164, 'notion': 915, 'once': 98, 'lost': 434, 'girl': 422, 'iv': 1147, 'shook': 1113, 'water': 365, 'fact': 463, 'saucer': 651, 'new': 420, 'seldom': 754, 'against': 476, 'sentence': 920, 'offended': 238, 'many': 310, 'long': 94, 'mine': 507, 'flame': 744, 'started': 394, 'pope': 990, 'something': 286, 'toys': 864, 'fancying': 1176, 'marmalade': 620, 'don': 171, 'quick': 1161, 'rome': 512, 'what': 44, 'his': 151, 'eyes': 176, 'use': 152, 'overhead': 664, 'sister': 380, 'remained': 771, 'handed': 1057, 'makes': 479, 'second': 679, 'fan': 126, 'low': 186, 'thimble': 294, 'finish': 574, 'room': 583, 'garden': 169, 'o': 366, 'pegs': 616, 'followed': 755, 'make': 212, 'melancholy': 559, 'burnt': 706, 'beg': 195, 'pool': 137, 'whole': 290, 'theirs': 1077, 'door': 95, 'pocket': 251, 'noise': 1074, 'be': 20, 'reply': 1110, 'william': 287, 'cheated': 758, 'eat': 134, 'added': 1084, 'wherever': 888, 'every': 330, 'mind': 248, 'fancy': 321, 'moment': 131, 'daisy': 591, 'these': 881, 'some': 177, 'bleeds': 721, 'than': 223, 'again': 54, 'rather': 181, 'throw': 950, 'them': 61, 'fear': 402, 'telescopes': 698, 'generally': 348, 'eyed': 946, 'bye': 781, 'look': 154, 'ready': 232, 'empty': 622, 'breath': 1094, 'loveliest': 687, 'tidy': 1179, 'anxiously': 276, 'seen': 208, 'jaws': 861, 'upstairs': 1173, 'tail': 285, 'assembled': 965, 'tumbling': 626, 'caused': 568, 'crossly': 1006, 'conclusion': 887, 'returning': 808, 'luckily': 1056, 'yet': 929, 'managed': 403, 'better': 548, 'thousand': 631, 'beasts': 709, 'so': 30, 'telescope': 450, 'pattering': 496, 'lose': 1119, 'doing': 1159, 'mean': 1106, 'when': 46, 'catch': 425, 'quicker': 1115, 'quiet': 930, 'deep': 302, 'slipped': 521, 'voice': 233, 'along': 334, 'only': 122, 'sounded': 842, 'talking': 182, 'twice': 586, 'playing': 761, 'curious': 345, 'beautifully': 457, 'meet': 558, 'houses': 898, 'bright': 335, 'too': 155, 'inches': 333, 'finished': 344, 'skurried': 816, 'face': 346, 'key': 148, 'bill': 1149, 'ask': 263, 'box': 350, 'sir': 500, 'atheling': 1013, 'yes': 415, 'fell': 209, 'various': 1140, 'done': 516, 'word': 642, 'climb': 749, 'bit': 432, 'grave': 1068, 'shan': 784, 'party': 240, 'drop': 623, 'engraved': 1171, 'half': 149, 'said': 16, 'lap': 840, 'scale': 851, 'queer': 234, 'opportunity': 412, 'offer': 1014, 'noticed': 306, 'her': 14, 'confused': 1053, 'roof': 439, 'shall': 92, 'burst': 869, 'birds': 200, 'crab': 576, 'fountains': 693, 'crossed': 839, 'across': 395, 'dark': 305, 'comfits': 566, 'did': 99, 'lazily': 931, 'blown': 745, 'upon': 142, 'sorrowful': 958, 'sand': 894, 'welcome': 857, 'advise': 752, 'air': 264, 'won': 172, 'though': 411, 'conversation': 944, 'addressing': 1126, 'didn': 262, 'label': 701, 'cool': 692, 'hoarse': 843, 'finger': 341, 'without': 174, 'alone': 515, 'been': 166, 'guessed': 1152, 'simply': 1071, 'slippery': 751, 'because': 711, 'cake': 355, 'begged': 1081, 'filled': 397, 'him': 293, 'bristling': 939, 'a': 5, 'scolded': 756, 'softly': 960, 'liked': 563, 'come': 86, 'hippopotamus': 906, 'ahem': 985, 'thing': 89, 'shrink': 741, 'likely': 406, 'dogs': 370, 'why': 132, 'pink': 595, 'at': 34, 'improve': 846, 'went': 52, 'hearthrug': 797, 'very': 27, 'leaders': 992, 'knot': 1103, 'fixed': 983, 'vulgar': 943, 'its': 114, 'hedge': 607, 'hanging': 670, 'getting': 138, 'swim': 1156, 'making': 387, 'grand': 636, 'wrapping': 1133, 'pity': 1116, 'able': 785, 'pounds': 955, 'about': 40, 'curiouser': 484, 'those': 271, 'ou': 917, 'child': 477, 'gloves': 125, 'shut': 449, 'pressed': 1043, 'us': 373, 'candle': 347, 'shore': 543, 'quite': 78, 'ada': 824, 'ashamed': 802, 'under': 300, 'now': 81, 'help': 499, 'hear': 296, 'presented': 1062, 'darkness': 817, 'wind': 666, 'work': 777, 'known': 974, 'stay': 361, 'passage': 327, 'sleepy': 384, 'pardon': 288, 'fifteen': 681, 'looked': 129, 'on': 21, 'jar': 401, 'dears': 487, 'soon': 76, 'never': 115, 'mercia': 555, 'wouldn': 404, 'desperate': 813, 'table': 120, 'mabel': 283, 'knife': 720, 'd': 198, 'hope': 650, 'dinner': 951, 'think': 60, 'violently': 815, 't': 35, 'stockings': 783, 'poor': 109, 'patience': 1124, 'inquisitively': 911, 'hung': 615, 'tears': 170, 'nice': 215, 'maps': 614, 'farmer': 953, 'tongue': 1121, 'out': 31, 'wrong': 838, 'frightened': 518, 'naturedly': 1153, 'opened': 446, 'temper': 1120, 'dried': 807, 'slowly': 303, 'cat': 267, 'timid': 814, 'easily': 1108, 'crowded': 289, 'herself': 41, 'people': 216, 'licking': 936, 'forehead': 1044, 'trotting': 497, 'are': 106, 'straight': 608, 'presents': 793, 'mentioned': 1143, 'leave': 472, 'prosecute': 1090, 'eye': 353, 'deeply': 719, 'till': 868, 'tiny': 445, 'of': 8, 'looking': 203, 'doesn': 173, 'size': 465, 'couldn': 655, 'no': 50, 'from': 256, 'take': 253, 'knelt': 686, 'neat': 1167, 'chain': 592, 'capital': 284, 'nearer': 904, 'sound': 641, 'kid': 231, 'enough': 275, 'multiplication': 834, 'cheered': 1066, 'tried': 211, 'hunting': 579, 'dinah': 87, 'trouble': 389, 'energetic': 1027, 'felt': 184, 'has': 564, 'move': 1022, 'ears': 436, 'earls': 554, 'both': 1088, 'edgar': 1012, 'remarking': 1135, 'remarkable': 390, 'carrier': 792, 'live': 862, 'home': 308, 'politely': 999, 'hard': 501, 'corner': 435, 'further': 742, 'speech': 567, 'animal': 924, 'curtain': 680, 'flavour': 727, 'mixed': 726, 'punished': 901, 'flowers': 691, 'odd': 794, 'hour': 1041, 'took': 139, 'middle': 444, 'anything': 213, 'gravely': 1061, 'pop': 606, 'fall': 257, 'pine': 731, 'dull': 774, 'miss': 424, 'pleasure': 590, 'declared': 1001, 'falling': 396, 'reach': 469, 'measure': 870, 'heads': 318, 'number': 890, 'forgotten': 460, 'considering': 382, 'marked': 224, 'top': 405, 'shelves': 399, 'clear': 914, 'fright': 923, 'completely': 1158, 'seemed': 113, 'having': 245, 'everything': 282, 'called': 199, 'hurriedly': 1011, 'fury': 570, 'fond': 478, 'late': 298, 'wander': 689, 'paper': 700, 'seven': 832, 'were': 65, 'more': 123, 'avoid': 874, 'tart': 729, 'sometimes': 427, 'altogether': 468, 'centre': 630, 'heap': 660, 'play': 865, 'wept': 900, 'me': 42, 'christmas': 790, 'small': 167, 'for': 18, 'repeat': 841, 'creatures': 963, 'notice': 1010, 'suit': 1136, 'planning': 791, 'which': 85, 'whose': 988, 'speed': 878, 'pairs': 1182, 'railway': 525, 'smaller': 767, 'milk': 652, 'crocodile': 845, 'eaglet': 375, 'hand': 185, 'submitted': 991, 'go': 82, 'where': 1151, 'spades': 896, 'catching': 538, 'bowed': 1072, 'australia': 645, 'rabbit': 63, 'let': 105, 'particular': 1127, 'cut': 718, 'close': 295, 'but': 19, 'fortunately': 605, 'chorus': 565, 'longer': 667, 'eaten': 707, 've': 143, 'bat': 426, 'stairs': 627, 'please': 217, 'common': 775, 'advisable': 557, 'pointed': 1163, 'alice': 11, 'worm': 1009, 'another': 254, 'largest': 780, 'running': 562, 'sight': 328, 'ought': 299, 'set': 776, 'goes': 825, 'left': 351, 'everybody': 1048, 'pictures': 246, 'jumped': 663, 'unpleasant': 710, 'three': 331, 'panting': 1042, 'circle': 1036, 'would': 59, 'ate': 770, 'daisies': 594, 'little': 24, 'cheerfully': 852, 'possibly': 747, 'rapidly': 873, 'lately': 697, 'holding': 482, 'well': 127, 'forgot': 485, 'argument': 975, 'terrier': 947, 'even': 258, 'spirited': 1145, 'shoulders': 695, 'stop': 495, 'written': 649, 'passionate': 927, 'red': 715, 'yesterday': 819, 'boots': 789, 'might': 161, 'neck': 699, 'hadn': 526, 'dream': 657, 'delight': 683, 'direction': 1162, 'curly': 948, 'hated': 941, 'mouse': 25, 'ordering': 1178, 'turning': 379, 'case': 524, 'remembered': 349, 'afraid': 268, 'complained': 1076, 'moved': 1142, 'claws': 856, 'my': 70, 'duck': 374, 'ever': 119, 'find': 150, 'laugh': 1070, 'soft': 938, 'few': 337, 'among': 261, 'five': 828, 'spoke': 421, 'i': 6, 'death': 1097, 'age': 504, 'drowned': 902, 'reading': 588, 'gallons': 804, 'far': 486, 'insult': 1105, 'draggled': 966, 'near': 259, 'here': 68, 'toast': 737, 'found': 73, 'mice': 325, 'wish': 145, 'hurried': 252, 'tea': 653, 'fanning': 818, 'northumbria': 556, 'still': 314, 'except': 675, 'thirteen': 831, 'shakespeare': 1046, 'shutting': 455, 'came': 163, 'he': 111, 'answer': 326, 'coming': 255, 'washing': 937, 'waistcoat': 393, 'moderate': 1017, 'brass': 1168, 'frog': 1008, 'canterbury': 1005, 'lodging': 897, 'caucus': 376, 'learn': 866, 'fender': 798, 'our': 197, 'mary': 580, 'row': 438, 'silence': 550, 'cross': 970, 'nowhere': 1154, 'tunnel': 609, 'it': 7, 'changed': 235, 'always': 369, 'four': 214, 'soothing': 928, 'beginning': 584, 'wet': 547, 'toffee': 735, 'speaking': 529, 'immediate': 1025, 'conversations': 589, 'locked': 671, 'as': 15, 'chatte': 919, 'sends': 1148, 'calling': 1052, 'downward': 638, 'sulky': 976, 'acceptance': 1063, 'rising': 1021, 'hardly': 764, 'hate': 544, 'apple': 732, 'exactly': 1058, 'am': 160, 'almost': 342, 'after': 102, 'pretexts': 1141, 'off': 80, 'cats': 107, 'fetch': 372, 'longitude': 417, 'splashing': 903, 'bathing': 891, 'position': 1045, 'accustomed': 993, 'practice': 635, 'daresay': 913, 'rat': 685, 'nasty': 942, 'burn': 717, 'in': 10, 'plate': 1169, 'passed': 617, 'sit': 540, 'custard': 730, 'guess': 872, 'wink': 912, 'used': 510, 'vanished': 1157, 'and': 2, 'suppose': 527, 'general': 886, 'perhaps': 265, 'neatly': 854, 'latin': 909, 'dipped': 610, 'country': 643, 'lovely': 740}\n",
      "similarity of Alice and Dinah 0.148538649506\n",
      "similarity of Alice and Rabbit 0.0763040737666\n",
      "similarity of Dinah and Rabbit 0.0810361063877\n"
     ]
    }
   ],
   "source": [
    "#find cosine similarity to Alice, Dinah and Rabbit\n",
    "from scipy import spatial\n",
    "print(tokenizer.word_index)\n",
    "\n",
    "def cosine_sim(word_1, word_2, tknzr, matrix):\n",
    "    word_1_ind = tknzr.word_index[word_1]\n",
    "    word_2_ind = tknzr.word_index[word_2]\n",
    "    \n",
    "    #print(word_1, word_1_ind)\n",
    "    #print(word_2, word_2_ind)\n",
    "    \n",
    "    word_1_vec = matrix[:,word_1_ind-1]\n",
    "    word_2_vec = matrix[:,word_2_ind-1]\n",
    "    \n",
    "    #print(word_1_vec)\n",
    "    #print(word_2_vec)\n",
    "    \n",
    "    similarity = 1 - spatial.distance.cosine(word_1_vec, word_2_vec)\n",
    "    #print(similarity)\n",
    "    \n",
    "    return similarity\n",
    "    \n",
    "    \n",
    "print('similarity of Alice and Dinah', str(cosine_sim(\"alice\", \"dinah\", tokenizer, co_occurence)))\n",
    "print('similarity of Alice and Rabbit', str(cosine_sim(\"alice\", \"rabbit\", tokenizer, co_occurence)))\n",
    "print('similarity of Dinah and Rabbit', str(cosine_sim(\"dinah\", \"rabbit\", tokenizer, co_occurence)))\n"
   ]
  },
  {
   "cell_type": "code",
   "execution_count": 60,
   "metadata": {},
   "outputs": [
    {
     "name": "stdout",
     "output_type": "stream",
     "text": [
      "Most similar word:\n",
      "        Word       Sim\n",
      "511     ugh  0.570483\n",
      "754    ahem  0.570483\n",
      "354     she  0.533538\n",
      "105     say  0.530232\n",
      "75   listen  0.498760\n"
     ]
    },
    {
     "name": "stderr",
     "output_type": "stream",
     "text": [
      "C:\\Users\\Thijs\\Anaconda3\\envs\\Python35\\lib\\site-packages\\scipy\\spatial\\distance.py:644: RuntimeWarning: invalid value encountered in double_scalars\n",
      "  dist = 1.0 - uv / np.sqrt(uu * vv)\n"
     ]
    }
   ],
   "source": [
    "#find the closest words to Alice\n",
    "import pandas as pd\n",
    "\n",
    "similarities = {i: cosine_sim(\"alice\", i, tokenizer, co_occurence) if \"alice\"!= i else 0.0 for i in tokenizer.word_index}\n",
    "pd_similarities = pd.DataFrame(list(similarities.items()), columns=['Word', 'Sim'])\n",
    "\n",
    "top_5 = pd_similarities.sort_values(['Sim'], ascending=False)[:5]\n",
    "\n",
    "print(\"Most similar word:\\n\", top_5)\n",
    "#print(similarities)\n"
   ]
  },
  {
   "cell_type": "markdown",
   "metadata": {},
   "source": [
    "Discussion of the drawbacks:\n",
    "\n",
    "One of the major drawbacks of a co-occurence matrix is the fact that the matrix becomes very large in a very short time. In order to compute answers from it one would need a very strong machine. Ofcourse this is doable however, there are more efficient ways to calculate it. Another drawback of using a co-occurence matrix is that quite some memory is needed to be able to store it all in memory. Of course this can be optimalized but still it is quite costly. "
   ]
  },
  {
   "cell_type": "code",
   "execution_count": 118,
   "metadata": {},
   "outputs": [],
   "source": [
    "#Save your all the vector representations of your word embeddings in this way\n",
    "#Change when necessary the sizes of the vocabulary/embedding dimension\n",
    "\n",
    "f = open('vectors_co_occurrence.txt',\"w\")\n",
    "f.write(\" \".join([str(V-1),str(V-1)]))\n",
    "f.write(\"\\n\")\n",
    "\n",
    "#vectors = your word co-occurrence matrix\n",
    "vectors = co_occurence\n",
    "for word, i in tokenizer.word_index.items():\n",
    "    f.write(word)\n",
    "    f.write(\" \")\n",
    "    f.write(\" \".join(map(str, list(vectors[i-1,:]))))\n",
    "    f.write(\"\\n\")\n",
    "f.close()"
   ]
  },
  {
   "cell_type": "code",
   "execution_count": 119,
   "metadata": {},
   "outputs": [],
   "source": [
    "#reopen your file as follows\n",
    "\n",
    "co_occurrence = KeyedVectors.load_word2vec_format('./vectors_co_occurrence.txt', binary=False)"
   ]
  },
  {
   "cell_type": "markdown",
   "metadata": {},
   "source": [
    "## Question 2\n",
    "\n",
    "### Word embeddings\n",
    "Build embeddings with a keras implementation where the embedding vector is of length 50, 150 and 300. Use the Alice in Wonderland text book for training.\n",
    "1. Using the CBOW model\n",
    "2. Using Skipgram model\n",
    "3. Add extra hidden dense layer to CBow and Skipgram implementations. Choose an activation function for that layer and justify your answer.\n",
    "4. Analyze the four different word embeddings\n",
    "    - Implement your own function to perform the analogy task with. Do not use existing libraries for this task such as Gensim. Your function should be able to answer whether an anaology as in the example given in the pdf-file is true.\n",
    "    - Compare the performance on the analogy task between the word embeddings that you have trained in 2.1, 2.2 and 2.3.  \n",
    "    - Visualize your results and interpret your results\n",
    "5. Use the word co-occurence matrix from Question 1. Compare the performance on the analogy task with the performance of your trained word embeddings.  \n",
    "6. Discuss:\n",
    "    - What are the main advantages of CBOW and Skipgram?\n",
    "    - What is the advantage of negative sampling?\n",
    "    - What are the main drawbacks of CBOW and Skipgram?\n",
    "7. Load pre-trained embeddings on large corpuses (see the pdf file). You only have to consider the word embeddings with an embedding size of 300\n",
    "    - Compare performance on the analogy task with your own trained embeddings from \"Alice in Wonderland\". You can limit yourself to the vocabulary of Alice in Wonderland. Visualize the pre-trained word embeddings and compare these with the results of your own trained word embeddings. \n"
   ]
  },
  {
   "cell_type": "code",
   "execution_count": 120,
   "metadata": {},
   "outputs": [],
   "source": [
    "def generate_data_cbow(corpus, window_size, V):\n",
    "    maxlen = window_size*2\n",
    "    for words in corpus:\n",
    "        L = len(words)\n",
    "        for index, word in enumerate(words):\n",
    "            contexts = []\n",
    "            labels   = []            \n",
    "            s = index - window_size\n",
    "            e = index + window_size + 1\n",
    "            \n",
    "            contexts.append([words[i] for i in range(s, e) if 0 <= i < L and i != index])\n",
    "            labels.append(word)\n",
    "\n",
    "            x = sequence.pad_sequences(contexts, maxlen=maxlen)\n",
    "            y = np_utils.to_categorical(labels, V)\n",
    "            yield (x, y)"
   ]
  },
  {
   "cell_type": "code",
   "execution_count": 4,
   "metadata": {},
   "outputs": [
    {
     "name": "stdout",
     "output_type": "stream",
     "text": [
      "WARNING:tensorflow:From C:\\Users\\Thijs\\Anaconda3\\envs\\Python35\\lib\\site-packages\\keras\\backend\\tensorflow_backend.py:1340: calling reduce_mean (from tensorflow.python.ops.math_ops) with keep_dims is deprecated and will be removed in a future version.\n",
      "Instructions for updating:\n",
      "keep_dims is deprecated, use keepdims instead\n"
     ]
    }
   ],
   "source": [
    "cbow = Sequential()\n",
    "cbow.add(Embedding(input_dim=V, output_dim=dim, input_length=window_size*2))\n",
    "cbow.add(Lambda(lambda x: K.mean(x, axis=1), output_shape=(dim,)))\n",
    "cbow.add(Dense(V, activation='softmax'))"
   ]
  },
  {
   "cell_type": "code",
   "execution_count": 5,
   "metadata": {},
   "outputs": [
    {
     "name": "stdout",
     "output_type": "stream",
     "text": [
      "WARNING:tensorflow:From C:\\Users\\Thijs\\Anaconda3\\envs\\Python35\\lib\\site-packages\\keras\\backend\\tensorflow_backend.py:2857: calling reduce_sum (from tensorflow.python.ops.math_ops) with keep_dims is deprecated and will be removed in a future version.\n",
      "Instructions for updating:\n",
      "keep_dims is deprecated, use keepdims instead\n"
     ]
    }
   ],
   "source": [
    "cbow.compile(loss='categorical_crossentropy', optimizer='adadelta')"
   ]
  },
  {
   "cell_type": "code",
   "execution_count": 6,
   "metadata": {},
   "outputs": [
    {
     "name": "stdout",
     "output_type": "stream",
     "text": [
      "0 42314.977483\n",
      "1 38594.8979433\n",
      "2 38768.2048302\n",
      "3 38873.7228633\n",
      "4 38952.0608069\n",
      "5 39006.2323149\n",
      "6 39026.7875525\n",
      "7 39042.6164962\n",
      "8 39066.4479563\n",
      "9 39093.9196522\n"
     ]
    }
   ],
   "source": [
    "for ite in range(10):\n",
    "    loss = 0.\n",
    "    for x, y in generate_data_cbow(corpus, window_size, V):\n",
    "        loss += cbow.train_on_batch(x, y)\n",
    "\n",
    "    print(ite, loss)"
   ]
  },
  {
   "cell_type": "code",
   "execution_count": 4,
   "metadata": {},
   "outputs": [],
   "source": [
    "def generate_data_skipgram(corpus, window_size, V):\n",
    "    maxlen = window_size*2\n",
    "    all_in = []\n",
    "    all_out = []\n",
    "    for words in corpus:\n",
    "        L = len(words)\n",
    "        for index, word in enumerate(words):\n",
    "            p = index - window_size\n",
    "            n = index + window_size + 1\n",
    "                    \n",
    "            in_words = []\n",
    "            labels = []\n",
    "            for i in range(p, n):\n",
    "                if i != index and 0 <= i < L:\n",
    "                    in_words.append([word])\n",
    "                    labels.append(words[i])\n",
    "            if in_words != []:\n",
    "                all_in.append(np.array(in_words,dtype=np.int32))\n",
    "                all_out.append(np_utils.to_categorical(labels, V))\n",
    "    return (all_in,all_out)"
   ]
  },
  {
   "cell_type": "code",
   "execution_count": 5,
   "metadata": {},
   "outputs": [],
   "source": [
    "#get x and y's for data\n",
    "x,y = generate_data_skipgram(corpus,window_size,V)#save the preprocessed data of Skipgram\n"
   ]
  },
  {
   "cell_type": "code",
   "execution_count": 6,
   "metadata": {},
   "outputs": [],
   "source": [
    "f = open('data_skipgram.txt' ,'w')\n",
    "\n",
    "for input,outcome  in zip(x,y):\n",
    "    input = np.concatenate(input)\n",
    "    f.write(\" \".join(map(str, list(input))))\n",
    "    f.write(\",\")\n",
    "    outcome = np.concatenate(outcome)\n",
    "    f.write(\" \".join(map(str,list(outcome))))\n",
    "    f.write(\"\\n\")\n",
    "f.close()"
   ]
  },
  {
   "cell_type": "code",
   "execution_count": 7,
   "metadata": {},
   "outputs": [],
   "source": [
    "#load the preprocessed Skipgram data\n",
    "def generate_data_skipgram_from_file():\n",
    "    f = open('data_skipgram.txt' ,'r')\n",
    "    for row in f:\n",
    "        inputs,outputs = row.split(\",\")\n",
    "        inputs = np.fromstring(inputs, dtype=int, sep=' ')\n",
    "        inputs = np.asarray(np.split(inputs, len(inputs)))\n",
    "        outputs = np.fromstring(outputs, dtype=float, sep=' ')\n",
    "        outputs = np.asarray(np.split(outputs, len(inputs)))\n",
    "        yield (inputs,outputs)"
   ]
  },
  {
   "cell_type": "code",
   "execution_count": 11,
   "metadata": {},
   "outputs": [],
   "source": [
    "skipgram = Sequential()\n",
    "skipgram.add(Embedding(input_dim=V, output_dim=dim, embeddings_initializer='glorot_uniform', input_length=1))\n",
    "skipgram.add(Reshape((dim, )))\n",
    "skipgram.add(Dense(input_dim=dim, units=V, kernel_initializer='uniform', activation='softmax'))"
   ]
  },
  {
   "cell_type": "code",
   "execution_count": 12,
   "metadata": {},
   "outputs": [],
   "source": [
    "skipgram.compile(loss='categorical_crossentropy', optimizer='adadelta')"
   ]
  },
  {
   "cell_type": "code",
   "execution_count": 13,
   "metadata": {},
   "outputs": [
    {
     "name": "stdout",
     "output_type": "stream",
     "text": [
      "0 42004.6379657\n",
      "1 38352.4237516\n",
      "2 38925.4058473\n",
      "3 39342.3078592\n",
      "4 39507.9859626\n",
      "5 39673.5729046\n",
      "6 39836.0326133\n",
      "7 40010.7845144\n",
      "8 40190.7613418\n",
      "9 40370.2071753\n"
     ]
    }
   ],
   "source": [
    "for ite in range(10):\n",
    "    loss = 0.\n",
    "    for x, y in generate_data_skipgram_from_file():\n",
    "        loss += skipgram.train_on_batch(x, y)\n",
    "\n",
    "    print(ite, loss)"
   ]
  },
  {
   "cell_type": "markdown",
   "metadata": {},
   "source": [
    "## Activation for the dense layer\n",
    "\n",
    "As can be seen below we tried several different activation functions as an extra dense layer. After some research online we decided that at least we wanted to test both ELU and ReLU as activation functions. Apart from these two functions we also wanted to try one else which became Sigmoid. Since ELU and ReLU both are quite good with dealing with vanishing gradients we felt like we needed another layer which strong point was not dealing with the vanishing gradient. Even though Sigmoid and Softmax show similarities we wanted to at least try it to make sure that indeed it would not be the best solution. And as can be seen below it indeed was not the best choice as a second dense layer. \n",
    "\n",
    "Because we did not know which one would perform best we decided that we would try all three. We put the activation layers in before the Softmax layer since Softmax is usually used as the last layer in the hidden layers of a neural network. This because Softmax normalizes the results while minimizing the cross-entropy/negative likelihood between the predictions and the actual outcome. "
   ]
  },
  {
   "cell_type": "code",
   "execution_count": 61,
   "metadata": {},
   "outputs": [],
   "source": [
    "#create CBOW model with additional dense layer        \n",
    "dcbow = Sequential()\n",
    "dcbow.add(Embedding(input_dim=V, output_dim=dim, input_length=window_size*2))\n",
    "dcbow.add(Lambda(lambda x: K.mean(x, axis=1), output_shape=(dim,)))\n",
    "dcbow.add(Dense(V, activation='elu'))\n",
    "#dcbow.add(Dense(V, activation='sigmoid'))\n",
    "#dcbow.add(Dense(V, activation='relu'))\n",
    "dcbow.add(Dense(V, activation='softmax'))\n",
    "\n"
   ]
  },
  {
   "cell_type": "code",
   "execution_count": 62,
   "metadata": {},
   "outputs": [],
   "source": [
    "#define loss function for CBOW + dense\n",
    "dcbow.compile(loss='categorical_crossentropy', optimizer='adadelta')"
   ]
  },
  {
   "cell_type": "code",
   "execution_count": 65,
   "metadata": {
    "scrolled": true
   },
   "outputs": [
    {
     "name": "stdout",
     "output_type": "stream",
     "text": [
      "0 39850.4765533\n"
     ]
    },
    {
     "ename": "KeyboardInterrupt",
     "evalue": "",
     "output_type": "error",
     "traceback": [
      "\u001b[1;31m---------------------------------------------------------------------------\u001b[0m",
      "\u001b[1;31mKeyboardInterrupt\u001b[0m                         Traceback (most recent call last)",
      "\u001b[1;32m<ipython-input-65-538e6c1b5b90>\u001b[0m in \u001b[0;36m<module>\u001b[1;34m()\u001b[0m\n\u001b[0;32m      3\u001b[0m     \u001b[0mloss\u001b[0m \u001b[1;33m=\u001b[0m \u001b[1;36m0.\u001b[0m\u001b[1;33m\u001b[0m\u001b[0m\n\u001b[0;32m      4\u001b[0m     \u001b[1;32mfor\u001b[0m \u001b[0mx\u001b[0m\u001b[1;33m,\u001b[0m \u001b[0my\u001b[0m \u001b[1;32min\u001b[0m \u001b[0mgenerate_data_cbow\u001b[0m\u001b[1;33m(\u001b[0m\u001b[0mcorpus\u001b[0m\u001b[1;33m,\u001b[0m \u001b[0mwindow_size\u001b[0m\u001b[1;33m,\u001b[0m \u001b[0mV\u001b[0m\u001b[1;33m)\u001b[0m\u001b[1;33m:\u001b[0m\u001b[1;33m\u001b[0m\u001b[0m\n\u001b[1;32m----> 5\u001b[1;33m         \u001b[0mloss\u001b[0m \u001b[1;33m+=\u001b[0m \u001b[0mdcbow\u001b[0m\u001b[1;33m.\u001b[0m\u001b[0mtrain_on_batch\u001b[0m\u001b[1;33m(\u001b[0m\u001b[0mx\u001b[0m\u001b[1;33m,\u001b[0m \u001b[0my\u001b[0m\u001b[1;33m)\u001b[0m\u001b[1;33m\u001b[0m\u001b[0m\n\u001b[0m\u001b[0;32m      6\u001b[0m \u001b[1;33m\u001b[0m\u001b[0m\n\u001b[0;32m      7\u001b[0m     \u001b[0mprint\u001b[0m\u001b[1;33m(\u001b[0m\u001b[0mite\u001b[0m\u001b[1;33m,\u001b[0m \u001b[0mloss\u001b[0m\u001b[1;33m)\u001b[0m\u001b[1;33m\u001b[0m\u001b[0m\n",
      "\u001b[1;32m~\\Anaconda3\\envs\\Python35\\lib\\site-packages\\keras\\models.py\u001b[0m in \u001b[0;36mtrain_on_batch\u001b[1;34m(self, x, y, class_weight, sample_weight)\u001b[0m\n\u001b[0;32m    979\u001b[0m         return self.model.train_on_batch(x, y,\n\u001b[0;32m    980\u001b[0m                                          \u001b[0msample_weight\u001b[0m\u001b[1;33m=\u001b[0m\u001b[0msample_weight\u001b[0m\u001b[1;33m,\u001b[0m\u001b[1;33m\u001b[0m\u001b[0m\n\u001b[1;32m--> 981\u001b[1;33m                                          class_weight=class_weight)\n\u001b[0m\u001b[0;32m    982\u001b[0m \u001b[1;33m\u001b[0m\u001b[0m\n\u001b[0;32m    983\u001b[0m     def test_on_batch(self, x, y,\n",
      "\u001b[1;32m~\\Anaconda3\\envs\\Python35\\lib\\site-packages\\keras\\engine\\training.py\u001b[0m in \u001b[0;36mtrain_on_batch\u001b[1;34m(self, x, y, sample_weight, class_weight)\u001b[0m\n\u001b[0;32m   1795\u001b[0m             \u001b[0mins\u001b[0m \u001b[1;33m=\u001b[0m \u001b[0mx\u001b[0m \u001b[1;33m+\u001b[0m \u001b[0my\u001b[0m \u001b[1;33m+\u001b[0m \u001b[0msample_weights\u001b[0m\u001b[1;33m\u001b[0m\u001b[0m\n\u001b[0;32m   1796\u001b[0m         \u001b[0mself\u001b[0m\u001b[1;33m.\u001b[0m\u001b[0m_make_train_function\u001b[0m\u001b[1;33m(\u001b[0m\u001b[1;33m)\u001b[0m\u001b[1;33m\u001b[0m\u001b[0m\n\u001b[1;32m-> 1797\u001b[1;33m         \u001b[0moutputs\u001b[0m \u001b[1;33m=\u001b[0m \u001b[0mself\u001b[0m\u001b[1;33m.\u001b[0m\u001b[0mtrain_function\u001b[0m\u001b[1;33m(\u001b[0m\u001b[0mins\u001b[0m\u001b[1;33m)\u001b[0m\u001b[1;33m\u001b[0m\u001b[0m\n\u001b[0m\u001b[0;32m   1798\u001b[0m         \u001b[1;32mif\u001b[0m \u001b[0mlen\u001b[0m\u001b[1;33m(\u001b[0m\u001b[0moutputs\u001b[0m\u001b[1;33m)\u001b[0m \u001b[1;33m==\u001b[0m \u001b[1;36m1\u001b[0m\u001b[1;33m:\u001b[0m\u001b[1;33m\u001b[0m\u001b[0m\n\u001b[0;32m   1799\u001b[0m             \u001b[1;32mreturn\u001b[0m \u001b[0moutputs\u001b[0m\u001b[1;33m[\u001b[0m\u001b[1;36m0\u001b[0m\u001b[1;33m]\u001b[0m\u001b[1;33m\u001b[0m\u001b[0m\n",
      "\u001b[1;32m~\\Anaconda3\\envs\\Python35\\lib\\site-packages\\keras\\backend\\tensorflow_backend.py\u001b[0m in \u001b[0;36m__call__\u001b[1;34m(self, inputs)\u001b[0m\n\u001b[0;32m   2330\u001b[0m         updated = session.run(self.outputs + [self.updates_op],\n\u001b[0;32m   2331\u001b[0m                               \u001b[0mfeed_dict\u001b[0m\u001b[1;33m=\u001b[0m\u001b[0mfeed_dict\u001b[0m\u001b[1;33m,\u001b[0m\u001b[1;33m\u001b[0m\u001b[0m\n\u001b[1;32m-> 2332\u001b[1;33m                               **self.session_kwargs)\n\u001b[0m\u001b[0;32m   2333\u001b[0m         \u001b[1;32mreturn\u001b[0m \u001b[0mupdated\u001b[0m\u001b[1;33m[\u001b[0m\u001b[1;33m:\u001b[0m\u001b[0mlen\u001b[0m\u001b[1;33m(\u001b[0m\u001b[0mself\u001b[0m\u001b[1;33m.\u001b[0m\u001b[0moutputs\u001b[0m\u001b[1;33m)\u001b[0m\u001b[1;33m]\u001b[0m\u001b[1;33m\u001b[0m\u001b[0m\n\u001b[0;32m   2334\u001b[0m \u001b[1;33m\u001b[0m\u001b[0m\n",
      "\u001b[1;32m~\\Anaconda3\\envs\\Python35\\lib\\site-packages\\tensorflow\\python\\client\\session.py\u001b[0m in \u001b[0;36mrun\u001b[1;34m(self, fetches, feed_dict, options, run_metadata)\u001b[0m\n\u001b[0;32m    893\u001b[0m     \u001b[1;32mtry\u001b[0m\u001b[1;33m:\u001b[0m\u001b[1;33m\u001b[0m\u001b[0m\n\u001b[0;32m    894\u001b[0m       result = self._run(None, fetches, feed_dict, options_ptr,\n\u001b[1;32m--> 895\u001b[1;33m                          run_metadata_ptr)\n\u001b[0m\u001b[0;32m    896\u001b[0m       \u001b[1;32mif\u001b[0m \u001b[0mrun_metadata\u001b[0m\u001b[1;33m:\u001b[0m\u001b[1;33m\u001b[0m\u001b[0m\n\u001b[0;32m    897\u001b[0m         \u001b[0mproto_data\u001b[0m \u001b[1;33m=\u001b[0m \u001b[0mtf_session\u001b[0m\u001b[1;33m.\u001b[0m\u001b[0mTF_GetBuffer\u001b[0m\u001b[1;33m(\u001b[0m\u001b[0mrun_metadata_ptr\u001b[0m\u001b[1;33m)\u001b[0m\u001b[1;33m\u001b[0m\u001b[0m\n",
      "\u001b[1;32m~\\Anaconda3\\envs\\Python35\\lib\\site-packages\\tensorflow\\python\\client\\session.py\u001b[0m in \u001b[0;36m_run\u001b[1;34m(self, handle, fetches, feed_dict, options, run_metadata)\u001b[0m\n\u001b[0;32m   1126\u001b[0m     \u001b[1;32mif\u001b[0m \u001b[0mfinal_fetches\u001b[0m \u001b[1;32mor\u001b[0m \u001b[0mfinal_targets\u001b[0m \u001b[1;32mor\u001b[0m \u001b[1;33m(\u001b[0m\u001b[0mhandle\u001b[0m \u001b[1;32mand\u001b[0m \u001b[0mfeed_dict_tensor\u001b[0m\u001b[1;33m)\u001b[0m\u001b[1;33m:\u001b[0m\u001b[1;33m\u001b[0m\u001b[0m\n\u001b[0;32m   1127\u001b[0m       results = self._do_run(handle, final_targets, final_fetches,\n\u001b[1;32m-> 1128\u001b[1;33m                              feed_dict_tensor, options, run_metadata)\n\u001b[0m\u001b[0;32m   1129\u001b[0m     \u001b[1;32melse\u001b[0m\u001b[1;33m:\u001b[0m\u001b[1;33m\u001b[0m\u001b[0m\n\u001b[0;32m   1130\u001b[0m       \u001b[0mresults\u001b[0m \u001b[1;33m=\u001b[0m \u001b[1;33m[\u001b[0m\u001b[1;33m]\u001b[0m\u001b[1;33m\u001b[0m\u001b[0m\n",
      "\u001b[1;32m~\\Anaconda3\\envs\\Python35\\lib\\site-packages\\tensorflow\\python\\client\\session.py\u001b[0m in \u001b[0;36m_do_run\u001b[1;34m(self, handle, target_list, fetch_list, feed_dict, options, run_metadata)\u001b[0m\n\u001b[0;32m   1342\u001b[0m     \u001b[1;32mif\u001b[0m \u001b[0mhandle\u001b[0m \u001b[1;32mis\u001b[0m \u001b[1;32mNone\u001b[0m\u001b[1;33m:\u001b[0m\u001b[1;33m\u001b[0m\u001b[0m\n\u001b[0;32m   1343\u001b[0m       return self._do_call(_run_fn, self._session, feeds, fetches, targets,\n\u001b[1;32m-> 1344\u001b[1;33m                            options, run_metadata)\n\u001b[0m\u001b[0;32m   1345\u001b[0m     \u001b[1;32melse\u001b[0m\u001b[1;33m:\u001b[0m\u001b[1;33m\u001b[0m\u001b[0m\n\u001b[0;32m   1346\u001b[0m       \u001b[1;32mreturn\u001b[0m \u001b[0mself\u001b[0m\u001b[1;33m.\u001b[0m\u001b[0m_do_call\u001b[0m\u001b[1;33m(\u001b[0m\u001b[0m_prun_fn\u001b[0m\u001b[1;33m,\u001b[0m \u001b[0mself\u001b[0m\u001b[1;33m.\u001b[0m\u001b[0m_session\u001b[0m\u001b[1;33m,\u001b[0m \u001b[0mhandle\u001b[0m\u001b[1;33m,\u001b[0m \u001b[0mfeeds\u001b[0m\u001b[1;33m,\u001b[0m \u001b[0mfetches\u001b[0m\u001b[1;33m)\u001b[0m\u001b[1;33m\u001b[0m\u001b[0m\n",
      "\u001b[1;32m~\\Anaconda3\\envs\\Python35\\lib\\site-packages\\tensorflow\\python\\client\\session.py\u001b[0m in \u001b[0;36m_do_call\u001b[1;34m(self, fn, *args)\u001b[0m\n\u001b[0;32m   1348\u001b[0m   \u001b[1;32mdef\u001b[0m \u001b[0m_do_call\u001b[0m\u001b[1;33m(\u001b[0m\u001b[0mself\u001b[0m\u001b[1;33m,\u001b[0m \u001b[0mfn\u001b[0m\u001b[1;33m,\u001b[0m \u001b[1;33m*\u001b[0m\u001b[0margs\u001b[0m\u001b[1;33m)\u001b[0m\u001b[1;33m:\u001b[0m\u001b[1;33m\u001b[0m\u001b[0m\n\u001b[0;32m   1349\u001b[0m     \u001b[1;32mtry\u001b[0m\u001b[1;33m:\u001b[0m\u001b[1;33m\u001b[0m\u001b[0m\n\u001b[1;32m-> 1350\u001b[1;33m       \u001b[1;32mreturn\u001b[0m \u001b[0mfn\u001b[0m\u001b[1;33m(\u001b[0m\u001b[1;33m*\u001b[0m\u001b[0margs\u001b[0m\u001b[1;33m)\u001b[0m\u001b[1;33m\u001b[0m\u001b[0m\n\u001b[0m\u001b[0;32m   1351\u001b[0m     \u001b[1;32mexcept\u001b[0m \u001b[0merrors\u001b[0m\u001b[1;33m.\u001b[0m\u001b[0mOpError\u001b[0m \u001b[1;32mas\u001b[0m \u001b[0me\u001b[0m\u001b[1;33m:\u001b[0m\u001b[1;33m\u001b[0m\u001b[0m\n\u001b[0;32m   1352\u001b[0m       \u001b[0mmessage\u001b[0m \u001b[1;33m=\u001b[0m \u001b[0mcompat\u001b[0m\u001b[1;33m.\u001b[0m\u001b[0mas_text\u001b[0m\u001b[1;33m(\u001b[0m\u001b[0me\u001b[0m\u001b[1;33m.\u001b[0m\u001b[0mmessage\u001b[0m\u001b[1;33m)\u001b[0m\u001b[1;33m\u001b[0m\u001b[0m\n",
      "\u001b[1;32m~\\Anaconda3\\envs\\Python35\\lib\\site-packages\\tensorflow\\python\\client\\session.py\u001b[0m in \u001b[0;36m_run_fn\u001b[1;34m(session, feed_dict, fetch_list, target_list, options, run_metadata)\u001b[0m\n\u001b[0;32m   1327\u001b[0m           return tf_session.TF_Run(session, options,\n\u001b[0;32m   1328\u001b[0m                                    \u001b[0mfeed_dict\u001b[0m\u001b[1;33m,\u001b[0m \u001b[0mfetch_list\u001b[0m\u001b[1;33m,\u001b[0m \u001b[0mtarget_list\u001b[0m\u001b[1;33m,\u001b[0m\u001b[1;33m\u001b[0m\u001b[0m\n\u001b[1;32m-> 1329\u001b[1;33m                                    status, run_metadata)\n\u001b[0m\u001b[0;32m   1330\u001b[0m \u001b[1;33m\u001b[0m\u001b[0m\n\u001b[0;32m   1331\u001b[0m     \u001b[1;32mdef\u001b[0m \u001b[0m_prun_fn\u001b[0m\u001b[1;33m(\u001b[0m\u001b[0msession\u001b[0m\u001b[1;33m,\u001b[0m \u001b[0mhandle\u001b[0m\u001b[1;33m,\u001b[0m \u001b[0mfeed_dict\u001b[0m\u001b[1;33m,\u001b[0m \u001b[0mfetch_list\u001b[0m\u001b[1;33m)\u001b[0m\u001b[1;33m:\u001b[0m\u001b[1;33m\u001b[0m\u001b[0m\n",
      "\u001b[1;31mKeyboardInterrupt\u001b[0m: "
     ]
    }
   ],
   "source": [
    "#train model for CBOW + dense elu activation\n",
    "for ite in range(10):\n",
    "    loss = 0.\n",
    "    for x, y in generate_data_cbow(corpus, window_size, V):\n",
    "        loss += dcbow.train_on_batch(x, y)\n",
    "\n",
    "    print(ite, loss)"
   ]
  },
  {
   "cell_type": "code",
   "execution_count": 25,
   "metadata": {},
   "outputs": [],
   "source": [
    "dcbow.save('dcbow_elu.h5')"
   ]
  },
  {
   "cell_type": "code",
   "execution_count": 30,
   "metadata": {},
   "outputs": [
    {
     "name": "stdout",
     "output_type": "stream",
     "text": [
      "0 42573.9224706\n",
      "1 40779.2916886\n",
      "2 40212.4141967\n",
      "3 40963.4117401\n",
      "4 42315.4382861\n",
      "5 43557.8121278\n",
      "6 44557.614516\n",
      "7 45347.3085792\n",
      "8 45826.0357494\n",
      "9 45717.4792516\n"
     ]
    }
   ],
   "source": [
    "#train model for CBOW + dense sigmoid activation\n",
    "for ite in range(10):\n",
    "    loss = 0.\n",
    "    for x, y in generate_data_cbow(corpus, window_size, V):\n",
    "        loss += dcbow.train_on_batch(x, y)\n",
    "\n",
    "    print(ite, loss)"
   ]
  },
  {
   "cell_type": "code",
   "execution_count": 31,
   "metadata": {},
   "outputs": [],
   "source": [
    "dcbow.save('dcbow_Sigmoid.h5')"
   ]
  },
  {
   "cell_type": "code",
   "execution_count": 34,
   "metadata": {},
   "outputs": [
    {
     "name": "stdout",
     "output_type": "stream",
     "text": [
      "0 40066.6369147\n",
      "1 38122.0871696\n",
      "2 37527.2364669\n",
      "3 37265.8932388\n",
      "4 37098.9213078\n",
      "5 36907.566846\n",
      "6 36689.9979763\n",
      "7 36465.4231402\n",
      "8 36250.071865\n",
      "9 36031.9165194\n"
     ]
    }
   ],
   "source": [
    "for ite in range(10):\n",
    "    loss = 0.\n",
    "    for x, y in generate_data_cbow(corpus, window_size, V):\n",
    "        loss += dcbow.train_on_batch(x, y)\n",
    "\n",
    "    print(ite, loss)"
   ]
  },
  {
   "cell_type": "code",
   "execution_count": 35,
   "metadata": {},
   "outputs": [],
   "source": [
    "dcbow.save('dcbow_Relu.h5')"
   ]
  },
  {
   "cell_type": "code",
   "execution_count": 9,
   "metadata": {},
   "outputs": [],
   "source": [
    "#create Skipgram with additional dense layer\n",
    "dskipgram = Sequential()\n",
    "dskipgram.add(Embedding(input_dim=V, output_dim=dim, embeddings_initializer='glorot_uniform', input_length=1))\n",
    "dskipgram.add(Reshape((dim, )))\n",
    "dskipgram.add(Dense(input_dim=dim, units=V, kernel_initializer='uniform', activation='elu'))\n",
    "dskipgram.add(Dense(input_dim=dim, units=V, kernel_initializer='uniform', activation='softmax'))\n"
   ]
  },
  {
   "cell_type": "code",
   "execution_count": 10,
   "metadata": {},
   "outputs": [
    {
     "name": "stdout",
     "output_type": "stream",
     "text": [
      "WARNING:tensorflow:From C:\\Users\\Thijs\\Anaconda3\\envs\\Python35\\lib\\site-packages\\keras\\backend\\tensorflow_backend.py:2857: calling reduce_sum (from tensorflow.python.ops.math_ops) with keep_dims is deprecated and will be removed in a future version.\n",
      "Instructions for updating:\n",
      "keep_dims is deprecated, use keepdims instead\n",
      "WARNING:tensorflow:From C:\\Users\\Thijs\\Anaconda3\\envs\\Python35\\lib\\site-packages\\keras\\backend\\tensorflow_backend.py:1340: calling reduce_mean (from tensorflow.python.ops.math_ops) with keep_dims is deprecated and will be removed in a future version.\n",
      "Instructions for updating:\n",
      "keep_dims is deprecated, use keepdims instead\n"
     ]
    }
   ],
   "source": [
    "#define loss function for Skipgram + dense\n",
    "dskipgram.compile(loss='categorical_crossentropy', optimizer='adadelta')"
   ]
  },
  {
   "cell_type": "code",
   "execution_count": 11,
   "metadata": {},
   "outputs": [
    {
     "name": "stdout",
     "output_type": "stream",
     "text": [
      "0 39171.4094963\n",
      "1 37593.4716475\n",
      "2 37049.7866344\n",
      "3 36863.5996245\n",
      "4 36989.3757836\n",
      "5 37082.103549\n",
      "6 37015.1577585\n",
      "7 36882.7768184\n",
      "8 36745.6724875\n",
      "9 36615.3105249\n"
     ]
    }
   ],
   "source": [
    "#train model for Skipgram + dense\n",
    "for ite in range(10):\n",
    "    loss = 0.\n",
    "    for x, y in generate_data_skipgram_from_file():\n",
    "        loss += dskipgram.train_on_batch(x, y)\n",
    "\n",
    "    print(ite, loss)"
   ]
  },
  {
   "cell_type": "code",
   "execution_count": 12,
   "metadata": {},
   "outputs": [],
   "source": [
    "dskipgram.save('dskipgram_elu.h5')"
   ]
  },
  {
   "cell_type": "code",
   "execution_count": 13,
   "metadata": {},
   "outputs": [],
   "source": [
    "#create Skipgram with additional dense layer\n",
    "dskipgram = Sequential()\n",
    "dskipgram.add(Embedding(input_dim=V, output_dim=dim, embeddings_initializer='glorot_uniform', input_length=1))\n",
    "dskipgram.add(Reshape((dim, )))\n",
    "dskipgram.add(Dense(input_dim=dim, units=V, kernel_initializer='uniform', activation='sigmoid'))\n",
    "dskipgram.add(Dense(input_dim=dim, units=V, kernel_initializer='uniform', activation='softmax'))"
   ]
  },
  {
   "cell_type": "code",
   "execution_count": 14,
   "metadata": {},
   "outputs": [],
   "source": [
    "#define loss function for Skipgram + dense\n",
    "dskipgram.compile(loss='categorical_crossentropy', optimizer='adadelta')"
   ]
  },
  {
   "cell_type": "code",
   "execution_count": 15,
   "metadata": {},
   "outputs": [
    {
     "name": "stdout",
     "output_type": "stream",
     "text": [
      "0 39699.7591234\n",
      "1 39342.0153301\n",
      "2 39097.7367924\n",
      "3 38975.9978857\n",
      "4 39085.1981041\n",
      "5 39359.1998932\n",
      "6 39351.1995022\n",
      "7 39203.5751615\n",
      "8 39015.3584349\n",
      "9 38764.1542244\n"
     ]
    }
   ],
   "source": [
    "#train model for Skipgram + dense\n",
    "for ite in range(10):\n",
    "    loss = 0.\n",
    "    for x, y in generate_data_skipgram_from_file():\n",
    "        loss += dskipgram.train_on_batch(x, y)\n",
    "\n",
    "    print(ite, loss)"
   ]
  },
  {
   "cell_type": "code",
   "execution_count": 19,
   "metadata": {},
   "outputs": [],
   "source": [
    "dskipgram.save('dskipgram_sigmoid.h5')"
   ]
  },
  {
   "cell_type": "code",
   "execution_count": 20,
   "metadata": {},
   "outputs": [],
   "source": [
    "#create Skipgram with additional dense layer\n",
    "dskipgram = Sequential()\n",
    "dskipgram.add(Embedding(input_dim=V, output_dim=dim, embeddings_initializer='glorot_uniform', input_length=1))\n",
    "dskipgram.add(Reshape((dim, )))\n",
    "dskipgram.add(Dense(input_dim=dim, units=V, kernel_initializer='uniform', activation='relu'))\n",
    "dskipgram.add(Dense(input_dim=dim, units=V, kernel_initializer='uniform', activation='softmax'))"
   ]
  },
  {
   "cell_type": "code",
   "execution_count": 21,
   "metadata": {},
   "outputs": [],
   "source": [
    "#define loss function for Skipgram + dense\n",
    "dskipgram.compile(loss='categorical_crossentropy', optimizer='adadelta')"
   ]
  },
  {
   "cell_type": "code",
   "execution_count": 22,
   "metadata": {},
   "outputs": [
    {
     "name": "stdout",
     "output_type": "stream",
     "text": [
      "0 39437.579227\n",
      "1 38211.8743823\n",
      "2 37820.7792289\n",
      "3 37606.3476986\n",
      "4 37546.8119706\n",
      "5 37517.1473264\n",
      "6 37465.703705\n",
      "7 37408.8727797\n",
      "8 37353.1536354\n",
      "9 37295.5879925\n"
     ]
    }
   ],
   "source": [
    "#train model for Skipgram + dense\n",
    "for ite in range(10):\n",
    "    loss = 0.\n",
    "    for x, y in generate_data_skipgram_from_file():\n",
    "        loss += dskipgram.train_on_batch(x, y)\n",
    "\n",
    "    print(ite, loss)"
   ]
  },
  {
   "cell_type": "code",
   "execution_count": 23,
   "metadata": {},
   "outputs": [],
   "source": [
    "dskipgram.save('dskipgram_Relu.h5')"
   ]
  },
  {
   "cell_type": "code",
   "execution_count": 116,
   "metadata": {},
   "outputs": [
    {
     "name": "stdout",
     "output_type": "stream",
     "text": [
      "(1182,)\n",
      "(1182,)\n",
      "(1182,)\n",
      "(1182,)\n",
      "(1182,)\n",
      "(1182,)\n",
      "(1182,)\n",
      "(1182,)\n",
      "(1182,)\n",
      "(1182,)\n",
      "(1182,)\n",
      "(1182,)\n",
      "(1182,)\n",
      "(1182,)\n",
      "(1182,)\n",
      "(1182,)\n",
      "(1182,)\n",
      "(1182,)\n",
      "(1182,)\n",
      "(1182,)\n",
      "(1182,)\n",
      "(1182,)\n",
      "(1182,)\n",
      "(1182,)\n",
      "(1182,)\n",
      "(1182,)\n",
      "(1182,)\n",
      "(1182,)\n",
      "(1182,)\n",
      "(1182,)\n",
      "(1182,)\n",
      "(1182,)\n",
      "(1182,)\n",
      "(1182,)\n",
      "(1182,)\n",
      "(1182,)\n",
      "(1182,)\n",
      "(1182,)\n",
      "(1182,)\n",
      "(1182,)\n",
      "(1182,)\n",
      "(1182,)\n",
      "(1182,)\n",
      "(1182,)\n",
      "(1182,)\n",
      "(1182,)\n",
      "(1182,)\n",
      "(1182,)\n",
      "(1182,)\n",
      "(1182,)\n",
      "(1182,)\n",
      "(1182,)\n",
      "(1182,)\n",
      "(1182,)\n",
      "(1182,)\n",
      "(1182,)\n",
      "(1182,)\n",
      "(1182,)\n",
      "(1182,)\n",
      "(1182,)\n",
      "(1182,)\n",
      "(1182,)\n",
      "(1182,)\n",
      "(1182,)\n",
      "(1182,)\n",
      "(1182,)\n",
      "(1182,)\n",
      "(1182,)\n",
      "(1182,)\n",
      "(1182,)\n",
      "(1182,)\n",
      "(1182,)\n",
      "(1182,)\n",
      "(1182,)\n",
      "(1182,)\n",
      "(1182,)\n"
     ]
    }
   ],
   "source": [
    "from sklearn.metrics.pairwise import cosine_similarity\n",
    "path_anal = 'Data/analogy_alice.txt'\n",
    "corpus_anal = open(path_anal).readlines()[0:47]\n",
    "\n",
    "corpus_anal = [sentence for sentence in corpus_anal if sentence.count(\" \") >= 2]\n",
    "corpus_anal = [sentence.split() for sentence in corpus_anal]\n",
    "\n",
    "for sentence in corpus_anal:\n",
    "        for i in range(len(sentence)):\n",
    "            try:\n",
    "                sentence[i] = tokenizer.word_index[sentence[i]]\n",
    "            except:\n",
    "                #print(\"One or more words not in vocabulary\")\n",
    "                pass\n",
    "        weights = co_occurence\n",
    "        if type(sentence[0]) == type(sentence[1]) == type(sentence[2]) == type(sentence[3]) == int:\n",
    "            co_occurence_output = weights[sentence[0]] - weights[sentence[1]] + weights[sentence[2]]\n",
    "            ground_truth = weights[sentence[3]]\n",
    "            print(co_occurence_output.shape)\n",
    "            co_occurence_output.reshape(-1,1)\n",
    "            ground_truth.reshape(-1,1)\n",
    "            print(co_occurence_output.shape)\n",
    "            #similarity = cosine_similarity(co_occurence_output,ground_truth)\n",
    "            #print(similarity)\n",
    "        # bereken cosine\n",
    "\n",
    "#print(corpus_anal)\n"
   ]
  },
  {
   "cell_type": "markdown",
   "metadata": {},
   "source": [
    "Comparison performance:"
   ]
  },
  {
   "cell_type": "code",
   "execution_count": null,
   "metadata": {},
   "outputs": [],
   "source": [
    "#Visualization results trained word embeddings\n",
    "\n",
    "from sklearn.manifold import TSNE\n",
    "import matplotlib.pyplot as plt\n",
    "\n",
    "n_sne = 1000\n",
    "tsne = TSNE(verbose=1)\n",
    "tsne_results = tsne.fit_transform(co_occurence[:])\n",
    "\n",
    "df_tsne = {}\n",
    "df_tsne['x-tsne'] = tsne_results[:,0]\n",
    "df_tsne['y-tsne'] = tsne_results[:,1]\n",
    "%matplotlib inline\n",
    "\n",
    "plt.scatter(df_tsne['x-tsne'], df_tsne['y-tsne'])\n"
   ]
  },
  {
   "cell_type": "markdown",
   "metadata": {},
   "source": [
    "Interpretation results of the visualization"
   ]
  },
  {
   "cell_type": "markdown",
   "metadata": {},
   "source": [
    "Compare the results of the trained word embeddings with the word-word co-occurrence matrix"
   ]
  },
  {
   "cell_type": "markdown",
   "metadata": {},
   "source": [
    "Discussion of the advantages of CBOW and Skipgram, the advantages of negative sampling and drawbacks of CBOW and Skipgram"
   ]
  },
  {
   "cell_type": "code",
   "execution_count": null,
   "metadata": {},
   "outputs": [],
   "source": [
    "#load pretrained word embeddings of word2vec\n",
    "\n",
    "path_word2vec = \"your path /GoogleNews-vectors-negative300.bin\"\n",
    "\n",
    "word2vec = KeyedVectors.load_word2vec_format(path_word2vec, binary=True)"
   ]
  },
  {
   "cell_type": "code",
   "execution_count": null,
   "metadata": {},
   "outputs": [],
   "source": [
    "#load pretraind word embeddings of Glove\n",
    "\n",
    "path = \"your path /glove.6B/glove.6B.300d_converted.txt\"\n",
    "\n",
    "#convert GloVe into word2vec format\n",
    "gensim.scripts.glove2word2vec.get_glove_info(path)\n",
    "gensim.scripts.glove2word2vec.glove2word2vec(path, \"glove_converted.txt\")\n",
    "\n",
    "glove = KeyedVectors.load_word2vec_format(path, binary=False)"
   ]
  },
  {
   "cell_type": "code",
   "execution_count": null,
   "metadata": {},
   "outputs": [],
   "source": [
    "#Visualize the pre-trained word embeddings"
   ]
  },
  {
   "cell_type": "markdown",
   "metadata": {},
   "source": [
    "Comparison performance with your own trained word embeddings"
   ]
  },
  {
   "cell_type": "code",
   "execution_count": null,
   "metadata": {},
   "outputs": [],
   "source": []
  }
 ],
 "metadata": {
  "kernelspec": {
   "display_name": "Python 3",
   "language": "python",
   "name": "python3"
  },
  "language_info": {
   "codemirror_mode": {
    "name": "ipython",
    "version": 3
   },
   "file_extension": ".py",
   "mimetype": "text/x-python",
   "name": "python",
   "nbconvert_exporter": "python",
   "pygments_lexer": "ipython3",
   "version": "3.5.4"
  }
 },
 "nbformat": 4,
 "nbformat_minor": 2
}
