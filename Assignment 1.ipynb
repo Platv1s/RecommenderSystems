{
 "cells": [
  {
   "cell_type": "markdown",
   "metadata": {},
   "source": [
    "# Assignment 1\n"
   ]
  },
  {
   "cell_type": "code",
   "execution_count": 1,
   "metadata": {},
   "outputs": [
    {
     "name": "stderr",
     "output_type": "stream",
     "text": [
      "Using TensorFlow backend.\n",
      "C:\\Users\\Thijs\\Anaconda3\\envs\\Python35\\lib\\site-packages\\gensim\\utils.py:1167: UserWarning: detected Windows; aliasing chunkize to chunkize_serial\n",
      "  warnings.warn(\"detected Windows; aliasing chunkize to chunkize_serial\")\n"
     ]
    }
   ],
   "source": [
    "import numpy as np\n",
    "np.random.seed(13) #TODO Check if this is used for sgd\n",
    "import keras.backend as K\n",
    "from keras.models import Sequential\n",
    "from keras.layers import Dense, Embedding, Reshape, Lambda\n",
    "from keras.utils import np_utils\n",
    "from keras.utils.data_utils import get_file\n",
    "from keras.preprocessing.text import Tokenizer\n",
    "from keras.utils.vis_utils import model_to_dot\n",
    "from keras.preprocessing import sequence\n",
    "from gensim.models import KeyedVectors\n",
    "from sklearn.manifold import TSNE\n",
    "from sklearn.metrics.pairwise import cosine_similarity\n",
    "from sklearn.neighbors import NearestNeighbors as nn\n",
    "from matplotlib import pylab\n",
    "from __future__ import division"
   ]
  },
  {
   "cell_type": "code",
   "execution_count": null,
   "metadata": {},
   "outputs": [],
   "source": []
  },
  {
   "cell_type": "code",
   "execution_count": 2,
   "metadata": {},
   "outputs": [],
   "source": [
    "# DO NOT Modify the lines in this cell\n",
    "path = 'alice.txt'\n",
    "corpus = open(path).readlines()[0:700]\n",
    "\n",
    "corpus = [sentence for sentence in corpus if sentence.count(\" \") >= 2]\n",
    "\n",
    "tokenizer = Tokenizer(filters='!\"#$%&()*+,-./:;<=>?@[\\\\]^_`{|}~\\t\\n'+\"'\")\n",
    "tokenizer.fit_on_texts(corpus)\n",
    "corpus = tokenizer.texts_to_sequences(corpus)\n",
    "nb_samples = sum(len(s) for s in corpus)\n",
    "V = len(tokenizer.word_index) + 1\n",
    "\n",
    "# Is this something they need to change?\n",
    "dim = 100\n",
    "window_size = 2 #use this window size for Skipgram, CBOW, and the model with the additional hidden layer\n",
    "window_size_corpus = 4 #use this window size for the co-occurrence matrix"
   ]
  },
  {
   "cell_type": "markdown",
   "metadata": {},
   "source": [
    "## Question 1\n",
    "\n",
    "### Co-occurrence Matrix\n",
    "Use the provided code to load the \"Alice in Wonderland\" text document. \n",
    "1. Implement the word-word co-occurrence matrix for “Alice in Wonderland”\n",
    "2. Normalize the words such that every value lies within a range of 0 and 1\n",
    "3. Compute the cosine distance between the given words:\n",
    "    - Alice \n",
    "    - Dinah\n",
    "    - Rabbit\n",
    "4. List the 5 closest words to 'Alice'. Discuss the results.\n",
    "5. Discuss what the main drawbacks are of a term-term co-occurence matrix solutions?\n"
   ]
  },
  {
   "cell_type": "code",
   "execution_count": 3,
   "metadata": {},
   "outputs": [
    {
     "data": {
      "text/plain": [
       "array([[ 0.        ,  0.44444444,  0.48148148, ...,  0.03703704,\n",
       "         0.        ,  0.        ],\n",
       "       [ 0.44444444,  0.        ,  0.07407407, ...,  0.03703704,\n",
       "         0.        ,  0.        ],\n",
       "       [ 0.48148148,  0.07407407,  0.        , ...,  0.        ,\n",
       "         0.        ,  0.        ],\n",
       "       ..., \n",
       "       [ 0.03703704,  0.03703704,  0.        , ...,  0.        ,\n",
       "         0.        ,  0.        ],\n",
       "       [ 0.        ,  0.        ,  0.        , ...,  0.        ,\n",
       "         0.        ,  0.        ],\n",
       "       [ 0.        ,  0.        ,  0.        , ...,  0.        ,\n",
       "         0.        ,  0.        ]])"
      ]
     },
     "execution_count": 3,
     "metadata": {},
     "output_type": "execute_result"
    }
   ],
   "source": [
    "#create co-occurrence matrix\n",
    "#print(tokenizer)\n",
    "#print(corpus)\n",
    "#print(nb_samples)\n",
    "#print(V)\n",
    "#print(\"\\n\")\n",
    "\n",
    "def create_co_occurrence(crps, win_size, voc_size):\n",
    "    # Discuss -1 with Thijs\n",
    "    co_occurrence_mat = np.zeros((voc_size-1,voc_size-1), int)\n",
    "    for sentence in crps:\n",
    "        # Sliding window inside of sentence\n",
    "        for i, center_word in enumerate(sentence):\n",
    "            i_min = max(0, i - win_size + 1)\n",
    "            i_max = min(len(sentence), i + win_size)\n",
    "            window = sentence[i_min: i_max]\n",
    "            #print(\"Window:\", window)\n",
    "            \n",
    "            # Increment co occurence of words in sliding window\n",
    "            for j in range(i_min, i_max):\n",
    "                if i != j:\n",
    "                    co_word = sentence[j]\n",
    "                    co_occurrence_mat[center_word-1, co_word-1] += 1\n",
    "    \n",
    "    np.amax(co_occurrence_mat)\n",
    "    \n",
    "    return co_occurrence_mat\n",
    "\n",
    "co_occurence = create_co_occurrence(corpus, window_size, V)\n",
    "\n",
    "#Normalize\n",
    "co_occurence = co_occurence / np.amax(co_occurence)\n",
    "co_occurence"
   ]
  },
  {
   "cell_type": "code",
   "execution_count": 12,
   "metadata": {
    "scrolled": true
   },
   "outputs": [
    {
     "name": "stdout",
     "output_type": "stream",
     "text": [
      "{'eagerly': 371, 'asked': 1050, 'thing': 89, 'make': 212, 'please': 217, 'australia': 645, 'house': 156, 'piece': 1059, 'seemed': 113, 'grow': 480, 'first': 104, 'worse': 879, 'direction': 1162, 'fall': 257, 'live': 862, 'candle': 347, 'their': 180, 'gravely': 1061, 'cold': 984, 'paused': 1033, 'hide': 1031, 'picking': 593, 'suddenly': 175, 'capital': 284, 'fountains': 693, 'how': 38, 'dears': 487, 'est': 918, 'waters': 849, 'might': 161, 'speed': 878, 'yourself': 494, 'ate': 770, 'head': 189, 'say': 83, 'five': 828, 'hurriedly': 1011, 'met': 1087, 'pictures': 246, 'deal': 357, 'theirs': 1077, 'were': 65, 'important': 986, 'bend': 1101, 'dream': 657, 'sort': 179, 'ferrets': 578, 'skurried': 816, 'leave': 472, 'chapter': 242, 'northumbria': 556, 'trial': 571, 'swim': 1156, 'called': 199, 'mouse': 25, 'play': 865, 'knot': 1103, 'french': 531, 'dinah': 87, 'field': 604, 'toys': 864, 'ever': 119, 'hopeless': 801, 'w': 1170, 'dark': 305, 'shedding': 803, 'hippopotamus': 906, 'oh': 51, 'looking': 203, 'further': 742, 'race': 202, 'somebody': 307, 'fanning': 818, 'fancy': 321, 'understand': 530, 'went': 52, 'pour': 848, 'taste': 461, 'to': 3, 'poker': 716, 'declare': 880, 'temper': 1120, 'kid': 231, 'box': 350, 'absurd': 1067, 'climb': 749, 'pointing': 1051, 'lessons': 313, 'finger': 341, 'by': 71, 'tail': 285, 'it': 7, 'ahem': 985, 'throat': 1137, 'minutes': 467, 'hardly': 764, 'this': 28, 'frowning': 998, 'sound': 641, 'burning': 602, 'love': 799, 'talking': 182, 'ten': 738, 'finished': 344, 'thump': 431, 'walking': 430, 'name': 319, 'belongs': 952, 'high': 168, 'open': 678, 'melancholy': 559, 'growled': 1109, 'suit': 1136, 'exact': 1037, 'done': 516, 'nervous': 743, 'easy': 1040, 'then': 79, 'history': 367, 'fell': 209, 'fitted': 684, 'so': 30, 'grave': 1068, 'water': 365, 'canterbury': 1005, 'bill': 1149, 'scale': 851, 'adoption': 1026, 'certainly': 456, 'where': 1151, 'improve': 846, 'mice': 325, 'is': 33, 'book': 205, 'funny': 418, 'not': 29, 'at': 34, 'duck': 374, 'natural': 391, 'times': 359, 'ugh': 996, 'means': 1007, 'took': 139, 'antipathies': 639, 'too': 155, 'conversation': 944, 'patriotic': 1003, 'came': 163, 'burn': 717, 'stigand': 1002, 'pardon': 288, 'bats': 269, 'pope': 990, 'began': 75, 'afraid': 268, 'noticed': 306, 'comfits': 566, 'lodging': 897, 'bright': 335, 'printed': 702, 'zealand': 644, 'into': 72, 'plenty': 612, 'she': 4, 'severely': 475, 'sharply': 471, 'patted': 1080, 'later': 724, 'mistake': 1164, 'enough': 275, 'looked': 129, 'children': 274, 'chorus': 565, 'subject': 539, 'alice': 11, 'magpie': 1132, 'dripping': 969, 'paws': 536, 'call': 1086, 'acceptance': 1063, 'nearer': 904, 'look': 154, 'hear': 296, 'slippery': 751, 'got': 118, 'his': 151, 'conclusion': 887, 'largest': 780, 'moved': 1142, 'suppose': 527, 'game': 759, 'condemn': 1096, 'bird': 1130, 'daughter': 1118, 'talk': 237, 'just': 141, 'mean': 1106, 'short': 1065, 'playing': 761, 'undo': 1104, 'messages': 582, 'locked': 671, 'draggled': 966, 'longitude': 417, 'ventured': 725, 'idea': 260, 'digging': 893, 'work': 777, 'both': 1088, 'ones': 1078, 'wonder': 103, 'knows': 826, 'himself': 811, 'actually': 600, 'lap': 840, 'tiny': 445, 'rate': 270, 'sometimes': 427, 'beautifully': 457, 'vulgar': 943, 'away': 165, 'station': 899, 'decided': 746, 'answer': 326, 'night': 324, 'splendidly': 809, 'crowded': 289, 'me': 42, 'why': 132, 'am': 160, 'impatiently': 1114, 'smaller': 767, 'london': 837, 'great': 117, 'close': 295, 'always': 369, 'that': 13, 'we': 239, 'somehow': 884, 'perhaps': 265, 'something': 286, 'doesn': 173, 'seldom': 754, 'ma': 320, 'farmer': 953, 'happens': 481, 'being': 362, 'was': 9, 'miss': 424, 'fancying': 1176, 'about': 40, 'lest': 1174, 'fixed': 983, 'moment': 131, 'waistcoat': 393, 'thinking': 823, 'remarkable': 390, 'won': 172, 'marmalade': 620, 'lovely': 740, 'conqueror': 532, 'dropped': 358, 'advice': 753, 'never': 115, 'beginning': 584, 'these': 881, 'adjourn': 1024, 'curiosity': 603, 'knowledge': 413, 'worth': 388, 'simply': 1071, 'caused': 568, 'glass': 222, 'earnestly': 658, 'i': 6, 'attending': 1098, 'roof': 439, 'solemnly': 560, 'alone': 515, 'gallons': 804, 'dreamy': 654, 'flavour': 727, 'hate': 544, 'wondered': 599, 'doors': 440, 'leaders': 992, 'move': 1022, 'catch': 425, 'ii': 778, 'licking': 936, 'hadn': 526, 'hastily': 279, 'sure': 136, 'felt': 184, 'bad': 520, 'energetic': 1027, 'neck': 699, 'opening': 779, 'beg': 195, 'offer': 1014, 'yes': 415, 'miles': 407, 'darkness': 817, 'side': 441, 'doth': 513, 'go': 82, 'bleeds': 721, 'cried': 124, 'positively': 980, 'curiouser': 484, 'crossly': 1006, 'neatly': 854, 'world': 301, 'all': 22, 'itself': 297, 'speaking': 529, 'ears': 436, 'birds': 200, 'little': 24, 'breath': 1094, 'from': 256, 'quite': 78, 'saying': 183, 'placed': 1039, 'says': 541, 'wept': 900, 'lonely': 1144, 'silence': 550, 'c': 1083, 'changed': 235, 'shelves': 399, 'size': 465, 'spades': 896, 'pegs': 616, 'directions': 795, 'flowers': 691, 'be': 20, 'pattering': 496, 'swimming': 528, 'soon': 76, 'three': 331, 't': 35, 'remarking': 1135, 'law': 1089, 'cheerfully': 852, 'sensation': 1131, 'sea': 523, 'locks': 677, 'creatures': 963, 'upon': 142, 'conquest': 995, 'drowned': 902, 'washing': 937, 'animal': 924, 'eyes': 176, 'pink': 595, 'they': 39, 'sulky': 976, 'if': 32, 'who': 96, 'ada': 824, 'surprised': 277, 'followed': 755, 'crown': 1015, 'trotting': 497, 'mine': 507, 'roast': 733, 'best': 225, 'geography': 836, 'wind': 666, 'rather': 181, 'hedge': 607, 'mary': 580, 'burst': 869, 'shall': 92, 'd': 198, 'six': 830, 'fright': 923, 'circle': 1036, 'shan': 784, 'cut': 718, 'alas': 332, 'bathing': 891, 'ran': 207, 'trying': 187, 'table': 120, 'managed': 403, 'feathers': 967, 'hot': 249, 'sleepy': 384, 'softly': 960, 'shape': 1038, 'shore': 543, 'gently': 859, 'neat': 1167, 'altogether': 468, 'general': 886, 'morcar': 553, 'able': 785, 'maps': 614, 'tried': 211, 'wrapping': 1133, 'time': 66, 'longed': 688, 'belong': 676, 'nicely': 934, 'wander': 689, 'reaching': 806, 'tongue': 1121, 'against': 476, 'presently': 637, 'currants': 766, 'poky': 863, 'ringlets': 506, 'and': 2, 'her': 14, 'worm': 1009, 'goes': 825, 'falling': 396, 'elegant': 1064, 'drop': 623, 'doorway': 694, 'pet': 1129, 'pretend': 763, 'lit': 668, 'lock': 682, 'after': 102, 'hair': 505, 'than': 223, 'curtsey': 646, 'asking': 423, 'beds': 690, 'accustomed': 993, 'older': 977, 'finds': 1166, 'other': 221, 'such': 74, 'nice': 215, 'peeped': 587, 'family': 940, 'earls': 554, 'dull': 774, 'hurrying': 665, 'makes': 479, 'knowing': 979, 'girl': 422, 'middle': 444, 'submitted': 991, 'what': 44, 'sad': 569, 'croquet': 760, 'pine': 731, 'hoped': 1181, 'ought': 299, 'indeed': 190, 'consultation': 972, 'remember': 219, 'swam': 236, 'stop': 495, 'reach': 469, 'easily': 1108, 'the': 1, 'smiling': 860, 'throw': 950, 'hoarse': 843, 'dog': 945, 'burnt': 706, 'young': 1122, 'hurry': 339, 'houses': 898, 'rabbit': 63, 'get': 67, 'sides': 613, 'anything': 213, 'possibly': 747, 'those': 271, 'cheated': 758, 'o': 366, 'conduct': 1016, 'fury': 570, 'narrow': 875, 'besides': 827, 'begun': 429, 'bring': 757, 'slipped': 521, 'some': 177, 'key': 148, 'rat': 685, 'said': 16, 'cross': 970, 'denial': 1091, 'morning': 502, 'sudden': 363, 'disagree': 722, 'iv': 1147, 'pop': 606, 'pressed': 1043, 'under': 300, 'calling': 1052, 'child': 477, 'lesson': 533, 'are': 106, 'kills': 956, 'shoulders': 695, 'down': 26, 'here': 68, 'door': 95, 'fallen': 311, 'judge': 573, 'pool': 137, 'real': 1175, 'finding': 462, 'wherever': 888, 'hated': 941, 'wet': 547, 'led': 447, 'choked': 1079, 'moderate': 1017, 'once': 98, 'show': 535, 'overhead': 664, 'small': 167, 'lory': 201, 'marked': 224, 'practice': 635, 'leaves': 662, 'walked': 442, 'english': 228, 'stopping': 611, 'occurred': 598, 'listening': 640, 'having': 245, 'duchess': 280, 'know': 62, 'angry': 534, 'written': 649, 'red': 715, 'eaglet': 375, 'our': 197, 'forgotten': 460, 'housemaid': 1165, 'put': 178, 'proceed': 1000, 'almost': 342, 'sir': 500, 'custard': 730, 'fetch': 372, 'new': 420, 'carefully': 1134, 'watch': 392, 'presented': 1062, 'archbishop': 1004, 'trouble': 389, 'existence': 877, 'nothing': 112, 'eyed': 946, 'more': 123, 'useful': 542, 'distance': 315, 'stupid': 385, 'uncomfortable': 971, 'schoolroom': 633, 'since': 1155, 'window': 1180, 'remembered': 349, 'wouldn': 404, 'putting': 867, 'crossed': 839, 'advisable': 557, 'passionate': 927, 'centre': 630, 'don': 171, 'brass': 1168, 'hour': 1041, 'puzzling': 509, 'except': 675, 'particular': 1127, 'right': 158, 'railway': 525, 'straight': 608, 'thousand': 631, 'knew': 451, 'manage': 323, 'directly': 1177, 'minute': 473, 'shrinking': 517, 'trembling': 368, 'heard': 230, 'spoke': 421, 'hoping': 453, 'seems': 360, 'animals': 545, 'until': 805, 'for': 18, 'cause': 364, 'crocodile': 845, 'hole': 243, 'signify': 835, 'even': 258, 'upstairs': 1173, 'quicker': 1115, 'common': 775, 'shrink': 741, 'used': 510, 'yet': 929, 'declared': 1001, 'clinging': 968, 'hurt': 433, 'liked': 563, 'conversations': 589, 'reply': 1110, 'rest': 1047, 'curious': 345, 'jaws': 861, 'people': 216, 'while': 192, 'find': 150, 'passion': 962, 'way': 45, 'paper': 700, 'planning': 791, 'lost': 434, 'anxiously': 276, 'whisper': 1085, 'because': 711, 'cur': 1092, 'expecting': 773, 'curtain': 680, 'believe': 1029, 'through': 144, 'eye': 353, 'commotion': 959, 'generally': 348, 'exactly': 1058, 'eats': 772, 'things': 93, 'feelings': 925, 'my': 70, 'him': 293, 'replied': 378, 'couldn': 655, 'known': 974, 'top': 405, 'everything': 282, 'can': 97, 'hand': 185, 'killing': 624, 'snappishly': 1123, 'claws': 856, 'nurse': 537, 'simple': 712, 'tired': 244, 'many': 310, 'iii': 964, 'face': 346, 'returning': 808, 'been': 166, 'despair': 1054, 'executed': 1150, 'sticks': 661, 'hard': 501, 'pretending': 762, 'second': 679, 'pleaded': 1107, 'half': 149, 'age': 504, 'odd': 794, 'whether': 386, 'old': 292, 'started': 394, 'golden': 188, 'savage': 812, 'ask': 263, 'usurpation': 994, 'party': 240, 'pleasure': 590, 'scolded': 756, 'which': 85, 'reading': 588, 'apple': 732, 'kind': 787, 'cats': 107, 'has': 564, 'delight': 683, 'voice': 233, 'completely': 1158, 'fishes': 858, 'row': 438, 'brightened': 739, 'matter': 428, 'empty': 622, 'pair': 229, 'mentioned': 1143, 'repeat': 841, 'of': 8, 'country': 643, 'inclined': 1034, 'on': 21, 'brave': 628, 'thirteen': 831, 'frightened': 518, 'quiet': 930, 'presents': 793, 'twenty': 833, 'walrus': 905, 'fender': 798, 'atheling': 1013, 'confused': 1053, 'paris': 511, 'leap': 921, 'humbly': 1099, 'taught': 714, 'daresay': 913, 'whole': 290, 'over': 100, 'saw': 400, 'passage': 327, 'yesterday': 819, 'harm': 907, 'out': 31, 'orange': 619, 'catching': 538, 'cat': 267, 'authority': 982, 'he': 111, 'fortunately': 605, 'wanted': 551, 'forehead': 1044, 'dry': 164, 'queer': 234, 'ago': 916, 'rules': 454, 'pounds': 955, 'explain': 561, 'strange': 844, 'rats': 957, 'chatte': 919, 'boots': 789, 'respectable': 765, 'up': 43, 'rapidly': 873, 'telescopes': 698, 'grammar': 910, 'begged': 1081, 'prosecute': 1090, 'else': 266, 'want': 788, 'opened': 446, 'cry': 493, 'immediate': 1025, 'lately': 697, 'prize': 1060, 'coming': 255, 'frog': 1008, 'hold': 458, 'few': 337, 'number': 890, 'disappointment': 621, 'chain': 592, 'twice': 586, 'plate': 1169, 'use': 152, 'panting': 1042, 'story': 575, 'person': 352, 'only': 122, 'bat': 426, 'certain': 343, 'shakespeare': 1046, 'turning': 379, 'wish': 145, 'when': 46, 'sighed': 1117, 'joined': 1112, 'didn': 262, 'advise': 752, 'lose': 1119, 'death': 1097, 'jumped': 663, 'seaside': 885, 'see': 56, 'or': 57, 'legs': 750, 'an': 133, 'do': 49, 'quick': 1161, 'notice': 1010, 'ignorant': 648, 'any': 121, 'seen': 208, 'another': 254, 'escape': 876, 'a': 5, 'speak': 278, 'us': 373, 'sits': 932, 'better': 548, 'guess': 872, 'laugh': 1070, 'along': 334, 'going': 116, 'cheered': 1066, 'hurried': 252, 'again': 54, 'tart': 729, 'punished': 901, 'turkey': 734, 'nine': 492, 'eat': 134, 'violently': 815, 'earth': 410, 'poison': 340, 'sight': 328, 'low': 186, 'sit': 540, 'footsteps': 1146, 'insolence': 1018, 'welcome': 857, 'pairs': 1182, 'nonsense': 491, 'several': 312, 'cake': 355, 'jury': 572, 'esq': 796, 'machines': 892, 'hunting': 579, 'promised': 1082, 'large': 153, 'speech': 567, 'usual': 820, 'patience': 1124, 'blown': 745, 'lamps': 669, 'solemn': 1073, 'sending': 489, 'making': 387, 'tumbling': 626, 'them': 61, 'seven': 832, 'wasting': 1093, 'fifteen': 681, 'clear': 914, 'favoured': 989, 'myself': 786, 'sends': 1148, 'one': 48, 'true': 629, 'complained': 1076, 'foot': 490, 'end': 309, 'afterwards': 597, 'inches': 333, 'grand': 636, 'sand': 894, 'tale': 377, 'familiarly': 973, 'among': 261, 'longer': 667, 'have': 84, 'turned': 220, 'shook': 1113, 'daisies': 594, 'bed': 1139, 'words': 159, 'gloves': 125, 'heads': 318, 'feet': 101, 'take': 253, 'found': 73, 'various': 1140, 'learnt': 632, 'nobody': 577, 'tears': 170, 'beasts': 709, 'read': 704, 'label': 701, 'sounded': 842, 'gave': 474, 'assembled': 965, 'winter': 1035, 're': 322, 'did': 99, 'twelve': 829, 'loveliest': 687, 'guessed': 1152, 'nile': 850, 'showing': 634, 'hanging': 670, 'mabel': 283, 'timid': 814, 'notion': 915, 'nearly': 871, 'everybody': 1048, 'last': 291, 'no': 50, 'brown': 949, 'addressing': 1126, 'shining': 847, 'normans': 1019, 'tell': 146, 'sentence': 920, 'bit': 432, 'toffee': 735, 'pity': 1116, 'telescope': 450, 'till': 868, 'like': 47, 'day': 250, 'struck': 800, 'soothing': 928, 'downward': 638, 'late': 298, 'prizes': 241, 'though': 411, 'insult': 1105, 'allow': 978, 'meaning': 1028, 'hung': 615, 'crab': 576, 'feel': 383, 'slowly': 303, 'thimble': 294, 'caucus': 376, 'home': 308, 'wrong': 838, 'long': 94, 'tone': 196, 'venture': 1128, 'nasty': 942, 's': 36, 'rome': 512, 'curtseying': 647, 'back': 110, 'somewhere': 409, 'sister': 380, 'carrier': 792, 'handed': 1057, 'ann': 581, 'naturedly': 1153, 'round': 108, 'christmas': 790, 'passed': 617, 'well': 127, 'wink': 912, 'dogs': 370, 'cupboards': 398, 'every': 330, 'bank': 381, 'should': 218, 'different': 821, 'shrill': 926, 'bye': 781, 'lazily': 931, 'ready': 232, 'brother': 908, 'kept': 281, 'care': 769, 'noise': 1074, 'position': 1045, 'larger': 448, 'herself': 41, 'running': 562, 'dinner': 951, 'sorrowful': 958, 'quiver': 922, 'must': 69, 'finish': 574, 'buttered': 736, 'tunnel': 609, 'offended': 238, 'doing': 1159, 'fact': 463, 'ah': 503, 'waited': 466, 'refused': 981, 'considering': 382, 'bottle': 273, 'heap': 660, 'shut': 449, 'could': 58, 'you': 12, 'dipped': 610, 'sorts': 508, 'off': 80, 'had': 17, 'remained': 771, 'labelled': 618, 'william': 287, 'purring': 933, 'pointed': 1163, 'white': 128, 'flame': 744, 'think': 60, 'deeply': 719, 'spirited': 1145, 'flashed': 601, 'spread': 855, 'usually': 459, 'latitude': 416, 'edgar': 1012, 'help': 499, 'wooden': 895, 'argument': 975, 'truth': 659, 'before': 130, 'begin': 696, 'glad': 419, 've': 143, 'stairs': 627, 'wondering': 672, 'voices': 1049, 'mercia': 555, 'come': 86, 'much': 91, 'sitting': 585, 'saucer': 651, 'soft': 938, 'its': 114, 'fond': 478, 'made': 206, 'continued': 1020, 'run': 1160, 'tidy': 1179, 'far': 486, 'avoid': 874, 'measure': 870, 'fan': 126, 'ring': 549, 'crying': 470, 'garden': 169, 'life': 356, 'dozing': 656, 'there': 55, 'deep': 302, 'toast': 737, 'pale': 961, 'nor': 596, 'in': 10, 'happened': 336, 'stay': 361, 'stockings': 783, 'near': 259, 'left': 351, 'vanished': 1157, 'learn': 866, 'lying': 354, 'will': 191, 'change': 519, 'own': 247, 'angrily': 1102, 'hearthrug': 797, 'terrier': 947, 'added': 1084, 'pulled': 1055, 'holding': 482, 'confusion': 1075, 'cherry': 728, 'dried': 807, 'cunning': 1095, 'past': 625, 'friends': 713, 'chin': 883, 'behind': 329, 'whose': 988, 'across': 395, 'solid': 674, 'splashing': 903, 'getting': 138, 'canary': 1138, 'meet': 558, 'politely': 999, 'bristling': 939, 'wild': 708, 'knocking': 1172, 'coast': 889, 'ou': 917, 'opportunity': 412, 'shutting': 455, 'aloud': 408, 'nowhere': 1154, 'very': 27, 'jar': 401, 'smile': 1032, 'really': 272, 'thought': 53, 'dare': 1069, 'filled': 397, 'dodo': 90, 'still': 314, 'however': 135, 'listen': 414, 'oyster': 1125, 'with': 23, 'knelt': 686, 'as': 15, 'corner': 435, 'luckily': 1056, 'shiver': 997, 'fear': 402, 'two': 227, 'forgot': 485, 'bowed': 1072, 'case': 524, 'without': 174, 'creep': 768, 'dear': 64, 'whiskers': 437, 'question': 162, 'mind': 248, 'room': 583, 'word': 642, 'll': 37, 'ashamed': 802, 'try': 194, 'course': 204, 'seem': 316, 'walk': 317, 'same': 193, 'either': 140, 'histories': 705, 'inquisitively': 911, 'pocket': 251, 'good': 157, 'let': 105, 'fifth': 1100, 'happen': 304, 'muttering': 498, 'unpleasant': 710, 'others': 1111, 'sooner': 723, 'air': 264, 'multiplication': 834, 'likely': 406, 'sadly': 443, 'fur': 546, 'hope': 650, 'edwin': 552, 'daisy': 591, 'but': 19, 'knife': 720, 'growing': 483, 'sat': 226, 'engraved': 1171, 'pretexts': 1141, 'rising': 1021, 'm': 77, 'dressed': 810, 'bent': 1030, 'grin': 853, 'cool': 692, 'curly': 948, 'eaten': 707, 'poor': 109, 'feeling': 464, 'would': 59, 'hall': 147, 'splash': 882, 'four': 214, 'give': 488, 'now': 81, 'meeting': 1023, 'fire': 935, 'tea': 653, 'latin': 909, 'next': 210, 'set': 776, 'your': 88, 'desperate': 813, 'hands': 514, 'plainly': 748, 'mixed': 726, 'waiting': 452, 'puzzle': 822, 'shoes': 782, 'hundred': 954, 'ordering': 1178, 'drink': 338, 'legged': 673, 'wise': 703, 'salt': 522, 'milk': 652, 'driest': 987}\n",
      "similarity of Alice and Dinah 0.148538649506\n",
      "similarity of Alice and Rabbit 0.0763040737666\n",
      "similarity of Dinah and Rabbit 0.0810361063877\n"
     ]
    }
   ],
   "source": [
    "#find cosine similarity to Alice, Dinah and Rabbit\n",
    "from scipy import spatial\n",
    "print(tokenizer.word_index)\n",
    "\n",
    "def cosine_sim(word_1, word_2, tknzr, matrix):\n",
    "    word_1_ind = tknzr.word_index[word_1]\n",
    "    word_2_ind = tknzr.word_index[word_2]\n",
    "    \n",
    "    #print(word_1, word_1_ind)\n",
    "    #print(word_2, word_2_ind)\n",
    "    \n",
    "    word_1_vec = matrix[:,word_1_ind-1]\n",
    "    word_2_vec = matrix[:,word_2_ind-1]\n",
    "    \n",
    "    #print(word_1_vec)\n",
    "    #print(word_2_vec)\n",
    "    \n",
    "    similarity = 1 - spatial.distance.cosine(word_1_vec, word_2_vec)\n",
    "    #print(similarity)\n",
    "    \n",
    "    return similarity\n",
    "    \n",
    "    \n",
    "print('similarity of Alice and Dinah', str(cosine_sim(\"alice\", \"dinah\", tokenizer, co_occurence)))\n",
    "print('similarity of Alice and Rabbit', str(cosine_sim(\"alice\", \"rabbit\", tokenizer, co_occurence)))\n",
    "print('similarity of Dinah and Rabbit', str(cosine_sim(\"dinah\", \"rabbit\", tokenizer, co_occurence)))\n"
   ]
  },
  {
   "cell_type": "code",
   "execution_count": 169,
   "metadata": {},
   "outputs": [
    {
     "name": "stdout",
     "output_type": "stream",
     "text": [
      "Most similar word:\n",
      "        Word       Sim\n",
      "511     ugh  0.570483\n",
      "754    ahem  0.570483\n",
      "354     she  0.533538\n",
      "105     say  0.530232\n",
      "75   listen  0.498760\n"
     ]
    },
    {
     "name": "stderr",
     "output_type": "stream",
     "text": [
      "C:\\Users\\Thijs\\Anaconda3\\envs\\Python35\\lib\\site-packages\\scipy\\spatial\\distance.py:644: RuntimeWarning: invalid value encountered in double_scalars\n",
      "  dist = 1.0 - uv / np.sqrt(uu * vv)\n"
     ]
    }
   ],
   "source": [
    "#find the closest words to Alice\n",
    "import pandas as pd\n",
    "\n",
    "similarities = {i: cosine_sim(\"alice\", i, tokenizer, co_occurence) if \"alice\"!= i else 0.0 for i in tokenizer.word_index}\n",
    "pd_similarities = pd.DataFrame(list(similarities.items()), columns=['Word', 'Sim'])\n",
    "\n",
    "top_5 = pd_similarities.sort_values(['Sim'], ascending=False)[:5]\n",
    "\n",
    "print(\"Most similar word:\\n\", top_5)\n",
    "#print(similarities)\n"
   ]
  },
  {
   "cell_type": "markdown",
   "metadata": {},
   "source": [
    "Discussion of the drawbacks:\n",
    "\n",
    "One of the major drawbacks of a co-occurence matrix is the fact that the matrix becomes very large in a very short time. In order to compute answers from it one would need a very strong machine. Ofcourse this is doable however, there are more efficient ways to calculate it. Another drawback of using a co-occurence matrix is that quite some memory is needed to be able to store it all in memory. Of course this can be optimalized but still it is quite costly. "
   ]
  },
  {
   "cell_type": "code",
   "execution_count": 148,
   "metadata": {},
   "outputs": [],
   "source": [
    "#Save your all the vector representations of your word embeddings in this way\n",
    "#Change when necessary the sizes of the vocabulary/embedding dimension\n",
    "\n",
    "f = open('vectors_co_occurrence.txt',\"w\")\n",
    "f.write(\" \".join([str(V-1),str(V-1)]))\n",
    "f.write(\"\\n\")\n",
    "\n",
    "#vectors = your word co-occurrence matrix\n",
    "vectors = co_occurence\n",
    "for word, i in tokenizer.word_index.items():\n",
    "    f.write(word)\n",
    "    f.write(\" \")\n",
    "    f.write(\" \".join(map(str, list(vectors[i-1,:]))))\n",
    "    f.write(\"\\n\")\n",
    "f.close()"
   ]
  },
  {
   "cell_type": "code",
   "execution_count": 149,
   "metadata": {},
   "outputs": [],
   "source": [
    "#reopen your file as follows\n",
    "\n",
    "co_occurrence = KeyedVectors.load_word2vec_format('./vectors_co_occurrence.txt', binary=False)"
   ]
  },
  {
   "cell_type": "markdown",
   "metadata": {},
   "source": [
    "## Question 2\n",
    "\n",
    "### Word embeddings\n",
    "Build embeddings with a keras implementation where the embedding vector is of length 50, 150 and 300. Use the Alice in Wonderland text book for training.\n",
    "1. Using the CBOW model\n",
    "2. Using Skipgram model\n",
    "3. Add extra hidden dense layer to CBow and Skipgram implementations. Choose an activation function for that layer and justify your answer.\n",
    "4. Analyze the four different word embeddings\n",
    "    - Implement your own function to perform the analogy task with. Do not use existing libraries for this task such as Gensim. Your function should be able to answer whether an anaology as in the example given in the pdf-file is true.\n",
    "    - Compare the performance on the analogy task between the word embeddings that you have trained in 2.1, 2.2 and 2.3.  \n",
    "    - Visualize your results and interpret your results\n",
    "5. Use the word co-occurence matrix from Question 1. Compare the performance on the analogy task with the performance of your trained word embeddings.  \n",
    "6. Discuss:\n",
    "    - What are the main advantages of CBOW and Skipgram?\n",
    "    - What is the advantage of negative sampling?\n",
    "    - What are the main drawbacks of CBOW and Skipgram?\n",
    "7. Load pre-trained embeddings on large corpuses (see the pdf file). You only have to consider the word embeddings with an embedding size of 300\n",
    "    - Compare performance on the analogy task with your own trained embeddings from \"Alice in Wonderland\". You can limit yourself to the vocabulary of Alice in Wonderland. Visualize the pre-trained word embeddings and compare these with the results of your own trained word embeddings. \n"
   ]
  },
  {
   "cell_type": "code",
   "execution_count": 19,
   "metadata": {},
   "outputs": [],
   "source": [
    "def generate_data_cbow(corpus, window_size, V):\n",
    "    maxlen = window_size*2\n",
    "    for words in corpus:\n",
    "        L = len(words)\n",
    "        for index, word in enumerate(words):\n",
    "            contexts = []\n",
    "            labels   = []            \n",
    "            s = index - window_size\n",
    "            e = index + window_size + 1\n",
    "            \n",
    "            contexts.append([words[i] for i in range(s, e) if 0 <= i < L and i != index])\n",
    "            labels.append(word)\n",
    "\n",
    "            x = sequence.pad_sequences(contexts, maxlen=maxlen)\n",
    "            y = np_utils.to_categorical(labels, V)\n",
    "            yield (x, y)"
   ]
  },
  {
   "cell_type": "code",
   "execution_count": 20,
   "metadata": {},
   "outputs": [],
   "source": [
    "cbow = Sequential()\n",
    "cbow.add(Embedding(input_dim=V, output_dim=dim, input_length=window_size*2))\n",
    "cbow.add(Lambda(lambda x: K.mean(x, axis=1), output_shape=(dim,)))\n",
    "cbow.add(Dense(V, activation='softmax'))"
   ]
  },
  {
   "cell_type": "code",
   "execution_count": 21,
   "metadata": {},
   "outputs": [],
   "source": [
    "cbow.compile(loss='categorical_crossentropy', optimizer='adadelta')"
   ]
  },
  {
   "cell_type": "code",
   "execution_count": 22,
   "metadata": {},
   "outputs": [
    {
     "name": "stdout",
     "output_type": "stream",
     "text": [
      "0 42308.2811444\n",
      "1 38594.1970193\n",
      "2 38767.0419376\n",
      "3 38867.8861338\n",
      "4 38929.3537067\n",
      "5 38976.922761\n",
      "6 38995.6720477\n",
      "7 39014.251945\n",
      "8 39044.3008515\n",
      "9 39080.0715766\n"
     ]
    }
   ],
   "source": [
    "for ite in range(10):\n",
    "    loss = 0.\n",
    "    for x, y in generate_data_cbow(corpus, window_size, V):\n",
    "        loss += cbow.train_on_batch(x, y)\n",
    "\n",
    "    print(ite, loss)"
   ]
  },
  {
   "cell_type": "code",
   "execution_count": 24,
   "metadata": {},
   "outputs": [],
   "source": [
    "cbow.save('cbow_simple.h5')"
   ]
  },
  {
   "cell_type": "code",
   "execution_count": 26,
   "metadata": {},
   "outputs": [],
   "source": [
    "def generate_data_skipgram(corpus, window_size, V):\n",
    "    maxlen = window_size*2\n",
    "    all_in = []\n",
    "    all_out = []\n",
    "    for words in corpus:\n",
    "        L = len(words)\n",
    "        for index, word in enumerate(words):\n",
    "            p = index - window_size\n",
    "            n = index + window_size + 1\n",
    "                    \n",
    "            in_words = []\n",
    "            labels = []\n",
    "            for i in range(p, n):\n",
    "                if i != index and 0 <= i < L:\n",
    "                    in_words.append([word])\n",
    "                    labels.append(words[i])\n",
    "            if in_words != []:\n",
    "                all_in.append(np.array(in_words,dtype=np.int32))\n",
    "                all_out.append(np_utils.to_categorical(labels, V))\n",
    "    return (all_in,all_out)"
   ]
  },
  {
   "cell_type": "code",
   "execution_count": 27,
   "metadata": {},
   "outputs": [],
   "source": [
    "#get x and y's for data\n",
    "x,y = generate_data_skipgram(corpus,window_size,V)#save the preprocessed data of Skipgram\n"
   ]
  },
  {
   "cell_type": "code",
   "execution_count": 28,
   "metadata": {},
   "outputs": [],
   "source": [
    "f = open('data_skipgram.txt' ,'w')\n",
    "\n",
    "for input,outcome  in zip(x,y):\n",
    "    input = np.concatenate(input)\n",
    "    f.write(\" \".join(map(str, list(input))))\n",
    "    f.write(\",\")\n",
    "    outcome = np.concatenate(outcome)\n",
    "    f.write(\" \".join(map(str,list(outcome))))\n",
    "    f.write(\"\\n\")\n",
    "f.close()"
   ]
  },
  {
   "cell_type": "code",
   "execution_count": 29,
   "metadata": {},
   "outputs": [],
   "source": [
    "#load the preprocessed Skipgram data\n",
    "def generate_data_skipgram_from_file():\n",
    "    f = open('data_skipgram.txt' ,'r')\n",
    "    for row in f:\n",
    "        inputs,outputs = row.split(\",\")\n",
    "        inputs = np.fromstring(inputs, dtype=int, sep=' ')\n",
    "        inputs = np.asarray(np.split(inputs, len(inputs)))\n",
    "        outputs = np.fromstring(outputs, dtype=float, sep=' ')\n",
    "        outputs = np.asarray(np.split(outputs, len(inputs)))\n",
    "        yield (inputs,outputs)"
   ]
  },
  {
   "cell_type": "code",
   "execution_count": 30,
   "metadata": {},
   "outputs": [],
   "source": [
    "skipgram = Sequential()\n",
    "skipgram.add(Embedding(input_dim=V, output_dim=dim, embeddings_initializer='glorot_uniform', input_length=1))\n",
    "skipgram.add(Reshape((dim, )))\n",
    "skipgram.add(Dense(input_dim=dim, units=V, kernel_initializer='uniform', activation='softmax'))"
   ]
  },
  {
   "cell_type": "code",
   "execution_count": 31,
   "metadata": {},
   "outputs": [],
   "source": [
    "skipgram.compile(loss='categorical_crossentropy', optimizer='adadelta')"
   ]
  },
  {
   "cell_type": "code",
   "execution_count": 32,
   "metadata": {},
   "outputs": [
    {
     "name": "stdout",
     "output_type": "stream",
     "text": [
      "0 42008.0517182\n",
      "1 38353.1881878\n",
      "2 38921.1881423\n",
      "3 39330.0949223\n",
      "4 39505.6043484\n",
      "5 39678.1267002\n",
      "6 39847.5325572\n",
      "7 40026.978894\n",
      "8 40211.2500122\n",
      "9 40398.6335881\n"
     ]
    }
   ],
   "source": [
    "for ite in range(10):\n",
    "    loss = 0.\n",
    "    for x, y in generate_data_skipgram_from_file():\n",
    "        loss += skipgram.train_on_batch(x, y)\n",
    "\n",
    "    print(ite, loss)"
   ]
  },
  {
   "cell_type": "code",
   "execution_count": 34,
   "metadata": {},
   "outputs": [],
   "source": [
    "skipgram.save('skipgram_simple.h5')"
   ]
  },
  {
   "cell_type": "markdown",
   "metadata": {},
   "source": [
    "## Activation for the dense layer\n",
    "\n",
    "As can be seen below we tried several different activation functions as an extra dense layer. After some research online we decided that at least we wanted to test both ELU and ReLU as activation functions. Apart from these two functions we also wanted to try one else which became Sigmoid. Since ELU and ReLU both are quite good with dealing with vanishing gradients we felt like we needed another layer which strong point was not dealing with the vanishing gradient. Even though Sigmoid and Softmax show similarities we wanted to at least try it to make sure that indeed it would not be the best solution. And as can be seen below it indeed was not the best choice as a second dense layer. \n",
    "\n",
    "Because we did not know which one would perform best we decided that we would try all three. We put the activation layers in before the Softmax layer since Softmax is usually used as the last layer in the hidden layers of a neural network. This because Softmax normalizes the results while minimizing the cross-entropy/negative likelihood between the predictions and the actual outcome. "
   ]
  },
  {
   "cell_type": "code",
   "execution_count": 5,
   "metadata": {},
   "outputs": [
    {
     "name": "stdout",
     "output_type": "stream",
     "text": [
      "WARNING:tensorflow:From C:\\Users\\Thijs\\Anaconda3\\envs\\Python35\\lib\\site-packages\\keras\\backend\\tensorflow_backend.py:1340: calling reduce_mean (from tensorflow.python.ops.math_ops) with keep_dims is deprecated and will be removed in a future version.\n",
      "Instructions for updating:\n",
      "keep_dims is deprecated, use keepdims instead\n"
     ]
    }
   ],
   "source": [
    "#create CBOW model with additional dense layer        \n",
    "dcbow = Sequential()\n",
    "dcbow.add(Embedding(input_dim=V, output_dim=dim, input_length=window_size*2))\n",
    "dcbow.add(Lambda(lambda x: K.mean(x, axis=1), output_shape=(dim,)))\n",
    "dcbow.add(Dense(V, activation='elu'))\n",
    "#dcbow.add(Dense(V, activation='sigmoid'))\n",
    "#dcbow.add(Dense(V, activation='relu'))\n",
    "dcbow.add(Dense(V, activation='softmax'))\n",
    "\n"
   ]
  },
  {
   "cell_type": "code",
   "execution_count": 62,
   "metadata": {},
   "outputs": [],
   "source": [
    "#define loss function for CBOW + dense\n",
    "dcbow.compile(loss='categorical_crossentropy', optimizer='adadelta')"
   ]
  },
  {
   "cell_type": "code",
   "execution_count": 65,
   "metadata": {
    "scrolled": true
   },
   "outputs": [
    {
     "name": "stdout",
     "output_type": "stream",
     "text": [
      "0 39850.4765533\n"
     ]
    },
    {
     "ename": "KeyboardInterrupt",
     "evalue": "",
     "output_type": "error",
     "traceback": [
      "\u001b[1;31m---------------------------------------------------------------------------\u001b[0m",
      "\u001b[1;31mKeyboardInterrupt\u001b[0m                         Traceback (most recent call last)",
      "\u001b[1;32m<ipython-input-65-538e6c1b5b90>\u001b[0m in \u001b[0;36m<module>\u001b[1;34m()\u001b[0m\n\u001b[0;32m      3\u001b[0m     \u001b[0mloss\u001b[0m \u001b[1;33m=\u001b[0m \u001b[1;36m0.\u001b[0m\u001b[1;33m\u001b[0m\u001b[0m\n\u001b[0;32m      4\u001b[0m     \u001b[1;32mfor\u001b[0m \u001b[0mx\u001b[0m\u001b[1;33m,\u001b[0m \u001b[0my\u001b[0m \u001b[1;32min\u001b[0m \u001b[0mgenerate_data_cbow\u001b[0m\u001b[1;33m(\u001b[0m\u001b[0mcorpus\u001b[0m\u001b[1;33m,\u001b[0m \u001b[0mwindow_size\u001b[0m\u001b[1;33m,\u001b[0m \u001b[0mV\u001b[0m\u001b[1;33m)\u001b[0m\u001b[1;33m:\u001b[0m\u001b[1;33m\u001b[0m\u001b[0m\n\u001b[1;32m----> 5\u001b[1;33m         \u001b[0mloss\u001b[0m \u001b[1;33m+=\u001b[0m \u001b[0mdcbow\u001b[0m\u001b[1;33m.\u001b[0m\u001b[0mtrain_on_batch\u001b[0m\u001b[1;33m(\u001b[0m\u001b[0mx\u001b[0m\u001b[1;33m,\u001b[0m \u001b[0my\u001b[0m\u001b[1;33m)\u001b[0m\u001b[1;33m\u001b[0m\u001b[0m\n\u001b[0m\u001b[0;32m      6\u001b[0m \u001b[1;33m\u001b[0m\u001b[0m\n\u001b[0;32m      7\u001b[0m     \u001b[0mprint\u001b[0m\u001b[1;33m(\u001b[0m\u001b[0mite\u001b[0m\u001b[1;33m,\u001b[0m \u001b[0mloss\u001b[0m\u001b[1;33m)\u001b[0m\u001b[1;33m\u001b[0m\u001b[0m\n",
      "\u001b[1;32m~\\Anaconda3\\envs\\Python35\\lib\\site-packages\\keras\\models.py\u001b[0m in \u001b[0;36mtrain_on_batch\u001b[1;34m(self, x, y, class_weight, sample_weight)\u001b[0m\n\u001b[0;32m    979\u001b[0m         return self.model.train_on_batch(x, y,\n\u001b[0;32m    980\u001b[0m                                          \u001b[0msample_weight\u001b[0m\u001b[1;33m=\u001b[0m\u001b[0msample_weight\u001b[0m\u001b[1;33m,\u001b[0m\u001b[1;33m\u001b[0m\u001b[0m\n\u001b[1;32m--> 981\u001b[1;33m                                          class_weight=class_weight)\n\u001b[0m\u001b[0;32m    982\u001b[0m \u001b[1;33m\u001b[0m\u001b[0m\n\u001b[0;32m    983\u001b[0m     def test_on_batch(self, x, y,\n",
      "\u001b[1;32m~\\Anaconda3\\envs\\Python35\\lib\\site-packages\\keras\\engine\\training.py\u001b[0m in \u001b[0;36mtrain_on_batch\u001b[1;34m(self, x, y, sample_weight, class_weight)\u001b[0m\n\u001b[0;32m   1795\u001b[0m             \u001b[0mins\u001b[0m \u001b[1;33m=\u001b[0m \u001b[0mx\u001b[0m \u001b[1;33m+\u001b[0m \u001b[0my\u001b[0m \u001b[1;33m+\u001b[0m \u001b[0msample_weights\u001b[0m\u001b[1;33m\u001b[0m\u001b[0m\n\u001b[0;32m   1796\u001b[0m         \u001b[0mself\u001b[0m\u001b[1;33m.\u001b[0m\u001b[0m_make_train_function\u001b[0m\u001b[1;33m(\u001b[0m\u001b[1;33m)\u001b[0m\u001b[1;33m\u001b[0m\u001b[0m\n\u001b[1;32m-> 1797\u001b[1;33m         \u001b[0moutputs\u001b[0m \u001b[1;33m=\u001b[0m \u001b[0mself\u001b[0m\u001b[1;33m.\u001b[0m\u001b[0mtrain_function\u001b[0m\u001b[1;33m(\u001b[0m\u001b[0mins\u001b[0m\u001b[1;33m)\u001b[0m\u001b[1;33m\u001b[0m\u001b[0m\n\u001b[0m\u001b[0;32m   1798\u001b[0m         \u001b[1;32mif\u001b[0m \u001b[0mlen\u001b[0m\u001b[1;33m(\u001b[0m\u001b[0moutputs\u001b[0m\u001b[1;33m)\u001b[0m \u001b[1;33m==\u001b[0m \u001b[1;36m1\u001b[0m\u001b[1;33m:\u001b[0m\u001b[1;33m\u001b[0m\u001b[0m\n\u001b[0;32m   1799\u001b[0m             \u001b[1;32mreturn\u001b[0m \u001b[0moutputs\u001b[0m\u001b[1;33m[\u001b[0m\u001b[1;36m0\u001b[0m\u001b[1;33m]\u001b[0m\u001b[1;33m\u001b[0m\u001b[0m\n",
      "\u001b[1;32m~\\Anaconda3\\envs\\Python35\\lib\\site-packages\\keras\\backend\\tensorflow_backend.py\u001b[0m in \u001b[0;36m__call__\u001b[1;34m(self, inputs)\u001b[0m\n\u001b[0;32m   2330\u001b[0m         updated = session.run(self.outputs + [self.updates_op],\n\u001b[0;32m   2331\u001b[0m                               \u001b[0mfeed_dict\u001b[0m\u001b[1;33m=\u001b[0m\u001b[0mfeed_dict\u001b[0m\u001b[1;33m,\u001b[0m\u001b[1;33m\u001b[0m\u001b[0m\n\u001b[1;32m-> 2332\u001b[1;33m                               **self.session_kwargs)\n\u001b[0m\u001b[0;32m   2333\u001b[0m         \u001b[1;32mreturn\u001b[0m \u001b[0mupdated\u001b[0m\u001b[1;33m[\u001b[0m\u001b[1;33m:\u001b[0m\u001b[0mlen\u001b[0m\u001b[1;33m(\u001b[0m\u001b[0mself\u001b[0m\u001b[1;33m.\u001b[0m\u001b[0moutputs\u001b[0m\u001b[1;33m)\u001b[0m\u001b[1;33m]\u001b[0m\u001b[1;33m\u001b[0m\u001b[0m\n\u001b[0;32m   2334\u001b[0m \u001b[1;33m\u001b[0m\u001b[0m\n",
      "\u001b[1;32m~\\Anaconda3\\envs\\Python35\\lib\\site-packages\\tensorflow\\python\\client\\session.py\u001b[0m in \u001b[0;36mrun\u001b[1;34m(self, fetches, feed_dict, options, run_metadata)\u001b[0m\n\u001b[0;32m    893\u001b[0m     \u001b[1;32mtry\u001b[0m\u001b[1;33m:\u001b[0m\u001b[1;33m\u001b[0m\u001b[0m\n\u001b[0;32m    894\u001b[0m       result = self._run(None, fetches, feed_dict, options_ptr,\n\u001b[1;32m--> 895\u001b[1;33m                          run_metadata_ptr)\n\u001b[0m\u001b[0;32m    896\u001b[0m       \u001b[1;32mif\u001b[0m \u001b[0mrun_metadata\u001b[0m\u001b[1;33m:\u001b[0m\u001b[1;33m\u001b[0m\u001b[0m\n\u001b[0;32m    897\u001b[0m         \u001b[0mproto_data\u001b[0m \u001b[1;33m=\u001b[0m \u001b[0mtf_session\u001b[0m\u001b[1;33m.\u001b[0m\u001b[0mTF_GetBuffer\u001b[0m\u001b[1;33m(\u001b[0m\u001b[0mrun_metadata_ptr\u001b[0m\u001b[1;33m)\u001b[0m\u001b[1;33m\u001b[0m\u001b[0m\n",
      "\u001b[1;32m~\\Anaconda3\\envs\\Python35\\lib\\site-packages\\tensorflow\\python\\client\\session.py\u001b[0m in \u001b[0;36m_run\u001b[1;34m(self, handle, fetches, feed_dict, options, run_metadata)\u001b[0m\n\u001b[0;32m   1126\u001b[0m     \u001b[1;32mif\u001b[0m \u001b[0mfinal_fetches\u001b[0m \u001b[1;32mor\u001b[0m \u001b[0mfinal_targets\u001b[0m \u001b[1;32mor\u001b[0m \u001b[1;33m(\u001b[0m\u001b[0mhandle\u001b[0m \u001b[1;32mand\u001b[0m \u001b[0mfeed_dict_tensor\u001b[0m\u001b[1;33m)\u001b[0m\u001b[1;33m:\u001b[0m\u001b[1;33m\u001b[0m\u001b[0m\n\u001b[0;32m   1127\u001b[0m       results = self._do_run(handle, final_targets, final_fetches,\n\u001b[1;32m-> 1128\u001b[1;33m                              feed_dict_tensor, options, run_metadata)\n\u001b[0m\u001b[0;32m   1129\u001b[0m     \u001b[1;32melse\u001b[0m\u001b[1;33m:\u001b[0m\u001b[1;33m\u001b[0m\u001b[0m\n\u001b[0;32m   1130\u001b[0m       \u001b[0mresults\u001b[0m \u001b[1;33m=\u001b[0m \u001b[1;33m[\u001b[0m\u001b[1;33m]\u001b[0m\u001b[1;33m\u001b[0m\u001b[0m\n",
      "\u001b[1;32m~\\Anaconda3\\envs\\Python35\\lib\\site-packages\\tensorflow\\python\\client\\session.py\u001b[0m in \u001b[0;36m_do_run\u001b[1;34m(self, handle, target_list, fetch_list, feed_dict, options, run_metadata)\u001b[0m\n\u001b[0;32m   1342\u001b[0m     \u001b[1;32mif\u001b[0m \u001b[0mhandle\u001b[0m \u001b[1;32mis\u001b[0m \u001b[1;32mNone\u001b[0m\u001b[1;33m:\u001b[0m\u001b[1;33m\u001b[0m\u001b[0m\n\u001b[0;32m   1343\u001b[0m       return self._do_call(_run_fn, self._session, feeds, fetches, targets,\n\u001b[1;32m-> 1344\u001b[1;33m                            options, run_metadata)\n\u001b[0m\u001b[0;32m   1345\u001b[0m     \u001b[1;32melse\u001b[0m\u001b[1;33m:\u001b[0m\u001b[1;33m\u001b[0m\u001b[0m\n\u001b[0;32m   1346\u001b[0m       \u001b[1;32mreturn\u001b[0m \u001b[0mself\u001b[0m\u001b[1;33m.\u001b[0m\u001b[0m_do_call\u001b[0m\u001b[1;33m(\u001b[0m\u001b[0m_prun_fn\u001b[0m\u001b[1;33m,\u001b[0m \u001b[0mself\u001b[0m\u001b[1;33m.\u001b[0m\u001b[0m_session\u001b[0m\u001b[1;33m,\u001b[0m \u001b[0mhandle\u001b[0m\u001b[1;33m,\u001b[0m \u001b[0mfeeds\u001b[0m\u001b[1;33m,\u001b[0m \u001b[0mfetches\u001b[0m\u001b[1;33m)\u001b[0m\u001b[1;33m\u001b[0m\u001b[0m\n",
      "\u001b[1;32m~\\Anaconda3\\envs\\Python35\\lib\\site-packages\\tensorflow\\python\\client\\session.py\u001b[0m in \u001b[0;36m_do_call\u001b[1;34m(self, fn, *args)\u001b[0m\n\u001b[0;32m   1348\u001b[0m   \u001b[1;32mdef\u001b[0m \u001b[0m_do_call\u001b[0m\u001b[1;33m(\u001b[0m\u001b[0mself\u001b[0m\u001b[1;33m,\u001b[0m \u001b[0mfn\u001b[0m\u001b[1;33m,\u001b[0m \u001b[1;33m*\u001b[0m\u001b[0margs\u001b[0m\u001b[1;33m)\u001b[0m\u001b[1;33m:\u001b[0m\u001b[1;33m\u001b[0m\u001b[0m\n\u001b[0;32m   1349\u001b[0m     \u001b[1;32mtry\u001b[0m\u001b[1;33m:\u001b[0m\u001b[1;33m\u001b[0m\u001b[0m\n\u001b[1;32m-> 1350\u001b[1;33m       \u001b[1;32mreturn\u001b[0m \u001b[0mfn\u001b[0m\u001b[1;33m(\u001b[0m\u001b[1;33m*\u001b[0m\u001b[0margs\u001b[0m\u001b[1;33m)\u001b[0m\u001b[1;33m\u001b[0m\u001b[0m\n\u001b[0m\u001b[0;32m   1351\u001b[0m     \u001b[1;32mexcept\u001b[0m \u001b[0merrors\u001b[0m\u001b[1;33m.\u001b[0m\u001b[0mOpError\u001b[0m \u001b[1;32mas\u001b[0m \u001b[0me\u001b[0m\u001b[1;33m:\u001b[0m\u001b[1;33m\u001b[0m\u001b[0m\n\u001b[0;32m   1352\u001b[0m       \u001b[0mmessage\u001b[0m \u001b[1;33m=\u001b[0m \u001b[0mcompat\u001b[0m\u001b[1;33m.\u001b[0m\u001b[0mas_text\u001b[0m\u001b[1;33m(\u001b[0m\u001b[0me\u001b[0m\u001b[1;33m.\u001b[0m\u001b[0mmessage\u001b[0m\u001b[1;33m)\u001b[0m\u001b[1;33m\u001b[0m\u001b[0m\n",
      "\u001b[1;32m~\\Anaconda3\\envs\\Python35\\lib\\site-packages\\tensorflow\\python\\client\\session.py\u001b[0m in \u001b[0;36m_run_fn\u001b[1;34m(session, feed_dict, fetch_list, target_list, options, run_metadata)\u001b[0m\n\u001b[0;32m   1327\u001b[0m           return tf_session.TF_Run(session, options,\n\u001b[0;32m   1328\u001b[0m                                    \u001b[0mfeed_dict\u001b[0m\u001b[1;33m,\u001b[0m \u001b[0mfetch_list\u001b[0m\u001b[1;33m,\u001b[0m \u001b[0mtarget_list\u001b[0m\u001b[1;33m,\u001b[0m\u001b[1;33m\u001b[0m\u001b[0m\n\u001b[1;32m-> 1329\u001b[1;33m                                    status, run_metadata)\n\u001b[0m\u001b[0;32m   1330\u001b[0m \u001b[1;33m\u001b[0m\u001b[0m\n\u001b[0;32m   1331\u001b[0m     \u001b[1;32mdef\u001b[0m \u001b[0m_prun_fn\u001b[0m\u001b[1;33m(\u001b[0m\u001b[0msession\u001b[0m\u001b[1;33m,\u001b[0m \u001b[0mhandle\u001b[0m\u001b[1;33m,\u001b[0m \u001b[0mfeed_dict\u001b[0m\u001b[1;33m,\u001b[0m \u001b[0mfetch_list\u001b[0m\u001b[1;33m)\u001b[0m\u001b[1;33m:\u001b[0m\u001b[1;33m\u001b[0m\u001b[0m\n",
      "\u001b[1;31mKeyboardInterrupt\u001b[0m: "
     ]
    }
   ],
   "source": [
    "#train model for CBOW + dense elu activation\n",
    "for ite in range(10):\n",
    "    loss = 0.\n",
    "    for x, y in generate_data_cbow(corpus, window_size, V):\n",
    "        loss += dcbow.train_on_batch(x, y)\n",
    "\n",
    "    print(ite, loss)"
   ]
  },
  {
   "cell_type": "code",
   "execution_count": 25,
   "metadata": {},
   "outputs": [],
   "source": [
    "dcbow.save('dcbow_elu.h5')"
   ]
  },
  {
   "cell_type": "code",
   "execution_count": 30,
   "metadata": {},
   "outputs": [
    {
     "name": "stdout",
     "output_type": "stream",
     "text": [
      "0 42573.9224706\n",
      "1 40779.2916886\n",
      "2 40212.4141967\n",
      "3 40963.4117401\n",
      "4 42315.4382861\n",
      "5 43557.8121278\n",
      "6 44557.614516\n",
      "7 45347.3085792\n",
      "8 45826.0357494\n",
      "9 45717.4792516\n"
     ]
    }
   ],
   "source": [
    "#train model for CBOW + dense sigmoid activation\n",
    "for ite in range(10):\n",
    "    loss = 0.\n",
    "    for x, y in generate_data_cbow(corpus, window_size, V):\n",
    "        loss += dcbow.train_on_batch(x, y)\n",
    "\n",
    "    print(ite, loss)"
   ]
  },
  {
   "cell_type": "code",
   "execution_count": 31,
   "metadata": {},
   "outputs": [],
   "source": [
    "dcbow.save('dcbow_Sigmoid.h5')"
   ]
  },
  {
   "cell_type": "code",
   "execution_count": 34,
   "metadata": {},
   "outputs": [
    {
     "name": "stdout",
     "output_type": "stream",
     "text": [
      "0 40066.6369147\n",
      "1 38122.0871696\n",
      "2 37527.2364669\n",
      "3 37265.8932388\n",
      "4 37098.9213078\n",
      "5 36907.566846\n",
      "6 36689.9979763\n",
      "7 36465.4231402\n",
      "8 36250.071865\n",
      "9 36031.9165194\n"
     ]
    }
   ],
   "source": [
    "for ite in range(10):\n",
    "    loss = 0.\n",
    "    for x, y in generate_data_cbow(corpus, window_size, V):\n",
    "        loss += dcbow.train_on_batch(x, y)\n",
    "\n",
    "    print(ite, loss)"
   ]
  },
  {
   "cell_type": "code",
   "execution_count": 35,
   "metadata": {},
   "outputs": [],
   "source": [
    "dcbow.save('dcbow_Relu.h5')"
   ]
  },
  {
   "cell_type": "code",
   "execution_count": 9,
   "metadata": {},
   "outputs": [],
   "source": [
    "#create Skipgram with additional dense layer\n",
    "dskipgram = Sequential()\n",
    "dskipgram.add(Embedding(input_dim=V, output_dim=dim, embeddings_initializer='glorot_uniform', input_length=1))\n",
    "dskipgram.add(Reshape((dim, )))\n",
    "dskipgram.add(Dense(input_dim=dim, units=V, kernel_initializer='uniform', activation='elu'))\n",
    "dskipgram.add(Dense(input_dim=dim, units=V, kernel_initializer='uniform', activation='softmax'))\n"
   ]
  },
  {
   "cell_type": "code",
   "execution_count": 10,
   "metadata": {},
   "outputs": [
    {
     "name": "stdout",
     "output_type": "stream",
     "text": [
      "WARNING:tensorflow:From C:\\Users\\Thijs\\Anaconda3\\envs\\Python35\\lib\\site-packages\\keras\\backend\\tensorflow_backend.py:2857: calling reduce_sum (from tensorflow.python.ops.math_ops) with keep_dims is deprecated and will be removed in a future version.\n",
      "Instructions for updating:\n",
      "keep_dims is deprecated, use keepdims instead\n",
      "WARNING:tensorflow:From C:\\Users\\Thijs\\Anaconda3\\envs\\Python35\\lib\\site-packages\\keras\\backend\\tensorflow_backend.py:1340: calling reduce_mean (from tensorflow.python.ops.math_ops) with keep_dims is deprecated and will be removed in a future version.\n",
      "Instructions for updating:\n",
      "keep_dims is deprecated, use keepdims instead\n"
     ]
    }
   ],
   "source": [
    "#define loss function for Skipgram + dense\n",
    "dskipgram.compile(loss='categorical_crossentropy', optimizer='adadelta')"
   ]
  },
  {
   "cell_type": "code",
   "execution_count": 11,
   "metadata": {},
   "outputs": [
    {
     "name": "stdout",
     "output_type": "stream",
     "text": [
      "0 39171.4094963\n",
      "1 37593.4716475\n",
      "2 37049.7866344\n",
      "3 36863.5996245\n",
      "4 36989.3757836\n",
      "5 37082.103549\n",
      "6 37015.1577585\n",
      "7 36882.7768184\n",
      "8 36745.6724875\n",
      "9 36615.3105249\n"
     ]
    }
   ],
   "source": [
    "#train model for Skipgram + dense\n",
    "for ite in range(10):\n",
    "    loss = 0.\n",
    "    for x, y in generate_data_skipgram_from_file():\n",
    "        loss += dskipgram.train_on_batch(x, y)\n",
    "\n",
    "    print(ite, loss)"
   ]
  },
  {
   "cell_type": "code",
   "execution_count": 12,
   "metadata": {},
   "outputs": [],
   "source": [
    "dskipgram.save('dskipgram_elu.h5')"
   ]
  },
  {
   "cell_type": "code",
   "execution_count": 13,
   "metadata": {},
   "outputs": [],
   "source": [
    "#create Skipgram with additional dense layer\n",
    "dskipgram = Sequential()\n",
    "dskipgram.add(Embedding(input_dim=V, output_dim=dim, embeddings_initializer='glorot_uniform', input_length=1))\n",
    "dskipgram.add(Reshape((dim, )))\n",
    "dskipgram.add(Dense(input_dim=dim, units=V, kernel_initializer='uniform', activation='sigmoid'))\n",
    "dskipgram.add(Dense(input_dim=dim, units=V, kernel_initializer='uniform', activation='softmax'))"
   ]
  },
  {
   "cell_type": "code",
   "execution_count": 14,
   "metadata": {},
   "outputs": [],
   "source": [
    "#define loss function for Skipgram + dense\n",
    "dskipgram.compile(loss='categorical_crossentropy', optimizer='adadelta')"
   ]
  },
  {
   "cell_type": "code",
   "execution_count": 15,
   "metadata": {},
   "outputs": [
    {
     "name": "stdout",
     "output_type": "stream",
     "text": [
      "0 39699.7591234\n",
      "1 39342.0153301\n",
      "2 39097.7367924\n",
      "3 38975.9978857\n",
      "4 39085.1981041\n",
      "5 39359.1998932\n",
      "6 39351.1995022\n",
      "7 39203.5751615\n",
      "8 39015.3584349\n",
      "9 38764.1542244\n"
     ]
    }
   ],
   "source": [
    "#train model for Skipgram + dense\n",
    "for ite in range(10):\n",
    "    loss = 0.\n",
    "    for x, y in generate_data_skipgram_from_file():\n",
    "        loss += dskipgram.train_on_batch(x, y)\n",
    "\n",
    "    print(ite, loss)"
   ]
  },
  {
   "cell_type": "code",
   "execution_count": 19,
   "metadata": {},
   "outputs": [],
   "source": [
    "dskipgram.save('dskipgram_sigmoid.h5')"
   ]
  },
  {
   "cell_type": "code",
   "execution_count": 20,
   "metadata": {},
   "outputs": [],
   "source": [
    "#create Skipgram with additional dense layer\n",
    "dskipgram = Sequential()\n",
    "dskipgram.add(Embedding(input_dim=V, output_dim=dim, embeddings_initializer='glorot_uniform', input_length=1))\n",
    "dskipgram.add(Reshape((dim, )))\n",
    "dskipgram.add(Dense(input_dim=dim, units=V, kernel_initializer='uniform', activation='relu'))\n",
    "dskipgram.add(Dense(input_dim=dim, units=V, kernel_initializer='uniform', activation='softmax'))"
   ]
  },
  {
   "cell_type": "code",
   "execution_count": 21,
   "metadata": {},
   "outputs": [],
   "source": [
    "#define loss function for Skipgram + dense\n",
    "dskipgram.compile(loss='categorical_crossentropy', optimizer='adadelta')"
   ]
  },
  {
   "cell_type": "code",
   "execution_count": 22,
   "metadata": {},
   "outputs": [
    {
     "name": "stdout",
     "output_type": "stream",
     "text": [
      "0 39437.579227\n",
      "1 38211.8743823\n",
      "2 37820.7792289\n",
      "3 37606.3476986\n",
      "4 37546.8119706\n",
      "5 37517.1473264\n",
      "6 37465.703705\n",
      "7 37408.8727797\n",
      "8 37353.1536354\n",
      "9 37295.5879925\n"
     ]
    }
   ],
   "source": [
    "#train model for Skipgram + dense\n",
    "for ite in range(10):\n",
    "    loss = 0.\n",
    "    for x, y in generate_data_skipgram_from_file():\n",
    "        loss += dskipgram.train_on_batch(x, y)\n",
    "\n",
    "    print(ite, loss)"
   ]
  },
  {
   "cell_type": "code",
   "execution_count": 23,
   "metadata": {},
   "outputs": [],
   "source": [
    "dskipgram.save('dskipgram_Relu.h5')"
   ]
  },
  {
   "cell_type": "code",
   "execution_count": 37,
   "metadata": {},
   "outputs": [
    {
     "name": "stdout",
     "output_type": "stream",
     "text": [
      "['sudden', 'suddenly', 'usual', 'usually'] False\n",
      "['bad', 'worse', 'good', 'better'] False\n",
      "['go', 'going', 'look', 'looking'] True\n",
      "['he', 'she', 'his', 'her'] False\n",
      "['brother', 'sister', 'his', 'her'] False\n",
      "['listen', 'listening', 'look', 'looking'] True\n",
      "['saying', 'said', 'thinking', 'thought'] False\n",
      "['bird', 'birds', 'cat', 'cats'] False\n",
      "['good', 'better', 'old', 'older'] False\n",
      "['good', 'better', 'quick', 'quicker'] False\n",
      "['large', 'largest', 'good', 'best'] False\n",
      "['falling', 'fell', 'knowing', 'knew'] False\n",
      "['walk', 'walking', 'think', 'thinking'] False\n",
      "['child', 'children', 'cat', 'cats'] False\n",
      "['dog', 'dogs', 'eye', 'eyes'] True\n",
      "['hand', 'hands', 'rat', 'rats'] False\n",
      "['eat', 'eats', 'find', 'finds'] False\n",
      "['find', 'finds', 'say', 'says'] True\n",
      "['old', 'older', 'good', 'better'] False\n",
      "['large', 'larger', 'quick', 'quicker'] False\n",
      "['go', 'going', 'listen', 'listening'] False\n",
      "['run', 'running', 'walk', 'walking'] False\n",
      "['run', 'running', 'think', 'thinking'] False\n",
      "['say', 'saying', 'sit', 'sitting'] False\n",
      "['alice', 'she', 'rabbit', 'he'] False\n",
      "['alice', 'her', 'rabbit', 'him'] True\n",
      "['alice', 'girl', 'rabbit', 'sir'] False\n",
      "['dinah', 'cat', 'alice', 'girl'] False\n",
      "['his', 'her', 'he', 'she'] False\n",
      "['long', 'longer', 'quick', 'quicker'] False\n",
      "['long', 'longer', 'small', 'smaller'] False\n",
      "['long', 'longer', 'bad', 'worse'] False\n",
      "['go', 'going', 'look', 'looking'] True\n",
      "['listen', 'listening', 'look', 'looking'] True\n",
      "['swim', 'swimming', 'sit', 'sitting'] False\n",
      "['run', 'running', 'listen', 'listening'] False\n",
      "['think', 'thinking', 'read', 'reading'] False\n",
      "['up', 'down', 'close', 'far'] False\n"
     ]
    }
   ],
   "source": [
    "from sklearn.metrics.pairwise import cosine_similarity\n",
    "path_anal = 'Data/analogy_alice.txt'\n",
    "corpus_anal = open(path_anal).readlines()[0:47]\n",
    "\n",
    "from copy import deepcopy\n",
    "\n",
    "corpus_anal = [sentence for sentence in corpus_anal if sentence.count(\" \") >= 2]\n",
    "corpus_anal = [sentence.split() for sentence in corpus_anal]\n",
    "corpus_anal_words = deepcopy(corpus_anal)\n",
    "weights = co_occurence\n",
    "\n",
    "def analogy(weights, corpus_anal):\n",
    "    for i, sentence in enumerate(corpus_anal):\n",
    "            for j in range(len(sentence)):\n",
    "                try:\n",
    "                    sentence[j] = tokenizer.word_index[sentence[j]]\n",
    "                except:\n",
    "                    #print(\"One or more words not in vocabulary\")\n",
    "                    pass\n",
    "            if type(sentence[0]) == type(sentence[1]) == type(sentence[2]) == type(sentence[3]) == int:\n",
    "                co_occurence_output = weights[sentence[0]-1] - weights[sentence[1]-1] + weights[sentence[2]-1]\n",
    "                ground_truth = weights[sentence[3]-1]\n",
    "                similarity = 1 - spatial.distance.cosine(co_occurence_output, ground_truth)\n",
    "                #print(corpus_anal_words[i], similarity)\n",
    "                if(similarity > 0.1):\n",
    "                    print(corpus_anal_words[i], True)\n",
    "                else:\n",
    "                    print(corpus_anal_words[i], False)\n",
    "            # bereken cosine\n",
    "\n",
    "    #print(corpus_anal)\n",
    "\n",
    "analogy(weights, corpus_anal)"
   ]
  },
  {
   "cell_type": "code",
   "execution_count": 39,
   "metadata": {},
   "outputs": [
    {
     "name": "stdout",
     "output_type": "stream",
     "text": [
      "['sudden', 'suddenly', 'usual', 'usually'] False\n",
      "['bad', 'worse', 'good', 'better'] False\n",
      "['go', 'going', 'look', 'looking'] True\n",
      "['he', 'she', 'his', 'her'] False\n",
      "['brother', 'sister', 'his', 'her'] True\n",
      "['listen', 'listening', 'look', 'looking'] True\n",
      "['saying', 'said', 'thinking', 'thought'] False\n",
      "['bird', 'birds', 'cat', 'cats'] True\n",
      "['good', 'better', 'old', 'older'] False\n",
      "['good', 'better', 'quick', 'quicker'] False\n",
      "['large', 'largest', 'good', 'best'] True\n",
      "['falling', 'fell', 'knowing', 'knew'] False\n",
      "['walk', 'walking', 'think', 'thinking'] False\n",
      "['child', 'children', 'cat', 'cats'] True\n",
      "['dog', 'dogs', 'eye', 'eyes'] False\n",
      "['hand', 'hands', 'rat', 'rats'] False\n",
      "['eat', 'eats', 'find', 'finds'] False\n",
      "['find', 'finds', 'say', 'says'] False\n",
      "['old', 'older', 'good', 'better'] False\n",
      "['large', 'larger', 'quick', 'quicker'] False\n",
      "['go', 'going', 'listen', 'listening'] False\n",
      "['run', 'running', 'walk', 'walking'] False\n",
      "['run', 'running', 'think', 'thinking'] False\n",
      "['say', 'saying', 'sit', 'sitting'] False\n",
      "['alice', 'she', 'rabbit', 'he'] True\n",
      "['alice', 'her', 'rabbit', 'him'] True\n",
      "['alice', 'girl', 'rabbit', 'sir'] True\n",
      "['dinah', 'cat', 'alice', 'girl'] False\n",
      "['his', 'her', 'he', 'she'] False\n",
      "['long', 'longer', 'quick', 'quicker'] False\n",
      "['long', 'longer', 'small', 'smaller'] False\n",
      "['long', 'longer', 'bad', 'worse'] False\n",
      "['go', 'going', 'look', 'looking'] True\n",
      "['listen', 'listening', 'look', 'looking'] True\n",
      "['swim', 'swimming', 'sit', 'sitting'] False\n",
      "['run', 'running', 'listen', 'listening'] False\n",
      "['think', 'thinking', 'read', 'reading'] False\n",
      "['up', 'down', 'close', 'far'] False\n"
     ]
    }
   ],
   "source": [
    "from keras.models import load_model\n",
    "model = load_model('dcbow_elu.h5')\n",
    "weights = model.layers[0].get_weights()[0]\n",
    "\n",
    "analogy(weights, corpus_anal)\n"
   ]
  },
  {
   "cell_type": "code",
   "execution_count": 40,
   "metadata": {},
   "outputs": [
    {
     "name": "stdout",
     "output_type": "stream",
     "text": [
      "['sudden', 'suddenly', 'usual', 'usually'] False\n",
      "['bad', 'worse', 'good', 'better'] False\n",
      "['go', 'going', 'look', 'looking'] True\n",
      "['he', 'she', 'his', 'her'] False\n",
      "['brother', 'sister', 'his', 'her'] False\n",
      "['listen', 'listening', 'look', 'looking'] False\n",
      "['saying', 'said', 'thinking', 'thought'] False\n",
      "['bird', 'birds', 'cat', 'cats'] False\n",
      "['good', 'better', 'old', 'older'] True\n",
      "['good', 'better', 'quick', 'quicker'] False\n",
      "['large', 'largest', 'good', 'best'] False\n",
      "['falling', 'fell', 'knowing', 'knew'] False\n",
      "['walk', 'walking', 'think', 'thinking'] False\n",
      "['child', 'children', 'cat', 'cats'] True\n",
      "['dog', 'dogs', 'eye', 'eyes'] False\n",
      "['hand', 'hands', 'rat', 'rats'] True\n",
      "['eat', 'eats', 'find', 'finds'] False\n",
      "['find', 'finds', 'say', 'says'] False\n",
      "['old', 'older', 'good', 'better'] False\n",
      "['large', 'larger', 'quick', 'quicker'] False\n",
      "['go', 'going', 'listen', 'listening'] False\n",
      "['run', 'running', 'walk', 'walking'] False\n",
      "['run', 'running', 'think', 'thinking'] False\n",
      "['say', 'saying', 'sit', 'sitting'] False\n",
      "['alice', 'she', 'rabbit', 'he'] False\n",
      "['alice', 'her', 'rabbit', 'him'] False\n",
      "['alice', 'girl', 'rabbit', 'sir'] False\n",
      "['dinah', 'cat', 'alice', 'girl'] False\n",
      "['his', 'her', 'he', 'she'] False\n",
      "['long', 'longer', 'quick', 'quicker'] True\n",
      "['long', 'longer', 'small', 'smaller'] False\n",
      "['long', 'longer', 'bad', 'worse'] False\n",
      "['go', 'going', 'look', 'looking'] True\n",
      "['listen', 'listening', 'look', 'looking'] False\n",
      "['swim', 'swimming', 'sit', 'sitting'] False\n",
      "['run', 'running', 'listen', 'listening'] False\n",
      "['think', 'thinking', 'read', 'reading'] False\n",
      "['up', 'down', 'close', 'far'] False\n"
     ]
    }
   ],
   "source": [
    "from keras.models import load_model\n",
    "model = load_model('dskipgram_elu.h5')\n",
    "weights = model.layers[0].get_weights()[0]\n",
    "\n",
    "analogy(weights, corpus_anal)\n"
   ]
  },
  {
   "cell_type": "code",
   "execution_count": 41,
   "metadata": {},
   "outputs": [
    {
     "name": "stdout",
     "output_type": "stream",
     "text": [
      "['sudden', 'suddenly', 'usual', 'usually'] False\n",
      "['bad', 'worse', 'good', 'better'] False\n",
      "['go', 'going', 'look', 'looking'] True\n",
      "['he', 'she', 'his', 'her'] False\n",
      "['brother', 'sister', 'his', 'her'] True\n",
      "['listen', 'listening', 'look', 'looking'] True\n",
      "['saying', 'said', 'thinking', 'thought'] False\n",
      "['bird', 'birds', 'cat', 'cats'] True\n",
      "['good', 'better', 'old', 'older'] False\n",
      "['good', 'better', 'quick', 'quicker'] False\n",
      "['large', 'largest', 'good', 'best'] True\n",
      "['falling', 'fell', 'knowing', 'knew'] False\n",
      "['walk', 'walking', 'think', 'thinking'] False\n",
      "['child', 'children', 'cat', 'cats'] True\n",
      "['dog', 'dogs', 'eye', 'eyes'] False\n",
      "['hand', 'hands', 'rat', 'rats'] False\n",
      "['eat', 'eats', 'find', 'finds'] False\n",
      "['find', 'finds', 'say', 'says'] False\n",
      "['old', 'older', 'good', 'better'] False\n",
      "['large', 'larger', 'quick', 'quicker'] False\n",
      "['go', 'going', 'listen', 'listening'] False\n",
      "['run', 'running', 'walk', 'walking'] False\n",
      "['run', 'running', 'think', 'thinking'] False\n",
      "['say', 'saying', 'sit', 'sitting'] False\n",
      "['alice', 'she', 'rabbit', 'he'] True\n",
      "['alice', 'her', 'rabbit', 'him'] True\n",
      "['alice', 'girl', 'rabbit', 'sir'] True\n",
      "['dinah', 'cat', 'alice', 'girl'] False\n",
      "['his', 'her', 'he', 'she'] False\n",
      "['long', 'longer', 'quick', 'quicker'] False\n",
      "['long', 'longer', 'small', 'smaller'] False\n",
      "['long', 'longer', 'bad', 'worse'] False\n",
      "['go', 'going', 'look', 'looking'] True\n",
      "['listen', 'listening', 'look', 'looking'] True\n",
      "['swim', 'swimming', 'sit', 'sitting'] False\n",
      "['run', 'running', 'listen', 'listening'] False\n",
      "['think', 'thinking', 'read', 'reading'] False\n",
      "['up', 'down', 'close', 'far'] False\n"
     ]
    }
   ],
   "source": [
    "from keras.models import load_model\n",
    "model = load_model('cbow_simple.h5')\n",
    "weights = model.layers[0].get_weights()[0]\n",
    "\n",
    "analogy(weights, corpus_anal)"
   ]
  },
  {
   "cell_type": "code",
   "execution_count": 42,
   "metadata": {},
   "outputs": [
    {
     "name": "stdout",
     "output_type": "stream",
     "text": [
      "['sudden', 'suddenly', 'usual', 'usually'] False\n",
      "['bad', 'worse', 'good', 'better'] False\n",
      "['go', 'going', 'look', 'looking'] True\n",
      "['he', 'she', 'his', 'her'] False\n",
      "['brother', 'sister', 'his', 'her'] True\n",
      "['listen', 'listening', 'look', 'looking'] True\n",
      "['saying', 'said', 'thinking', 'thought'] False\n",
      "['bird', 'birds', 'cat', 'cats'] True\n",
      "['good', 'better', 'old', 'older'] False\n",
      "['good', 'better', 'quick', 'quicker'] False\n",
      "['large', 'largest', 'good', 'best'] True\n",
      "['falling', 'fell', 'knowing', 'knew'] False\n",
      "['walk', 'walking', 'think', 'thinking'] False\n",
      "['child', 'children', 'cat', 'cats'] True\n",
      "['dog', 'dogs', 'eye', 'eyes'] False\n",
      "['hand', 'hands', 'rat', 'rats'] False\n",
      "['eat', 'eats', 'find', 'finds'] True\n",
      "['find', 'finds', 'say', 'says'] True\n",
      "['old', 'older', 'good', 'better'] False\n",
      "['large', 'larger', 'quick', 'quicker'] True\n",
      "['go', 'going', 'listen', 'listening'] False\n",
      "['run', 'running', 'walk', 'walking'] False\n",
      "['run', 'running', 'think', 'thinking'] False\n",
      "['say', 'saying', 'sit', 'sitting'] False\n",
      "['alice', 'she', 'rabbit', 'he'] True\n",
      "['alice', 'her', 'rabbit', 'him'] False\n",
      "['alice', 'girl', 'rabbit', 'sir'] True\n",
      "['dinah', 'cat', 'alice', 'girl'] False\n",
      "['his', 'her', 'he', 'she'] False\n",
      "['long', 'longer', 'quick', 'quicker'] False\n",
      "['long', 'longer', 'small', 'smaller'] True\n",
      "['long', 'longer', 'bad', 'worse'] True\n",
      "['go', 'going', 'look', 'looking'] True\n",
      "['listen', 'listening', 'look', 'looking'] True\n",
      "['swim', 'swimming', 'sit', 'sitting'] False\n",
      "['run', 'running', 'listen', 'listening'] False\n",
      "['think', 'thinking', 'read', 'reading'] False\n",
      "['up', 'down', 'close', 'far'] False\n"
     ]
    }
   ],
   "source": [
    "from keras.models import load_model\n",
    "model = load_model('skipgram_simple.h5')\n",
    "weights = model.layers[0].get_weights()[0]\n",
    "\n",
    "analogy(weights, corpus_anal)"
   ]
  },
  {
   "cell_type": "code",
   "execution_count": 44,
   "metadata": {},
   "outputs": [
    {
     "name": "stdout",
     "output_type": "stream",
     "text": [
      "[t-SNE] Computing 91 nearest neighbors...\n",
      "[t-SNE] Indexed 1182 samples in 0.040s...\n",
      "[t-SNE] Computed neighbors for 1182 samples in 2.872s...\n",
      "[t-SNE] Computed conditional probabilities for sample 1000 / 1182\n",
      "[t-SNE] Computed conditional probabilities for sample 1182 / 1182\n",
      "[t-SNE] Mean sigma: 0.025614\n",
      "[t-SNE] KL divergence after 250 iterations with early exaggeration: 95.183945\n",
      "[t-SNE] Error after 1000 iterations: 1.535138\n"
     ]
    },
    {
     "data": {
      "image/png": "[encoded data removed]",
      "text/plain": [
       "<matplotlib.figure.Figure at 0x1ab767b2cf8>"
      ]
     },
     "metadata": {},
     "output_type": "display_data"
    }
   ],
   "source": [
    "#Visualization results trained word embeddings\n",
    "\n",
    "from sklearn.manifold import TSNE\n",
    "import matplotlib.pyplot as plt\n",
    "def visualize(weights):\n",
    "    n_sne = 1000\n",
    "    tsne = TSNE(verbose=1)\n",
    "    tsne_results = tsne.fit_transform(weights)\n",
    "\n",
    "    df_tsne = {}\n",
    "    df_tsne['x-tsne'] = tsne_results[:,0]\n",
    "    df_tsne['y-tsne'] = tsne_results[:,1]\n",
    "    %matplotlib inline\n",
    "\n",
    "    plt.scatter(df_tsne['x-tsne'], df_tsne['y-tsne'])\n",
    "\n",
    "visualize(co_occurence[:])\n"
   ]
  },
  {
   "cell_type": "code",
   "execution_count": 53,
   "metadata": {},
   "outputs": [
    {
     "name": "stdout",
     "output_type": "stream",
     "text": [
      "[t-SNE] Computing 91 nearest neighbors...\n",
      "[t-SNE] Indexed 1183 samples in 0.004s...\n",
      "[t-SNE] Computed neighbors for 1183 samples in 0.281s...\n",
      "[t-SNE] Computed conditional probabilities for sample 1000 / 1183\n",
      "[t-SNE] Computed conditional probabilities for sample 1183 / 1183\n",
      "[t-SNE] Mean sigma: 0.109482\n",
      "[t-SNE] KL divergence after 250 iterations with early exaggeration: 82.976036\n",
      "[t-SNE] Error after 1000 iterations: 2.740622\n"
     ]
    },
    {
     "data": {
      "image/png": "[encoded data removed]",
      "text/plain": [
       "<matplotlib.figure.Figure at 0x1ab779bc5f8>"
      ]
     },
     "metadata": {},
     "output_type": "display_data"
    }
   ],
   "source": [
    "from keras.models import load_model\n",
    "model = load_model('skipgram_simple.h5')\n",
    "weights = model.layers[0].get_weights()[0]\n",
    "\n",
    "visualize(weights)"
   ]
  },
  {
   "cell_type": "markdown",
   "metadata": {},
   "source": [
    "Interpretation results of the visualization"
   ]
  },
  {
   "cell_type": "markdown",
   "metadata": {},
   "source": [
    "## Compare the results of the trained word embeddings with the word-word co-occurrence matrix:\n",
    "\n",
    "Comparison performance:\n",
    "\n",
    "In the results above you can see that looking at the the different methods we do find some correlation. It can be seen that there are only two collection of words on which all models agree that they are similar. That are the combinations of ['go', 'going', 'look', 'looking'] and ['listen', 'listening', 'look', 'looking']. What is curious is that in both examples the words look and looking are present. \n",
    "\n",
    "Apart from that it is noticable that our own analogy perfoms like the CBOW and Skipgram models with only one dense level. There are some collection of words on which it only agrees with one of the two models or non of the two models. But in general our own analogy agrees more with the one dense function CBOW and Skipgram agree more than compared to the extra dense CBOW and Skipgram model. \n",
    "\n",
    "However, it it worth mentioning that the extra dense models tend to agree with eachother meaning that if one evaluates to true the other also evaluates to true. This might be due to the fact that the same activation functions have been used.\n",
    "\n",
    "Finally it is important to mention that we used hardcoded values to determine whether a collection of words evaluates to true or false within a specific model. It could be improved by using the nearest neighbour of the outcomming vector and compare that to the vector of the word which we expect it to be. We expect this method to result in more reliable results than hardcoding the values."
   ]
  },
  {
   "cell_type": "markdown",
   "metadata": {},
   "source": [
    "## Discussion of the advantages of CBOW and Skipgram "
   ]
  },
  {
   "cell_type": "markdown",
   "metadata": {},
   "source": [
    "## Discussion of the advantages of negative sampling"
   ]
  },
  {
   "cell_type": "markdown",
   "metadata": {},
   "source": [
    "## Discussion of the drawbacks of CBOW and Skipgram"
   ]
  },
  {
   "cell_type": "code",
   "execution_count": 49,
   "metadata": {},
   "outputs": [
    {
     "ename": "FileNotFoundError",
     "evalue": "[Errno 2] No such file or directory: 'your path /GoogleNews-vectors-negative300.bin'",
     "output_type": "error",
     "traceback": [
      "\u001b[1;31m---------------------------------------------------------------------------\u001b[0m",
      "\u001b[1;31mFileNotFoundError\u001b[0m                         Traceback (most recent call last)",
      "\u001b[1;32m<ipython-input-49-9ecd3e6043a3>\u001b[0m in \u001b[0;36m<module>\u001b[1;34m()\u001b[0m\n\u001b[0;32m      3\u001b[0m \u001b[0mpath_word2vec\u001b[0m \u001b[1;33m=\u001b[0m \u001b[1;34m\"your path /GoogleNews-vectors-negative300.bin\"\u001b[0m\u001b[1;33m\u001b[0m\u001b[0m\n\u001b[0;32m      4\u001b[0m \u001b[1;33m\u001b[0m\u001b[0m\n\u001b[1;32m----> 5\u001b[1;33m \u001b[0mword2vec\u001b[0m \u001b[1;33m=\u001b[0m \u001b[0mKeyedVectors\u001b[0m\u001b[1;33m.\u001b[0m\u001b[0mload_word2vec_format\u001b[0m\u001b[1;33m(\u001b[0m\u001b[0mpath_word2vec\u001b[0m\u001b[1;33m,\u001b[0m \u001b[0mbinary\u001b[0m\u001b[1;33m=\u001b[0m\u001b[1;32mTrue\u001b[0m\u001b[1;33m)\u001b[0m\u001b[1;33m\u001b[0m\u001b[0m\n\u001b[0m",
      "\u001b[1;32m~\\Anaconda3\\envs\\Python35\\lib\\site-packages\\gensim\\models\\keyedvectors.py\u001b[0m in \u001b[0;36mload_word2vec_format\u001b[1;34m(cls, fname, fvocab, binary, encoding, unicode_errors, limit, datatype)\u001b[0m\n\u001b[0;32m   1001\u001b[0m         return _load_word2vec_format(\n\u001b[0;32m   1002\u001b[0m             \u001b[0mWord2VecKeyedVectors\u001b[0m\u001b[1;33m,\u001b[0m \u001b[0mfname\u001b[0m\u001b[1;33m,\u001b[0m \u001b[0mfvocab\u001b[0m\u001b[1;33m=\u001b[0m\u001b[0mfvocab\u001b[0m\u001b[1;33m,\u001b[0m \u001b[0mbinary\u001b[0m\u001b[1;33m=\u001b[0m\u001b[0mbinary\u001b[0m\u001b[1;33m,\u001b[0m \u001b[0mencoding\u001b[0m\u001b[1;33m=\u001b[0m\u001b[0mencoding\u001b[0m\u001b[1;33m,\u001b[0m \u001b[0municode_errors\u001b[0m\u001b[1;33m=\u001b[0m\u001b[0municode_errors\u001b[0m\u001b[1;33m,\u001b[0m\u001b[1;33m\u001b[0m\u001b[0m\n\u001b[1;32m-> 1003\u001b[1;33m             limit=limit, datatype=datatype)\n\u001b[0m\u001b[0;32m   1004\u001b[0m \u001b[1;33m\u001b[0m\u001b[0m\n\u001b[0;32m   1005\u001b[0m     \u001b[1;32mdef\u001b[0m \u001b[0mget_keras_embedding\u001b[0m\u001b[1;33m(\u001b[0m\u001b[0mself\u001b[0m\u001b[1;33m,\u001b[0m \u001b[0mtrain_embeddings\u001b[0m\u001b[1;33m=\u001b[0m\u001b[1;32mFalse\u001b[0m\u001b[1;33m)\u001b[0m\u001b[1;33m:\u001b[0m\u001b[1;33m\u001b[0m\u001b[0m\n",
      "\u001b[1;32m~\\Anaconda3\\envs\\Python35\\lib\\site-packages\\gensim\\models\\utils_any2vec.py\u001b[0m in \u001b[0;36m_load_word2vec_format\u001b[1;34m(cls, fname, fvocab, binary, encoding, unicode_errors, limit, datatype)\u001b[0m\n\u001b[0;32m    165\u001b[0m \u001b[1;33m\u001b[0m\u001b[0m\n\u001b[0;32m    166\u001b[0m     \u001b[0mlogger\u001b[0m\u001b[1;33m.\u001b[0m\u001b[0minfo\u001b[0m\u001b[1;33m(\u001b[0m\u001b[1;34m\"loading projection weights from %s\"\u001b[0m\u001b[1;33m,\u001b[0m \u001b[0mfname\u001b[0m\u001b[1;33m)\u001b[0m\u001b[1;33m\u001b[0m\u001b[0m\n\u001b[1;32m--> 167\u001b[1;33m     \u001b[1;32mwith\u001b[0m \u001b[0mutils\u001b[0m\u001b[1;33m.\u001b[0m\u001b[0msmart_open\u001b[0m\u001b[1;33m(\u001b[0m\u001b[0mfname\u001b[0m\u001b[1;33m)\u001b[0m \u001b[1;32mas\u001b[0m \u001b[0mfin\u001b[0m\u001b[1;33m:\u001b[0m\u001b[1;33m\u001b[0m\u001b[0m\n\u001b[0m\u001b[0;32m    168\u001b[0m         \u001b[0mheader\u001b[0m \u001b[1;33m=\u001b[0m \u001b[0mutils\u001b[0m\u001b[1;33m.\u001b[0m\u001b[0mto_unicode\u001b[0m\u001b[1;33m(\u001b[0m\u001b[0mfin\u001b[0m\u001b[1;33m.\u001b[0m\u001b[0mreadline\u001b[0m\u001b[1;33m(\u001b[0m\u001b[1;33m)\u001b[0m\u001b[1;33m,\u001b[0m \u001b[0mencoding\u001b[0m\u001b[1;33m=\u001b[0m\u001b[0mencoding\u001b[0m\u001b[1;33m)\u001b[0m\u001b[1;33m\u001b[0m\u001b[0m\n\u001b[0;32m    169\u001b[0m         \u001b[0mvocab_size\u001b[0m\u001b[1;33m,\u001b[0m \u001b[0mvector_size\u001b[0m \u001b[1;33m=\u001b[0m \u001b[1;33m(\u001b[0m\u001b[0mint\u001b[0m\u001b[1;33m(\u001b[0m\u001b[0mx\u001b[0m\u001b[1;33m)\u001b[0m \u001b[1;32mfor\u001b[0m \u001b[0mx\u001b[0m \u001b[1;32min\u001b[0m \u001b[0mheader\u001b[0m\u001b[1;33m.\u001b[0m\u001b[0msplit\u001b[0m\u001b[1;33m(\u001b[0m\u001b[1;33m)\u001b[0m\u001b[1;33m)\u001b[0m  \u001b[1;31m# throws for invalid file format\u001b[0m\u001b[1;33m\u001b[0m\u001b[0m\n",
      "\u001b[1;32m~\\Anaconda3\\envs\\Python35\\lib\\site-packages\\smart_open\\smart_open_lib.py\u001b[0m in \u001b[0;36msmart_open\u001b[1;34m(uri, mode, **kw)\u001b[0m\n\u001b[0;32m    174\u001b[0m             \u001b[0mencoding\u001b[0m \u001b[1;33m=\u001b[0m \u001b[0mkw\u001b[0m\u001b[1;33m.\u001b[0m\u001b[0mpop\u001b[0m\u001b[1;33m(\u001b[0m\u001b[1;34m'encoding'\u001b[0m\u001b[1;33m,\u001b[0m \u001b[1;32mNone\u001b[0m\u001b[1;33m)\u001b[0m\u001b[1;33m\u001b[0m\u001b[0m\n\u001b[0;32m    175\u001b[0m             \u001b[0merrors\u001b[0m \u001b[1;33m=\u001b[0m \u001b[0mkw\u001b[0m\u001b[1;33m.\u001b[0m\u001b[0mpop\u001b[0m\u001b[1;33m(\u001b[0m\u001b[1;34m'errors'\u001b[0m\u001b[1;33m,\u001b[0m \u001b[0mDEFAULT_ERRORS\u001b[0m\u001b[1;33m)\u001b[0m\u001b[1;33m\u001b[0m\u001b[0m\n\u001b[1;32m--> 176\u001b[1;33m             \u001b[1;32mreturn\u001b[0m \u001b[0mfile_smart_open\u001b[0m\u001b[1;33m(\u001b[0m\u001b[0mparsed_uri\u001b[0m\u001b[1;33m.\u001b[0m\u001b[0muri_path\u001b[0m\u001b[1;33m,\u001b[0m \u001b[0mmode\u001b[0m\u001b[1;33m,\u001b[0m \u001b[0mencoding\u001b[0m\u001b[1;33m=\u001b[0m\u001b[0mencoding\u001b[0m\u001b[1;33m,\u001b[0m \u001b[0merrors\u001b[0m\u001b[1;33m=\u001b[0m\u001b[0merrors\u001b[0m\u001b[1;33m)\u001b[0m\u001b[1;33m\u001b[0m\u001b[0m\n\u001b[0m\u001b[0;32m    177\u001b[0m         \u001b[1;32melif\u001b[0m \u001b[0mparsed_uri\u001b[0m\u001b[1;33m.\u001b[0m\u001b[0mscheme\u001b[0m \u001b[1;32min\u001b[0m \u001b[1;33m(\u001b[0m\u001b[1;34m\"s3\"\u001b[0m\u001b[1;33m,\u001b[0m \u001b[1;34m\"s3n\"\u001b[0m\u001b[1;33m,\u001b[0m \u001b[1;34m's3u'\u001b[0m\u001b[1;33m)\u001b[0m\u001b[1;33m:\u001b[0m\u001b[1;33m\u001b[0m\u001b[0m\n\u001b[0;32m    178\u001b[0m             \u001b[1;32mreturn\u001b[0m \u001b[0ms3_open_uri\u001b[0m\u001b[1;33m(\u001b[0m\u001b[0mparsed_uri\u001b[0m\u001b[1;33m,\u001b[0m \u001b[0mmode\u001b[0m\u001b[1;33m,\u001b[0m \u001b[1;33m**\u001b[0m\u001b[0mkw\u001b[0m\u001b[1;33m)\u001b[0m\u001b[1;33m\u001b[0m\u001b[0m\n",
      "\u001b[1;32m~\\Anaconda3\\envs\\Python35\\lib\\site-packages\\smart_open\\smart_open_lib.py\u001b[0m in \u001b[0;36mfile_smart_open\u001b[1;34m(fname, mode, encoding, errors)\u001b[0m\n\u001b[0;32m    669\u001b[0m     \u001b[1;32mexcept\u001b[0m \u001b[0mKeyError\u001b[0m\u001b[1;33m:\u001b[0m\u001b[1;33m\u001b[0m\u001b[0m\n\u001b[0;32m    670\u001b[0m         \u001b[0mraw_mode\u001b[0m \u001b[1;33m=\u001b[0m \u001b[0mmode\u001b[0m\u001b[1;33m\u001b[0m\u001b[0m\n\u001b[1;32m--> 671\u001b[1;33m     \u001b[0mraw_fobj\u001b[0m \u001b[1;33m=\u001b[0m \u001b[0mopen\u001b[0m\u001b[1;33m(\u001b[0m\u001b[0mfname\u001b[0m\u001b[1;33m,\u001b[0m \u001b[0mraw_mode\u001b[0m\u001b[1;33m)\u001b[0m\u001b[1;33m\u001b[0m\u001b[0m\n\u001b[0m\u001b[0;32m    672\u001b[0m     \u001b[0mdecompressed_fobj\u001b[0m \u001b[1;33m=\u001b[0m \u001b[0mcompression_wrapper\u001b[0m\u001b[1;33m(\u001b[0m\u001b[0mraw_fobj\u001b[0m\u001b[1;33m,\u001b[0m \u001b[0mfname\u001b[0m\u001b[1;33m,\u001b[0m \u001b[0mraw_mode\u001b[0m\u001b[1;33m)\u001b[0m\u001b[1;33m\u001b[0m\u001b[0m\n\u001b[0;32m    673\u001b[0m     \u001b[0mdecoded_fobj\u001b[0m \u001b[1;33m=\u001b[0m \u001b[0mencoding_wrapper\u001b[0m\u001b[1;33m(\u001b[0m\u001b[0mdecompressed_fobj\u001b[0m\u001b[1;33m,\u001b[0m \u001b[0mmode\u001b[0m\u001b[1;33m,\u001b[0m \u001b[0mencoding\u001b[0m\u001b[1;33m=\u001b[0m\u001b[0mencoding\u001b[0m\u001b[1;33m,\u001b[0m \u001b[0merrors\u001b[0m\u001b[1;33m=\u001b[0m\u001b[0merrors\u001b[0m\u001b[1;33m)\u001b[0m\u001b[1;33m\u001b[0m\u001b[0m\n",
      "\u001b[1;31mFileNotFoundError\u001b[0m: [Errno 2] No such file or directory: 'your path /GoogleNews-vectors-negative300.bin'"
     ]
    }
   ],
   "source": [
    "#load pretrained word embeddings of word2vec\n",
    "\n",
    "path_word2vec = \"Data/GoogleNews-vectors-negative300.bin\"\n",
    "\n",
    "word2vec = KeyedVectors.load_word2vec_format(path_word2vec, binary=True)"
   ]
  },
  {
   "cell_type": "code",
   "execution_count": 54,
   "metadata": {},
   "outputs": [
    {
     "ename": "ValueError",
     "evalue": "invalid literal for int() with base 10: 'the'",
     "output_type": "error",
     "traceback": [
      "\u001b[1;31m---------------------------------------------------------------------------\u001b[0m",
      "\u001b[1;31mValueError\u001b[0m                                Traceback (most recent call last)",
      "\u001b[1;32m<ipython-input-54-e0671b67789a>\u001b[0m in \u001b[0;36m<module>\u001b[1;34m()\u001b[0m\n\u001b[0;32m      8\u001b[0m \u001b[0mgensim\u001b[0m\u001b[1;33m.\u001b[0m\u001b[0mscripts\u001b[0m\u001b[1;33m.\u001b[0m\u001b[0mglove2word2vec\u001b[0m\u001b[1;33m.\u001b[0m\u001b[0mglove2word2vec\u001b[0m\u001b[1;33m(\u001b[0m\u001b[0mpath\u001b[0m\u001b[1;33m,\u001b[0m \u001b[1;34m\"glove_converted.txt\"\u001b[0m\u001b[1;33m)\u001b[0m\u001b[1;33m\u001b[0m\u001b[0m\n\u001b[0;32m      9\u001b[0m \u001b[1;33m\u001b[0m\u001b[0m\n\u001b[1;32m---> 10\u001b[1;33m \u001b[0mglove\u001b[0m \u001b[1;33m=\u001b[0m \u001b[0mKeyedVectors\u001b[0m\u001b[1;33m.\u001b[0m\u001b[0mload_word2vec_format\u001b[0m\u001b[1;33m(\u001b[0m\u001b[0mpath\u001b[0m\u001b[1;33m,\u001b[0m \u001b[0mbinary\u001b[0m\u001b[1;33m=\u001b[0m\u001b[1;32mFalse\u001b[0m\u001b[1;33m)\u001b[0m\u001b[1;33m\u001b[0m\u001b[0m\n\u001b[0m",
      "\u001b[1;32m~\\Anaconda3\\envs\\Python35\\lib\\site-packages\\gensim\\models\\keyedvectors.py\u001b[0m in \u001b[0;36mload_word2vec_format\u001b[1;34m(cls, fname, fvocab, binary, encoding, unicode_errors, limit, datatype)\u001b[0m\n\u001b[0;32m   1001\u001b[0m         return _load_word2vec_format(\n\u001b[0;32m   1002\u001b[0m             \u001b[0mWord2VecKeyedVectors\u001b[0m\u001b[1;33m,\u001b[0m \u001b[0mfname\u001b[0m\u001b[1;33m,\u001b[0m \u001b[0mfvocab\u001b[0m\u001b[1;33m=\u001b[0m\u001b[0mfvocab\u001b[0m\u001b[1;33m,\u001b[0m \u001b[0mbinary\u001b[0m\u001b[1;33m=\u001b[0m\u001b[0mbinary\u001b[0m\u001b[1;33m,\u001b[0m \u001b[0mencoding\u001b[0m\u001b[1;33m=\u001b[0m\u001b[0mencoding\u001b[0m\u001b[1;33m,\u001b[0m \u001b[0municode_errors\u001b[0m\u001b[1;33m=\u001b[0m\u001b[0municode_errors\u001b[0m\u001b[1;33m,\u001b[0m\u001b[1;33m\u001b[0m\u001b[0m\n\u001b[1;32m-> 1003\u001b[1;33m             limit=limit, datatype=datatype)\n\u001b[0m\u001b[0;32m   1004\u001b[0m \u001b[1;33m\u001b[0m\u001b[0m\n\u001b[0;32m   1005\u001b[0m     \u001b[1;32mdef\u001b[0m \u001b[0mget_keras_embedding\u001b[0m\u001b[1;33m(\u001b[0m\u001b[0mself\u001b[0m\u001b[1;33m,\u001b[0m \u001b[0mtrain_embeddings\u001b[0m\u001b[1;33m=\u001b[0m\u001b[1;32mFalse\u001b[0m\u001b[1;33m)\u001b[0m\u001b[1;33m:\u001b[0m\u001b[1;33m\u001b[0m\u001b[0m\n",
      "\u001b[1;32m~\\Anaconda3\\envs\\Python35\\lib\\site-packages\\gensim\\models\\utils_any2vec.py\u001b[0m in \u001b[0;36m_load_word2vec_format\u001b[1;34m(cls, fname, fvocab, binary, encoding, unicode_errors, limit, datatype)\u001b[0m\n\u001b[0;32m    167\u001b[0m     \u001b[1;32mwith\u001b[0m \u001b[0mutils\u001b[0m\u001b[1;33m.\u001b[0m\u001b[0msmart_open\u001b[0m\u001b[1;33m(\u001b[0m\u001b[0mfname\u001b[0m\u001b[1;33m)\u001b[0m \u001b[1;32mas\u001b[0m \u001b[0mfin\u001b[0m\u001b[1;33m:\u001b[0m\u001b[1;33m\u001b[0m\u001b[0m\n\u001b[0;32m    168\u001b[0m         \u001b[0mheader\u001b[0m \u001b[1;33m=\u001b[0m \u001b[0mutils\u001b[0m\u001b[1;33m.\u001b[0m\u001b[0mto_unicode\u001b[0m\u001b[1;33m(\u001b[0m\u001b[0mfin\u001b[0m\u001b[1;33m.\u001b[0m\u001b[0mreadline\u001b[0m\u001b[1;33m(\u001b[0m\u001b[1;33m)\u001b[0m\u001b[1;33m,\u001b[0m \u001b[0mencoding\u001b[0m\u001b[1;33m=\u001b[0m\u001b[0mencoding\u001b[0m\u001b[1;33m)\u001b[0m\u001b[1;33m\u001b[0m\u001b[0m\n\u001b[1;32m--> 169\u001b[1;33m         \u001b[0mvocab_size\u001b[0m\u001b[1;33m,\u001b[0m \u001b[0mvector_size\u001b[0m \u001b[1;33m=\u001b[0m \u001b[1;33m(\u001b[0m\u001b[0mint\u001b[0m\u001b[1;33m(\u001b[0m\u001b[0mx\u001b[0m\u001b[1;33m)\u001b[0m \u001b[1;32mfor\u001b[0m \u001b[0mx\u001b[0m \u001b[1;32min\u001b[0m \u001b[0mheader\u001b[0m\u001b[1;33m.\u001b[0m\u001b[0msplit\u001b[0m\u001b[1;33m(\u001b[0m\u001b[1;33m)\u001b[0m\u001b[1;33m)\u001b[0m  \u001b[1;31m# throws for invalid file format\u001b[0m\u001b[1;33m\u001b[0m\u001b[0m\n\u001b[0m\u001b[0;32m    170\u001b[0m         \u001b[1;32mif\u001b[0m \u001b[0mlimit\u001b[0m\u001b[1;33m:\u001b[0m\u001b[1;33m\u001b[0m\u001b[0m\n\u001b[0;32m    171\u001b[0m             \u001b[0mvocab_size\u001b[0m \u001b[1;33m=\u001b[0m \u001b[0mmin\u001b[0m\u001b[1;33m(\u001b[0m\u001b[0mvocab_size\u001b[0m\u001b[1;33m,\u001b[0m \u001b[0mlimit\u001b[0m\u001b[1;33m)\u001b[0m\u001b[1;33m\u001b[0m\u001b[0m\n",
      "\u001b[1;32m~\\Anaconda3\\envs\\Python35\\lib\\site-packages\\gensim\\models\\utils_any2vec.py\u001b[0m in \u001b[0;36m<genexpr>\u001b[1;34m(.0)\u001b[0m\n\u001b[0;32m    167\u001b[0m     \u001b[1;32mwith\u001b[0m \u001b[0mutils\u001b[0m\u001b[1;33m.\u001b[0m\u001b[0msmart_open\u001b[0m\u001b[1;33m(\u001b[0m\u001b[0mfname\u001b[0m\u001b[1;33m)\u001b[0m \u001b[1;32mas\u001b[0m \u001b[0mfin\u001b[0m\u001b[1;33m:\u001b[0m\u001b[1;33m\u001b[0m\u001b[0m\n\u001b[0;32m    168\u001b[0m         \u001b[0mheader\u001b[0m \u001b[1;33m=\u001b[0m \u001b[0mutils\u001b[0m\u001b[1;33m.\u001b[0m\u001b[0mto_unicode\u001b[0m\u001b[1;33m(\u001b[0m\u001b[0mfin\u001b[0m\u001b[1;33m.\u001b[0m\u001b[0mreadline\u001b[0m\u001b[1;33m(\u001b[0m\u001b[1;33m)\u001b[0m\u001b[1;33m,\u001b[0m \u001b[0mencoding\u001b[0m\u001b[1;33m=\u001b[0m\u001b[0mencoding\u001b[0m\u001b[1;33m)\u001b[0m\u001b[1;33m\u001b[0m\u001b[0m\n\u001b[1;32m--> 169\u001b[1;33m         \u001b[0mvocab_size\u001b[0m\u001b[1;33m,\u001b[0m \u001b[0mvector_size\u001b[0m \u001b[1;33m=\u001b[0m \u001b[1;33m(\u001b[0m\u001b[0mint\u001b[0m\u001b[1;33m(\u001b[0m\u001b[0mx\u001b[0m\u001b[1;33m)\u001b[0m \u001b[1;32mfor\u001b[0m \u001b[0mx\u001b[0m \u001b[1;32min\u001b[0m \u001b[0mheader\u001b[0m\u001b[1;33m.\u001b[0m\u001b[0msplit\u001b[0m\u001b[1;33m(\u001b[0m\u001b[1;33m)\u001b[0m\u001b[1;33m)\u001b[0m  \u001b[1;31m# throws for invalid file format\u001b[0m\u001b[1;33m\u001b[0m\u001b[0m\n\u001b[0m\u001b[0;32m    170\u001b[0m         \u001b[1;32mif\u001b[0m \u001b[0mlimit\u001b[0m\u001b[1;33m:\u001b[0m\u001b[1;33m\u001b[0m\u001b[0m\n\u001b[0;32m    171\u001b[0m             \u001b[0mvocab_size\u001b[0m \u001b[1;33m=\u001b[0m \u001b[0mmin\u001b[0m\u001b[1;33m(\u001b[0m\u001b[0mvocab_size\u001b[0m\u001b[1;33m,\u001b[0m \u001b[0mlimit\u001b[0m\u001b[1;33m)\u001b[0m\u001b[1;33m\u001b[0m\u001b[0m\n",
      "\u001b[1;31mValueError\u001b[0m: invalid literal for int() with base 10: 'the'"
     ]
    }
   ],
   "source": [
    "from gensim.scripts import glove2word2vec\n",
    "#load pretraind word embeddings of Glove\n",
    "\n",
    "path = \"data/glove.6B/glove.6B.300d.txt\"\n",
    "\n",
    "#convert GloVe into word2vec format\n",
    "gensim.scripts.glove2word2vec.get_glove_info(path)\n",
    "gensim.scripts.glove2word2vec.glove2word2vec(path, \"glove_converted.txt\")\n",
    "\n",
    "glove = KeyedVectors.load_word2vec_format(path, binary=False)"
   ]
  },
  {
   "cell_type": "code",
   "execution_count": null,
   "metadata": {},
   "outputs": [],
   "source": [
    "#Visualize the pre-trained word embeddings"
   ]
  },
  {
   "cell_type": "markdown",
   "metadata": {},
   "source": [
    "Comparison performance with your own trained word embeddings"
   ]
  },
  {
   "cell_type": "code",
   "execution_count": null,
   "metadata": {},
   "outputs": [],
   "source": []
  }
 ],
 "metadata": {
  "kernelspec": {
   "display_name": "Python 3",
   "language": "python",
   "name": "python3"
  },
  "language_info": {
   "codemirror_mode": {
    "name": "ipython",
    "version": 3
   },
   "file_extension": ".py",
   "mimetype": "text/x-python",
   "name": "python",
   "nbconvert_exporter": "python",
   "pygments_lexer": "ipython3",
   "version": "3.5.4"
  }
 },
 "nbformat": 4,
 "nbformat_minor": 2
}
