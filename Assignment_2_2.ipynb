{
  "nbformat": 4,
  "nbformat_minor": 0,
  "metadata": {
    "colab": {
      "name": "Assignment 2.ipynb",
      "version": "0.3.2",
      "views": {},
      "default_view": {},
      "provenance": []
    },
    "kernelspec": {
      "display_name": "Python 3",
      "language": "python",
      "name": "python3"
    },
    "accelerator": "GPU"
  },
  "cells": [
    {
      "metadata": {
        "id": "Nsuy1LjjQyKh",
        "colab_type": "text"
      },
      "cell_type": "markdown",
      "source": [
        "# Assignment 2\n",
        "\n",
        "***\n",
        "\n",
        "## Question 1: Neural Codes & Nearest Neighbor retrieval (7.5pt)\n",
        "The Caltech101 dataset consists of images of 101 different objects. In this question you will develop an image retrieval system using image representations (neural codes) learned with a deep convolutional neural network and a given distance metric.\n",
        "\n",
        "In the tasks below you will need to implement the following steps:\n",
        "\n",
        "* Retrieval for $n$ selected (distinct) query images from the dataset\n",
        "    * For each query image, obtain the 5 most similar images (excluding the query image itself!)\n",
        "* Evaluation of the quality of the retrieval \n",
        "    * The Caltech101 images are annotated with their object class. Use these annotations to evaluate the accuracy of the retrieval task.\n",
        "    * For each query image, count the number of images whose class corresponds to the one from the query. The score of the retrieval for that image then ranges between:\n",
        "        * **5** *all* retrieved images' classes agree with the query image class\n",
        "        * **0** *none* of the images' classes agree with the query image class\n",
        "    * Compute the average of all $n$ queries\n",
        "\n",
        "***\n",
        "\n",
        "### Task 1.1:  Neural codes image retrieval\n",
        "**a)** Implement the retrieval task and evaluate the results for $n=200$ images. Use the provided VGG16 network pre-trained on ImageNet to compute \"neural codes\" and L2-distance. Specifically use the codes produces by the following layers of the model: \n",
        "1. the \"fc1\"-layer\n",
        "2. the \"fc2\"-layer\n",
        "\n",
        "Provide the retrieval evaluation scores for both tasks."
      ]
    },
    {
      "metadata": {
        "id": "skee9Qr2RWLG",
        "colab_type": "code",
        "colab": {
          "autoexec": {
            "startup": false,
            "wait_interval": 0
          },
          "output_extras": [
            {
              "item_id": 1
            }
          ],
          "base_uri": "https://localhost:8080/",
          "height": 34
        },
        "outputId": "ea1e4f24-4a3d-4b57-9f7d-f7aa3dbe7d23",
        "executionInfo": {
          "status": "ok",
          "timestamp": 1520942654112,
          "user_tz": -60,
          "elapsed": 8275,
          "user": {
            "displayName": "Thijs Ledeboer",
            "photoUrl": "https://lh3.googleusercontent.com/a/default-user=s128",
            "userId": "112614377174306060047"
          }
        }
      },
      "cell_type": "code",
      "source": [
        "import tensorflow as tf\n",
        "print(tf.test.gpu_device_name())\n",
        "!pip install -q keras==2.1.3"
      ],
      "execution_count": 1,
      "outputs": [
        {
          "output_type": "stream",
          "text": [
            "/device:GPU:0\n"
          ],
          "name": "stdout"
        }
      ]
    },
    {
      "metadata": {
        "id": "0GjcnIaEQyKi",
        "colab_type": "code",
        "colab": {
          "autoexec": {
            "startup": false,
            "wait_interval": 0
          }
        }
      },
      "cell_type": "code",
      "source": [
        "# you'll need these imports:\n",
        "from sklearn.neighbors import NearestNeighbors\n",
        "import os\n",
        "import numpy as np\n",
        "import pickle"
      ],
      "execution_count": 0,
      "outputs": []
    },
    {
      "metadata": {
        "id": "B-9os9OdAiuH",
        "colab_type": "code",
        "colab": {
          "autoexec": {
            "startup": false,
            "wait_interval": 0
          }
        }
      },
      "cell_type": "code",
      "source": [
        "# Load data"
      ],
      "execution_count": 0,
      "outputs": []
    },
    {
      "metadata": {
        "id": "BY5hUF6qQyKm",
        "colab_type": "code",
        "colab": {
          "autoexec": {
            "startup": false,
            "wait_interval": 0
          },
          "output_extras": [
            {
              "item_id": 1
            }
          ],
          "base_uri": "https://localhost:8080/",
          "height": 231
        },
        "outputId": "dba1a587-8ea3-402e-f6f1-054fb9c96be1",
        "executionInfo": {
          "status": "error",
          "timestamp": 1520938001237,
          "user_tz": -60,
          "elapsed": 478,
          "user": {
            "displayName": "Thijs Ledeboer",
            "photoUrl": "https://lh3.googleusercontent.com/a/default-user=s128",
            "userId": "112614377174306060047"
          }
        }
      },
      "cell_type": "code",
      "source": [
        "# NOTE: you will first need to apply some changes to \"Practical-3.3.0_preprocess-caltech101.ipynb\" and run it\n",
        "#       to obtain a pickle file with \"fc1\"-features. You don't need to show these changes here.\n",
        "\n",
        "\n",
        "# make random selection of n query images/indices, the same for all experiments\n",
        "n = 200\n",
        "n_examples = 8677  # the dataset has 8677 images\n",
        "indices = np.random.choice(range(n_examples), size=n, replace=False)\n",
        "\n",
        "# iterate over two data representations (make sure these two files exist in the \"data\" subfolder first)\n",
        "for datapath in (\"caltech101_VGG16_fc1.p\", \"caltech101_VGG16_fc2.p\"):\n",
        "    # load the dataset\n",
        "    with open(os.path.join(\"data\", datapath), \"rb\") as f:\n",
        "        X_fc, y, X_paths, classes = pickle.load(f)\n",
        "\n",
        "\n",
        "    # === SOLUTION: ===\n",
        "    # insert code here\n",
        "    "
      ],
      "execution_count": 18,
      "outputs": [
        {
          "output_type": "error",
          "ename": "FileNotFoundError",
          "evalue": "ignored",
          "traceback": [
            "\u001b[0;31m---------------------------------------------------------------------------\u001b[0m",
            "\u001b[0;31mFileNotFoundError\u001b[0m                         Traceback (most recent call last)",
            "\u001b[0;32m<ipython-input-18-81b9f4805426>\u001b[0m in \u001b[0;36m<module>\u001b[0;34m()\u001b[0m\n\u001b[1;32m      6\u001b[0m \u001b[0;32mfor\u001b[0m \u001b[0mdatapath\u001b[0m \u001b[0;32min\u001b[0m \u001b[0;34m(\u001b[0m\u001b[0;34m\"caltech101_VGG16_fc1.p\"\u001b[0m\u001b[0;34m,\u001b[0m \u001b[0;34m\"caltech101_VGG16_fc2.p\"\u001b[0m\u001b[0;34m)\u001b[0m\u001b[0;34m:\u001b[0m\u001b[0;34m\u001b[0m\u001b[0m\n\u001b[1;32m      7\u001b[0m     \u001b[0;31m# load the dataset\u001b[0m\u001b[0;34m\u001b[0m\u001b[0;34m\u001b[0m\u001b[0m\n\u001b[0;32m----> 8\u001b[0;31m     \u001b[0;32mwith\u001b[0m \u001b[0mopen\u001b[0m\u001b[0;34m(\u001b[0m\u001b[0mos\u001b[0m\u001b[0;34m.\u001b[0m\u001b[0mpath\u001b[0m\u001b[0;34m.\u001b[0m\u001b[0mjoin\u001b[0m\u001b[0;34m(\u001b[0m\u001b[0;34m\"data\"\u001b[0m\u001b[0;34m,\u001b[0m \u001b[0mdatapath\u001b[0m\u001b[0;34m)\u001b[0m\u001b[0;34m,\u001b[0m \u001b[0;34m\"rb\"\u001b[0m\u001b[0;34m)\u001b[0m \u001b[0;32mas\u001b[0m \u001b[0mf\u001b[0m\u001b[0;34m:\u001b[0m\u001b[0;34m\u001b[0m\u001b[0m\n\u001b[0m\u001b[1;32m      9\u001b[0m         \u001b[0mX_fc\u001b[0m\u001b[0;34m,\u001b[0m \u001b[0my\u001b[0m\u001b[0;34m,\u001b[0m \u001b[0mX_paths\u001b[0m\u001b[0;34m,\u001b[0m \u001b[0mclasses\u001b[0m \u001b[0;34m=\u001b[0m \u001b[0mpickle\u001b[0m\u001b[0;34m.\u001b[0m\u001b[0mload\u001b[0m\u001b[0;34m(\u001b[0m\u001b[0mf\u001b[0m\u001b[0;34m)\u001b[0m\u001b[0;34m\u001b[0m\u001b[0m\n\u001b[1;32m     10\u001b[0m \u001b[0;34m\u001b[0m\u001b[0m\n",
            "\u001b[0;31mFileNotFoundError\u001b[0m: [Errno 2] No such file or directory: 'data/caltech101_VGG16_fc1.p'"
          ]
        }
      ]
    },
    {
      "metadata": {
        "id": "0r5yXfSrQyKo",
        "colab_type": "text"
      },
      "cell_type": "markdown",
      "source": [
        "***\n",
        "\n",
        "**b)** Which representation (\"neural code\") provided better features for the given retrieval task? \n",
        "Justify your answer and discuss possible reasons for the observed results. Relate your answer to the conclusions in the paper \"Neural Codes for Image Retrieval\".\n",
        "\n",
        "**Answer:**"
      ]
    },
    {
      "metadata": {
        "id": "fBkfJkccQyKo",
        "colab_type": "text"
      },
      "cell_type": "markdown",
      "source": [
        "*=== write your answer here ===*"
      ]
    },
    {
      "metadata": {
        "id": "YxJksBVrQyKq",
        "colab_type": "text"
      },
      "cell_type": "markdown",
      "source": [
        "***\n",
        "\n",
        "### Task 1.2: Detailed evaluation\n",
        "**a)** The retrieval scores can vary from one query image to another. Some images are quite representative and for them retrieval works well, some are not so much.\n",
        "For the same retrieval task given above using \"fc2\"-features, find (if possible) six query images such that they range from excellent to poor retrieval performance. More specifically find example query images that result in query scores of exactly 0, 1, 2, 3, 4, and 5.\n",
        "\n",
        "Visualise the six (or less) resulting query images."
      ]
    },
    {
      "metadata": {
        "id": "HPqQC_nvQyKq",
        "colab_type": "code",
        "colab": {
          "autoexec": {
            "startup": false,
            "wait_interval": 0
          },
          "output_extras": [
            {
              "item_id": 1
            }
          ],
          "base_uri": "https://localhost:8080/",
          "height": 34
        },
        "outputId": "2cb2eb6c-7050-4abb-80c8-cec1eee101bd",
        "executionInfo": {
          "status": "ok",
          "timestamp": 1520942660379,
          "user_tz": -60,
          "elapsed": 517,
          "user": {
            "displayName": "Thijs Ledeboer",
            "photoUrl": "https://lh3.googleusercontent.com/a/default-user=s128",
            "userId": "112614377174306060047"
          }
        }
      },
      "cell_type": "code",
      "source": [
        "# you'll need these extra imports:\n",
        "from keras.preprocessing import image\n",
        "import matplotlib.pyplot as plt\n",
        "%matplotlib inline"
      ],
      "execution_count": 3,
      "outputs": [
        {
          "output_type": "stream",
          "text": [
            "Using TensorFlow backend.\n"
          ],
          "name": "stderr"
        }
      ]
    },
    {
      "metadata": {
        "id": "1zN39zDLQyKs",
        "colab_type": "code",
        "colab": {
          "autoexec": {
            "startup": false,
            "wait_interval": 0
          }
        }
      },
      "cell_type": "code",
      "source": [
        "# load the dataset\n",
        "datapath = \"caltech101_VGG16_fc2.p\"\n",
        "with open(os.path.join(\"data\", datapath), \"rb\") as f:\n",
        "    X_fc, y, X_paths, classes = pickle.load(f)\n",
        "\n",
        "# you can use this simple function to visualise an image, given a filepath\n",
        "def show_img(filepath):\n",
        "    img = image.load_img(filepath, target_size=(224,224))\n",
        "    plt.imshow(img)\n",
        "    plt.axis(\"off\")\n",
        "    plt.show()\n",
        "# example usage given some index < 8677:\n",
        "#index = 254\n",
        "#show_img(X_paths[index])\n",
        "\n",
        "\n",
        "# === SOLUTION: ===\n",
        "# insert code here"
      ],
      "execution_count": 0,
      "outputs": []
    },
    {
      "metadata": {
        "id": "z15AB9DdQyKu",
        "colab_type": "text"
      },
      "cell_type": "markdown",
      "source": [
        "***\n",
        "\n",
        "**b)** Looking at the results, what can you say about the \"types\" of images that obtain good retrieval scores compared to those obtaining poor retrieval scores? Give an explanation and possible solution(s).\n",
        "\n",
        "(*HINT: How did we obtain data representations for similarity measures?*)\n",
        "\n",
        "**Answer:**"
      ]
    },
    {
      "metadata": {
        "id": "0-i1ZpEHQyKu",
        "colab_type": "text"
      },
      "cell_type": "markdown",
      "source": [
        "*=== write your answer here ===*"
      ]
    },
    {
      "metadata": {
        "id": "0b6L_gVEQyKv",
        "colab_type": "text"
      },
      "cell_type": "markdown",
      "source": [
        "***\n",
        "\n",
        "### Task 1.3: Subjective evaluation\n",
        "We will now use the \"fc2\"-features to do image retrieval for query images from the \"BACKGROUND_Google\" set from the Caltech101 dataset. These images are not associated to a particular class, so we will evaluate them subjectively instead.\n",
        "\n",
        "**a)** Find two query images from the \"BACKGROUND_Google\" class, such that for the first query image relevant/similar images are retrieved (according to your own definition of relevancy/similarity), and for the second image mainly irrelevant/dissimilar images are retrieved. For each of them, visualise its 5 nearest neighbors in the Caltech101 dataset (*so do NOT retrieve images from the \"BACKGROUND_Google\" class!*), according to the \"fc2-features\" and L2-distance."
      ]
    },
    {
      "metadata": {
        "id": "xMQi6A9OQyKv",
        "colab_type": "code",
        "colab": {
          "autoexec": {
            "startup": false,
            "wait_interval": 0
          }
        }
      },
      "cell_type": "code",
      "source": [
        "# load the BACKGROUND_Google set\n",
        "with open(os.path.join(\"data\",\"caltech101_VGG16_fc2_bg.p\"), \"rb\") as f:\n",
        "    bg_fc2, bg_paths = pickle.load(f)\n",
        "\n",
        "\n",
        "# === SOLUTION: ===\n",
        "# insert code here"
      ],
      "execution_count": 0,
      "outputs": []
    },
    {
      "metadata": {
        "id": "N9QLJwglQyKy",
        "colab_type": "text"
      },
      "cell_type": "markdown",
      "source": [
        "***\n",
        "\n",
        "**b)** Motivate your idea of \"relevance\": why do you consider the results for the first image relevant/similar, and those for the second image irrelevant/dissimilar?\n",
        "\n",
        "**Answer:**"
      ]
    },
    {
      "metadata": {
        "id": "mloxLbeHQyKz",
        "colab_type": "text"
      },
      "cell_type": "markdown",
      "source": [
        "*=== write your answer here ===*"
      ]
    },
    {
      "metadata": {
        "id": "wNQno11nQyKz",
        "colab_type": "text"
      },
      "cell_type": "markdown",
      "source": [
        "***\n",
        "\n",
        "**c)** Explain why you think this retrieval method (nearest neighbor for neural codes from VGG16) performs better on the first image than on the second.\n",
        "\n",
        "**Answer:**"
      ]
    },
    {
      "metadata": {
        "id": "9PCVqsNSQyK0",
        "colab_type": "text"
      },
      "cell_type": "markdown",
      "source": [
        "*=== write your answer here ===*"
      ]
    },
    {
      "metadata": {
        "id": "KWFnj5fwQyK1",
        "colab_type": "text"
      },
      "cell_type": "markdown",
      "source": [
        "***\n",
        "\n",
        "### Task 1.4: Dimensionality reduction\n",
        "\n",
        "**a)** So far we've been using 4096-dimensional neural codes. This space is however still quite high-dimensional. Apply a dimensionality reduction method and evaluate the effect on the retrieval performance.\n",
        "\n",
        "* Use PCA to obtain lower-dimensional representations of the Caltech101 data \"fc2\"-features (try the same compression rates as in Table 2 of the \"Neural Codes for Image Retrieval\" paper).\n",
        "* Evaluate the same retrieval task as explained at the start of this question for each of the compression rates/dimensionalities. Report the retrieval scores.\n",
        "\n",
        "*HINT: See http://scikit-learn.org/stable/modules/generated/sklearn.decomposition.PCA.html on how to transform a dataset with PCA.*"
      ]
    },
    {
      "metadata": {
        "id": "R63ESIs9QyK3",
        "colab_type": "code",
        "colab": {
          "autoexec": {
            "startup": false,
            "wait_interval": 0
          }
        }
      },
      "cell_type": "code",
      "source": [
        "# import PCA from scikit-learn\n",
        "from sklearn.decomposition import PCA"
      ],
      "execution_count": 0,
      "outputs": []
    },
    {
      "metadata": {
        "id": "aiRECaEwQyK5",
        "colab_type": "code",
        "colab": {
          "autoexec": {
            "startup": false,
            "wait_interval": 0
          }
        }
      },
      "cell_type": "code",
      "source": [
        "# load the data\n",
        "datapath = \"caltech101_VGG16_fc2.p\"\n",
        "with open(os.path.join(\"data\", datapath), \"rb\") as f:\n",
        "    X_fc, y, X_paths, classes = pickle.load(f)\n",
        "    \n",
        "# make random selection of n query images/indices, the same for all experiments\n",
        "n = 200\n",
        "n_examples = 8677  # the dataset has 8677 images\n",
        "indices = np.random.choice(range(n_examples), size=n, replace=False)\n",
        "\n",
        "\n",
        "# === SOLUTION: ===\n",
        "# insert code here"
      ],
      "execution_count": 0,
      "outputs": []
    },
    {
      "metadata": {
        "id": "ZYwQBYbJQyK8",
        "colab_type": "text"
      },
      "cell_type": "markdown",
      "source": [
        "***\n",
        "\n",
        "**b)** Discuss your results: how much can you further reduce the dimensionality of the data representations, without affecting the retrieval performance (much)? Compare these results to those from the paper, are your conclusions similar or not?\n",
        "\n",
        "**Answer:**"
      ]
    },
    {
      "metadata": {
        "id": "FqnFpfYmQyK8",
        "colab_type": "text"
      },
      "cell_type": "markdown",
      "source": [
        "*=== write your answer here ===*"
      ]
    },
    {
      "metadata": {
        "id": "oPVGe5EiQyK9",
        "colab_type": "text"
      },
      "cell_type": "markdown",
      "source": [
        "***\n",
        "\n",
        "## Question 2: Fashion-MNIST (12.5pt)\n",
        "For this question we will work with the \"Fashion-MNIST\" dataset. This dataset is modelled to have the same specifics as MNIST; it consists of a training set of 60,000 examples, and a test set of 10,000 examples. Each example is a 28x28 greyscale image, associated with a label from one of 10 classes. The images represent various clothing items (as opposed to handwritten digits for MNIST), each class represents a different type of clothing item. The following classes exist:\n",
        "* 0:\tT-shirt/top\n",
        "* 1:\tTrouser\n",
        "* 2:\tPullover\n",
        "* 3:\tDress\n",
        "* 4:\tCoat\n",
        "* 5:\tSandal\n",
        "* 6:\tShirt\n",
        "* 7:\tSneaker\n",
        "* 8:\tBag\n",
        "* 9:\tAnkle boot\n",
        "\n",
        "In this question we will investigate various ways to model visual similarity for this dataset, in order to perform image retrieval. For more info about the dataset, see https://github.com/zalandoresearch/fashion-mnist.\n",
        "\n",
        "The dataset can directly be obtained through Keras:"
      ]
    },
    {
      "metadata": {
        "id": "6SQKxZTVQyK-",
        "colab_type": "code",
        "colab": {
          "autoexec": {
            "startup": false,
            "wait_interval": 0
          },
          "output_extras": [
            {
              "item_id": 79
            },
            {
              "item_id": 80
            },
            {
              "item_id": 81
            }
          ],
          "base_uri": "https://localhost:8080/",
          "height": 502
        },
        "outputId": "5d526728-5cc7-422e-96b3-cd6d0c571fa9",
        "executionInfo": {
          "status": "ok",
          "timestamp": 1520942688603,
          "user_tz": -60,
          "elapsed": 20921,
          "user": {
            "displayName": "Thijs Ledeboer",
            "photoUrl": "https://lh3.googleusercontent.com/a/default-user=s128",
            "userId": "112614377174306060047"
          }
        }
      },
      "cell_type": "code",
      "source": [
        "from keras.datasets import fashion_mnist\n",
        "from keras.utils import to_categorical\n",
        "from keras import backend as K\n",
        "\n",
        "# load the data\n",
        "(x_train, y_train), (x_test, y_test) = fashion_mnist.load_data()\n",
        "\n",
        "# properties of the data\n",
        "img_rows, img_cols, chns = 28, 28, 1\n",
        "n_classes = 10\n",
        "\n",
        "# reshape\n",
        "if K.image_data_format() == 'channels_first':\n",
        "    x_train = x_train.reshape(x_train.shape[0], chns, img_rows, img_cols)\n",
        "    x_test = x_test.reshape(x_test.shape[0], chns, img_rows, img_cols)\n",
        "    input_shape = (chns, img_rows, img_cols)\n",
        "else:\n",
        "    x_train = x_train.reshape(x_train.shape[0], img_rows, img_cols, chns)\n",
        "    x_test = x_test.reshape(x_test.shape[0], img_rows, img_cols, chns)\n",
        "    input_shape = (img_rows, img_cols, chns)\n",
        "\n",
        "# normalise\n",
        "x_train = x_train.astype(\"float32\")\n",
        "x_test = x_test.astype(\"float32\")\n",
        "x_train /= 255\n",
        "x_test /= 255\n",
        "\n",
        "# transform labels to one-hot encoding, but also keep original single-digit encoding\n",
        "y_train_digits = y_train\n",
        "y_test_digits = y_test\n",
        "y_train = to_categorical(y_train_digits, n_classes)\n",
        "y_test = to_categorical(y_test_digits, n_classes)\n",
        "\n",
        "print(\"X_train shape:\", x_train.shape)\n",
        "print(\"y_train shape:\", y_train.shape)\n",
        "print(\"X_test shape:\", x_test.shape)\n",
        "print(\"y_test shape:\", y_test.shape)\n",
        "\n",
        "classes = [\"T-shirt/top\", \"Trouser\", \"Pullover\", \"Dress\", \"Coat\", \"Sandal\", \"Shirt\", \"Sneaker\", \"Bag\", \"Ankle boot\"]\n",
        "\n",
        "# show an example\n",
        "example_id = 6000  # pick any integer from 0 to 59999 to visualize a training example\n",
        "example = x_train[example_id].reshape(img_rows, img_cols)\n",
        "label = y_train[example_id]\n",
        "label_digit = y_train_digits[example_id]\n",
        "label_class = classes[label_digit]\n",
        "plt.matshow(example, cmap=\"gray\")\n",
        "plt.axis(\"off\")\n",
        "plt.show()\n",
        "print(\"Class: {} ({})\".format(label_class, label_digit))"
      ],
      "execution_count": 4,
      "outputs": [
        {
          "output_type": "stream",
          "text": [
            "Downloading data from http://fashion-mnist.s3-website.eu-central-1.amazonaws.com/train-labels-idx1-ubyte.gz\n",
            "32768/29515 [=================================] - 0s 3us/step\n",
            "Downloading data from http://fashion-mnist.s3-website.eu-central-1.amazonaws.com/train-images-idx3-ubyte.gz\n",
            "26427392/26421880 [==============================] - 15s 1us/step\n",
            "Downloading data from http://fashion-mnist.s3-website.eu-central-1.amazonaws.com/t10k-labels-idx1-ubyte.gz\n",
            "8192/5148 [===============================================] - 0s 0us/step\n",
            "Downloading data from http://fashion-mnist.s3-website.eu-central-1.amazonaws.com/t10k-images-idx3-ubyte.gz\n",
            "4423680/4422102 [==============================] - 4s 1us/step\n",
            "X_train shape: (60000, 28, 28, 1)\n",
            "y_train shape: (60000, 10)\n",
            "X_test shape: (10000, 28, 28, 1)\n",
            "y_test shape: (10000, 10)\n"
          ],
          "name": "stdout"
        },
        {
          "output_type": "display_data",
          "data": {
            "image/png": "[encoded data removed]",
            "text/plain": [
              "<matplotlib.figure.Figure at 0x7f34e0a1afd0>"
            ]
          },
          "metadata": {
            "tags": []
          }
        },
        {
          "output_type": "stream",
          "text": [
            "Class: Bag (8)\n"
          ],
          "name": "stdout"
        }
      ]
    },
    {
      "metadata": {
        "id": "8Z72ZyKNQyLA",
        "colab_type": "text"
      },
      "cell_type": "markdown",
      "source": [
        "Consider the following situation: We have a fully labelled dataset (the ***labelled set***) of the images from the first 5 classes (t-shirts/tops, trousers, pullovers, dresses, coats). We are then supplied with an unlabelled dataset (the ***retrieval set***) containing the remaining Fashion-MNIST images (sandals, shirts, sneakers, bags, ankle boots) on which we want to be able to perform image retrieval. So we cannot use labels from the retrieval set, since we do not know them (note that in our case we *do* have the labels, but we will only use them for evaluation).\n",
        "\n",
        "The following code splits the dataset up into two sets representing 5 classes each. Observe that the labelled and the retrieval set have exactly the same size."
      ]
    },
    {
      "metadata": {
        "id": "96D3fneIQyLB",
        "colab_type": "code",
        "colab": {
          "autoexec": {
            "startup": false,
            "wait_interval": 0
          },
          "output_extras": [
            {
              "item_id": 1
            }
          ],
          "base_uri": "https://localhost:8080/",
          "height": 230
        },
        "outputId": "4731219d-1fe7-4972-dc0d-4406357cf41a",
        "executionInfo": {
          "status": "ok",
          "timestamp": 1520942689100,
          "user_tz": -60,
          "elapsed": 466,
          "user": {
            "displayName": "Thijs Ledeboer",
            "photoUrl": "https://lh3.googleusercontent.com/a/default-user=s128",
            "userId": "112614377174306060047"
          }
        }
      },
      "cell_type": "code",
      "source": [
        "# obtain indices of labelled and retrieval sets\n",
        "indices_train_l = np.argwhere(y_train_digits < 5).flatten()  # indices labelled training set\n",
        "indices_train_r = np.argwhere(y_train_digits >= 5).flatten()  # indices retrieval training set\n",
        "indices_test_l = np.argwhere(y_test_digits < 5).flatten()  # indices labelled test set\n",
        "indices_test_r = np.argwhere(y_test_digits >= 5).flatten()  # indices retrieval test set\n",
        "\n",
        "# split up train and test set (images and labels)\n",
        "x_train_l = x_train[indices_train_l]\n",
        "x_train_r = x_train[indices_train_r]\n",
        "y_train_l = y_train[indices_train_l]\n",
        "y_train_r = y_train[indices_train_r]\n",
        "y_train_digits_l = y_train_digits[indices_train_l]\n",
        "y_train_digits_r = y_train_digits[indices_train_r]\n",
        "x_test_l = x_test[indices_test_l]\n",
        "x_test_r = x_test[indices_test_r]\n",
        "y_test_l = y_test[indices_test_l]\n",
        "y_test_r = y_test[indices_test_r]\n",
        "y_test_digits_l = y_test_digits[indices_test_l]\n",
        "y_test_digits_r = y_test_digits[indices_test_r]\n",
        "\n",
        "# labels are now one-hot encoded 10-dimensional vectors, but only the first or last five dimensions are used\n",
        "# omit unused dimensions to obtain 5-dimensional one-hot encodings\n",
        "y_train_l = y_train_l[:, :5]\n",
        "y_train_r = y_train_r[:, 5:]\n",
        "y_test_l = y_test_l[:, :5]\n",
        "y_test_r = y_test_r[:, 5:]\n",
        "# (note that the dimensions of y_train_l/y_test_l do not correspond to those of y_train_r/y_test_r now)\n",
        "\n",
        "# print the shapes\n",
        "print(x_train_l.shape)\n",
        "print(x_train_r.shape)\n",
        "print(y_train_l.shape)\n",
        "print(y_train_r.shape)\n",
        "print(y_train_digits_l.shape)\n",
        "print(y_train_digits_r.shape)\n",
        "print(x_test_l.shape)\n",
        "print(x_test_r.shape)\n",
        "print(y_test_l.shape)\n",
        "print(y_test_r.shape)\n",
        "print(y_test_digits_l.shape)\n",
        "print(y_test_digits_r.shape)"
      ],
      "execution_count": 5,
      "outputs": [
        {
          "output_type": "stream",
          "text": [
            "(30000, 28, 28, 1)\n",
            "(30000, 28, 28, 1)\n",
            "(30000, 5)\n",
            "(30000, 5)\n",
            "(30000,)\n",
            "(30000,)\n",
            "(5000, 28, 28, 1)\n",
            "(5000, 28, 28, 1)\n",
            "(5000, 5)\n",
            "(5000, 5)\n",
            "(5000,)\n",
            "(5000,)\n"
          ],
          "name": "stdout"
        }
      ]
    },
    {
      "metadata": {
        "id": "59eXS1jgQyLC",
        "colab_type": "text"
      },
      "cell_type": "markdown",
      "source": [
        "***\n",
        "\n",
        "### Task 2.1: Fashion neural retrieval\n",
        "**a)** Design an MLP (multilayer perceptron) for classification on the first 5 classes of the Fashion-MNIST dataset (i.e. only use `x_train_l` for training). You may include Dropout and BatchNormalization if needed. Let the last hidden dense layer (before the 5-dimensional output layer) have 128 dimensions. (*HINT: you can use* `name=\"neural_codes\"` *for this layer to make it easier to obtain features from it later.*)\n",
        "\n",
        "Train it to classify images into their corresponding classes. Make sure that it achieves decent accuracy (at least 90%) on the labelled test set `x_test_l` (show this!). Save the trained model to a \".h5\" file. (make sure you're using Keras version 2.1.3!)"
      ]
    },
    {
      "metadata": {
        "id": "Oj4wH6elQyLD",
        "colab_type": "code",
        "colab": {
          "autoexec": {
            "startup": false,
            "wait_interval": 0
          }
        }
      },
      "cell_type": "code",
      "source": [
        "# import sequential model and layers\n",
        "from keras.models import Sequential\n",
        "from keras.layers import Input, Conv2D, MaxPooling2D, UpSampling2D, BatchNormalization, Flatten, Dense, Reshape, InputLayer, MaxPool2D, Dropout\n",
        "from keras.initializers import Constant"
      ],
      "execution_count": 0,
      "outputs": []
    },
    {
      "metadata": {
        "id": "HBDFaTpqQyLF",
        "colab_type": "code",
        "colab": {
          "autoexec": {
            "startup": false,
            "wait_interval": 0
          },
          "output_extras": [
            {
              "item_id": 1
            }
          ],
          "base_uri": "https://localhost:8080/",
          "height": 319
        },
        "outputId": "344a87d9-1fb6-44da-bb46-1037356ca257",
        "executionInfo": {
          "status": "ok",
          "timestamp": 1520942700076,
          "user_tz": -60,
          "elapsed": 424,
          "user": {
            "displayName": "Thijs Ledeboer",
            "photoUrl": "https://lh3.googleusercontent.com/a/default-user=s128",
            "userId": "112614377174306060047"
          }
        }
      },
      "cell_type": "code",
      "source": [
        "mlp = Sequential()\n",
        "\n",
        "# encoder\n",
        "mlp = Sequential()\n",
        "mlp.add(Flatten(input_shape=(28,28,1)))\n",
        "mlp.add(Dropout(0.13))\n",
        "mlp.add(BatchNormalization())\n",
        "mlp.add(Dense(128, activation = \"relu\", name=\"neural_codes\"))\n",
        "mlp.add(Dense(5, input_dim=128, activation='softmax'))\n",
        "\n",
        "mlp.summary()\n",
        "mlp.compile(optimizer='adam', loss='binary_crossentropy', metrics=['accuracy'])"
      ],
      "execution_count": 7,
      "outputs": [
        {
          "output_type": "stream",
          "text": [
            "_________________________________________________________________\n",
            "Layer (type)                 Output Shape              Param #   \n",
            "=================================================================\n",
            "flatten_1 (Flatten)          (None, 784)               0         \n",
            "_________________________________________________________________\n",
            "dropout_1 (Dropout)          (None, 784)               0         \n",
            "_________________________________________________________________\n",
            "batch_normalization_1 (Batch (None, 784)               3136      \n",
            "_________________________________________________________________\n",
            "neural_codes (Dense)         (None, 128)               100480    \n",
            "_________________________________________________________________\n",
            "dense_1 (Dense)              (None, 5)                 645       \n",
            "=================================================================\n",
            "Total params: 104,261\n",
            "Trainable params: 102,693\n",
            "Non-trainable params: 1,568\n",
            "_________________________________________________________________\n"
          ],
          "name": "stdout"
        }
      ]
    },
    {
      "metadata": {
        "id": "dAuqGTXjVf7a",
        "colab_type": "code",
        "colab": {
          "autoexec": {
            "startup": false,
            "wait_interval": 0
          },
          "output_extras": [
            {
              "item_id": 76
            },
            {
              "item_id": 149
            },
            {
              "item_id": 214
            },
            {
              "item_id": 229
            },
            {
              "item_id": 230
            }
          ],
          "base_uri": "https://localhost:8080/",
          "height": 408
        },
        "outputId": "b42fd147-11ba-484a-c252-4cca183346ac",
        "executionInfo": {
          "status": "ok",
          "timestamp": 1520942768136,
          "user_tz": -60,
          "elapsed": 66711,
          "user": {
            "displayName": "Thijs Ledeboer",
            "photoUrl": "https://lh3.googleusercontent.com/a/default-user=s128",
            "userId": "112614377174306060047"
          }
        }
      },
      "cell_type": "code",
      "source": [
        "batch_size = 30\n",
        "epochs = 10\n",
        "\n",
        "mlp.fit(x_train_l,  y_train_l,\n",
        "                batch_size=batch_size,\n",
        "                epochs=epochs,\n",
        "                validation_data=(x_test_l, y_test_l)\n",
        "       )"
      ],
      "execution_count": 8,
      "outputs": [
        {
          "output_type": "stream",
          "text": [
            "Train on 30000 samples, validate on 5000 samples\n",
            "Epoch 1/10\n",
            "30000/30000 [==============================] - 7s 227us/step - loss: 0.1414 - acc: 0.9439 - val_loss: 0.1213 - val_acc: 0.9530\n",
            "Epoch 2/10\n",
            "30000/30000 [==============================] - 7s 221us/step - loss: 0.1124 - acc: 0.9554 - val_loss: 0.1070 - val_acc: 0.9594\n",
            "Epoch 3/10\n",
            "30000/30000 [==============================] - 7s 219us/step - loss: 0.1023 - acc: 0.9607 - val_loss: 0.1088 - val_acc: 0.9573\n"
          ],
          "name": "stdout"
        },
        {
          "output_type": "stream",
          "text": [
            "Epoch 4/10\n",
            "30000/30000 [==============================] - 7s 220us/step - loss: 0.0970 - acc: 0.9619 - val_loss: 0.1065 - val_acc: 0.9586\n",
            "Epoch 5/10\n",
            "30000/30000 [==============================] - 7s 219us/step - loss: 0.0926 - acc: 0.9639 - val_loss: 0.1014 - val_acc: 0.9612\n",
            "Epoch 6/10\n",
            "30000/30000 [==============================] - 7s 220us/step - loss: 0.0894 - acc: 0.9647 - val_loss: 0.1025 - val_acc: 0.9600\n",
            "Epoch 7/10\n",
            " 8520/30000 [=======>......................] - ETA: 4s - loss: 0.0874 - acc: 0.9650"
          ],
          "name": "stdout"
        },
        {
          "output_type": "stream",
          "text": [
            "30000/30000 [==============================] - 6s 214us/step - loss: 0.0858 - acc: 0.9661 - val_loss: 0.1058 - val_acc: 0.9609\n",
            "Epoch 8/10\n",
            "30000/30000 [==============================] - 7s 217us/step - loss: 0.0834 - acc: 0.9672 - val_loss: 0.1061 - val_acc: 0.9614\n",
            "Epoch 9/10\n",
            "30000/30000 [==============================] - 7s 219us/step - loss: 0.0809 - acc: 0.9686 - val_loss: 0.1052 - val_acc: 0.9634\n",
            "Epoch 10/10\n",
            "12480/30000 [===========>..................] - ETA: 3s - loss: 0.0761 - acc: 0.9716"
          ],
          "name": "stdout"
        },
        {
          "output_type": "stream",
          "text": [
            "30000/30000 [==============================] - 7s 220us/step - loss: 0.0795 - acc: 0.9698 - val_loss: 0.1026 - val_acc: 0.9655\n"
          ],
          "name": "stdout"
        },
        {
          "output_type": "execute_result",
          "data": {
            "text/plain": [
              "<keras.callbacks.History at 0x7f34e056d668>"
            ]
          },
          "metadata": {
            "tags": []
          },
          "execution_count": 8
        }
      ]
    },
    {
      "metadata": {
        "id": "h-iUfL4LQyLK",
        "colab_type": "code",
        "colab": {
          "autoexec": {
            "startup": false,
            "wait_interval": 0
          }
        }
      },
      "cell_type": "code",
      "source": [
        "from google.colab import files\n",
        "mlp.save(\"mlp_fashionmnist_l.h5\")\n",
        "\n",
        "#files.download(\"mlp_fashionmnist_1.h5\")\n"
      ],
      "execution_count": 0,
      "outputs": []
    },
    {
      "metadata": {
        "id": "vbmBRTbhQyLM",
        "colab_type": "text"
      },
      "cell_type": "markdown",
      "source": [
        "***\n",
        "\n",
        "**b)** Briefly motivate how and why you chose this architecture.\n",
        "\n",
        "**Answer:**"
      ]
    },
    {
      "metadata": {
        "id": "L-L3DBYJQyLN",
        "colab_type": "text"
      },
      "cell_type": "markdown",
      "source": [
        "We chose for the above structure because partially trial and error and from our knowledge both obtained during this course aswell as other courses. Our first layer is a Flatten layer, this layer makes sure that the data structure has the correct shape for the next layers in our model. Our second layer is a Dropout layer, this layer is there to prevent overfitting. During the buidling of our network we had the feeling that it was overfitting so we added a layer to deal with it. The thrid layer is used for normalization. It uses the Batch normalization as proposed by (Ioffe and Szegedy, 2014). Finally we use two dense layers as specified by the assignment. The first dense layer we found out via trail and error that relu was the best activation for it and as specified in the assignment the output of this layer has 128 dimensions. In the last layer we use Softmax as activation and specifiy that the output has to be of 5 dimensions. \n",
        "\n",
        "\n",
        "Using the hereby explained neural network we obtained an accuracy of 97% as can be seen above."
      ]
    },
    {
      "metadata": {
        "id": "Hy-Xe997QyLN",
        "colab_type": "text"
      },
      "cell_type": "markdown",
      "source": [
        "***\n",
        "\n",
        "### Task 2.2: Fashion neural retrieval #2\n",
        "**a)** Design a CNN (convolutional neural network) for classification on the first 5 classes of the Fashion-MNIST dataset (i.e. only use x_train_l for training), consisting of a number of Convolutions with Max-Pooling, followed by one or more Dense layers. You may use Dropout and BatchNormalization to improve generalization and training speed. Let the last hidden dense layer (before the 5-dimensional output layer) have 128 dimensions. (*HINT: you can use* `name=\"neural_codes\"` *for this layer to make it easier to obtain features from it later.*)\n",
        "\n",
        "Train the CNN to classify images into their corresponding classes. Make sure that it achieves decent accuracy (at least 94%) on the test set `x_test_l` (show this!). Save the trained model to a \".h5\" file. (make sure you're using Keras version 2.1.3!)"
      ]
    },
    {
      "metadata": {
        "id": "md00Cjd8QyLO",
        "colab_type": "code",
        "colab": {
          "autoexec": {
            "startup": false,
            "wait_interval": 0
          }
        }
      },
      "cell_type": "code",
      "source": [
        "# import additional layers\n",
        "from keras.layers import Input, Conv2D, MaxPooling2D, UpSampling2D, BatchNormalization, Flatten, Dense, Reshape, InputLayer, MaxPool2D, Convolution2D, Dropout\n"
      ],
      "execution_count": 0,
      "outputs": []
    },
    {
      "metadata": {
        "id": "J2r2pCn8QyLR",
        "colab_type": "code",
        "colab": {
          "autoexec": {
            "startup": false,
            "wait_interval": 0
          },
          "output_extras": [
            {
              "item_id": 1
            }
          ],
          "base_uri": "https://localhost:8080/",
          "height": 390
        },
        "outputId": "90a15a77-9f22-47d2-d657-e07a34dbe49c",
        "executionInfo": {
          "status": "ok",
          "timestamp": 1520942770056,
          "user_tz": -60,
          "elapsed": 587,
          "user": {
            "displayName": "Thijs Ledeboer",
            "photoUrl": "https://lh3.googleusercontent.com/a/default-user=s128",
            "userId": "112614377174306060047"
          }
        }
      },
      "cell_type": "code",
      "source": [
        "cnn = Sequential()\n",
        "cnn.add(Conv2D(32, kernel_size=(3, 3), activation='relu', input_shape=(28,28,1)))\n",
        "cnn.add(MaxPooling2D(pool_size=(2,2), padding=\"same\"))\n",
        "cnn.add(Flatten())\n",
        "cnn.add(Dropout(0.17))\n",
        "cnn.add(BatchNormalization())\n",
        "cnn.add(Dense(128,activation='relu',name='neural_codes'))\n",
        "cnn.add(Dense(5,activation='softmax'))\n",
        "\n",
        "cnn.summary()\n",
        "cnn.compile(loss='binary_crossentropy',\n",
        "              optimizer='adam',\n",
        "              metrics=['accuracy'])"
      ],
      "execution_count": 11,
      "outputs": [
        {
          "output_type": "stream",
          "text": [
            "_________________________________________________________________\n",
            "Layer (type)                 Output Shape              Param #   \n",
            "=================================================================\n",
            "conv2d_1 (Conv2D)            (None, 26, 26, 32)        320       \n",
            "_________________________________________________________________\n",
            "max_pooling2d_1 (MaxPooling2 (None, 13, 13, 32)        0         \n",
            "_________________________________________________________________\n",
            "flatten_2 (Flatten)          (None, 5408)              0         \n",
            "_________________________________________________________________\n",
            "dropout_2 (Dropout)          (None, 5408)              0         \n",
            "_________________________________________________________________\n",
            "batch_normalization_2 (Batch (None, 5408)              21632     \n",
            "_________________________________________________________________\n",
            "neural_codes (Dense)         (None, 128)               692352    \n",
            "_________________________________________________________________\n",
            "dense_2 (Dense)              (None, 5)                 645       \n",
            "=================================================================\n",
            "Total params: 714,949\n",
            "Trainable params: 704,133\n",
            "Non-trainable params: 10,816\n",
            "_________________________________________________________________\n"
          ],
          "name": "stdout"
        }
      ]
    },
    {
      "metadata": {
        "id": "v-8O_CaBrzdm",
        "colab_type": "code",
        "colab": {
          "autoexec": {
            "startup": false,
            "wait_interval": 0
          },
          "output_extras": [
            {
              "item_id": 98
            },
            {
              "item_id": 202
            },
            {
              "item_id": 286
            },
            {
              "item_id": 372
            },
            {
              "item_id": 421
            },
            {
              "item_id": 422
            }
          ],
          "base_uri": "https://localhost:8080/",
          "height": 408
        },
        "outputId": "1999a8f4-5e7b-4202-c7e4-b4dd2363a5d0",
        "executionInfo": {
          "status": "ok",
          "timestamp": 1520942881749,
          "user_tz": -60,
          "elapsed": 111297,
          "user": {
            "displayName": "Thijs Ledeboer",
            "photoUrl": "https://lh3.googleusercontent.com/a/default-user=s128",
            "userId": "112614377174306060047"
          }
        }
      },
      "cell_type": "code",
      "source": [
        "batch_size = 30\n",
        "epochs = 10\n",
        "\n",
        "cnn.fit(x_train_l,  y_train_l,\n",
        "                batch_size=batch_size,\n",
        "                epochs=epochs,\n",
        "                validation_data=(x_test_l, y_test_l)\n",
        "       )"
      ],
      "execution_count": 12,
      "outputs": [
        {
          "output_type": "stream",
          "text": [
            "Train on 30000 samples, validate on 5000 samples\n",
            "Epoch 1/10\n",
            "30000/30000 [==============================] - 12s 402us/step - loss: 0.1091 - acc: 0.9584 - val_loss: 0.0872 - val_acc: 0.9690\n",
            "Epoch 2/10\n",
            "30000/30000 [==============================] - 11s 367us/step - loss: 0.0745 - acc: 0.9715 - val_loss: 0.0824 - val_acc: 0.9720\n",
            "Epoch 3/10\n",
            " 6180/30000 [=====>........................] - ETA: 8s - loss: 0.0615 - acc: 0.9771"
          ],
          "name": "stdout"
        },
        {
          "output_type": "stream",
          "text": [
            "30000/30000 [==============================] - 11s 362us/step - loss: 0.0616 - acc: 0.9760 - val_loss: 0.0812 - val_acc: 0.9726\n",
            "Epoch 4/10\n",
            "30000/30000 [==============================] - 11s 367us/step - loss: 0.0530 - acc: 0.9799 - val_loss: 0.0784 - val_acc: 0.9742\n",
            "Epoch 5/10\n",
            "18840/30000 [=================>............] - ETA: 3s - loss: 0.0434 - acc: 0.9839"
          ],
          "name": "stdout"
        },
        {
          "output_type": "stream",
          "text": [
            "30000/30000 [==============================] - 11s 366us/step - loss: 0.0446 - acc: 0.9834 - val_loss: 0.0960 - val_acc: 0.9711\n",
            "Epoch 6/10\n",
            "30000/30000 [==============================] - 11s 363us/step - loss: 0.0394 - acc: 0.9845 - val_loss: 0.0863 - val_acc: 0.9742\n",
            "Epoch 7/10\n",
            "21840/30000 [====================>.........] - ETA: 2s - loss: 0.0336 - acc: 0.9869"
          ],
          "name": "stdout"
        },
        {
          "output_type": "stream",
          "text": [
            "30000/30000 [==============================] - 11s 364us/step - loss: 0.0356 - acc: 0.9864 - val_loss: 0.1661 - val_acc: 0.9586\n",
            "Epoch 8/10\n",
            "30000/30000 [==============================] - 11s 364us/step - loss: 0.0325 - acc: 0.9877 - val_loss: 0.1030 - val_acc: 0.9735\n",
            "Epoch 9/10\n",
            "22920/30000 [=====================>........] - ETA: 2s - loss: 0.0280 - acc: 0.9900"
          ],
          "name": "stdout"
        },
        {
          "output_type": "stream",
          "text": [
            "30000/30000 [==============================] - 11s 360us/step - loss: 0.0287 - acc: 0.9896 - val_loss: 0.1190 - val_acc: 0.9708\n",
            "Epoch 10/10\n",
            "30000/30000 [==============================] - 11s 366us/step - loss: 0.0247 - acc: 0.9908 - val_loss: 0.1206 - val_acc: 0.9710\n"
          ],
          "name": "stdout"
        },
        {
          "output_type": "execute_result",
          "data": {
            "text/plain": [
              "<keras.callbacks.History at 0x7f34dde12630>"
            ]
          },
          "metadata": {
            "tags": []
          },
          "execution_count": 12
        }
      ]
    },
    {
      "metadata": {
        "id": "k3cT4_reQyLS",
        "colab_type": "code",
        "colab": {
          "autoexec": {
            "startup": false,
            "wait_interval": 0
          }
        }
      },
      "cell_type": "code",
      "source": [
        "from google.colab import files\n",
        "cnn.save(\"cnn_fashionmnist_l.h5\")\n",
        "\n",
        "#files.download(\"cnn_fashionmnist_1.h5\")"
      ],
      "execution_count": 0,
      "outputs": []
    },
    {
      "metadata": {
        "id": "FGI0SHYNQyLT",
        "colab_type": "text"
      },
      "cell_type": "markdown",
      "source": [
        "***\n",
        "\n",
        "**b)** Briefly motivate how and why you chose this architecture.\n",
        "\n",
        "**Answer:**"
      ]
    },
    {
      "metadata": {
        "id": "l6yydsnqQyLU",
        "colab_type": "text"
      },
      "cell_type": "markdown",
      "source": [
        "For the architecture of the convolunational neural network we choose for only one convolutional layer and only one maxPooling2D layer. Because using trial and error we found that that was the best. Adding more layers both convolutional as maxpooling layers did not further improve the accuracy.  The rest of the architecture looks very similair to the architecture of our MLP network. We thought that if it worked quite well with out the maxPooling it might as well work after maxPooling. So we tried that and immediately found that the accuracy reached the 97% with ony one Conv2D layer and one maxPooling2D layer."
      ]
    },
    {
      "metadata": {
        "id": "ObOftpBQQyLU",
        "colab_type": "text"
      },
      "cell_type": "markdown",
      "source": [
        "***\n",
        "\n",
        "### Task 2.3: Fashion neural retrieval #3\n",
        "**a)** Design a (convolutional) Denoising Autoencoder (DAE) for the *full* Fashion-MNIST dataset (i.e. use `x_train`, *not* `x_train_l`). For the encoder, use only Convolutional layers and Max-Pooling, followed by a Dense layer with 128 units. The output of this layer will be the \"code\" of the autoencoder (*HINT: you can use* `name=\"neural_codes\"` *for this layer to make it easier to obtain features from it later*). For the decoder, start with a Dense layer to upscale to a suitable dimension, and then use only Convolutional layers and UpSampling. You may use BatchNormalization to speed up training.\n",
        "\n",
        "Train the DAE to reconstruct noisy images to the original input images. Make sure that it achieves a binary cross-entropy loss of at most 0.29 on the test set (show this!). Save the trained model to a \".h5\" file. (make sure you're using Keras version 2.1.3!)"
      ]
    },
    {
      "metadata": {
        "id": "FiUaCoZPQyLV",
        "colab_type": "code",
        "colab": {
          "autoexec": {
            "startup": false,
            "wait_interval": 0
          }
        }
      },
      "cell_type": "code",
      "source": [
        "# import additional layer\n",
        "from keras.layers import UpSampling2D, Reshape\n",
        "\n"
      ],
      "execution_count": 0,
      "outputs": []
    },
    {
      "metadata": {
        "id": "jWszOWY9QyLX",
        "colab_type": "code",
        "colab": {
          "autoexec": {
            "startup": false,
            "wait_interval": 0
          },
          "output_extras": [
            {
              "item_id": 1
            }
          ],
          "base_uri": "https://localhost:8080/",
          "height": 745
        },
        "outputId": "54de072e-addf-420b-f5c5-f5e687c55eb9",
        "executionInfo": {
          "status": "ok",
          "timestamp": 1520942887379,
          "user_tz": -60,
          "elapsed": 4246,
          "user": {
            "displayName": "Thijs Ledeboer",
            "photoUrl": "https://lh3.googleusercontent.com/a/default-user=s128",
            "userId": "112614377174306060047"
          }
        }
      },
      "cell_type": "code",
      "source": [
        "# obtain noisy version of data\n",
        "noise_factor = 0.5\n",
        "x_train_noisy = x_train + noise_factor * np.random.normal(loc=0.0, scale=1.0, size=x_train.shape) \n",
        "x_test_noisy = x_test + noise_factor * np.random.normal(loc=0.0, scale=1.0, size=x_test.shape) \n",
        "\n",
        "x_train_noisy = np.clip(x_train_noisy, 0., 1.)\n",
        "x_test_noisy = np.clip(x_test_noisy, 0., 1.)\n",
        "\n",
        "\n",
        "# define autoencoder\n",
        "dae = Sequential()\n",
        "\n",
        "# === SOLUTION: ===\n",
        "# encoder\n",
        "dae.add(Conv2D(32, (3, 3), activation='elu', padding='same', input_shape=input_shape))\n",
        "dae.add(MaxPooling2D((2, 2), padding='same'))\n",
        "dae.add(BatchNormalization())\n",
        "dae.add(Conv2D(32, (3, 3), activation='elu', padding='same'))\n",
        "dae.add(MaxPooling2D((2, 2), padding='same'))\n",
        "dae.add(BatchNormalization())\n",
        "dae.add(Flatten())  \n",
        "dae.add(Dense(128, activation='elu', name=\"neural_codes\"))  \n",
        "\n",
        "\n",
        "# decoder\n",
        "dae.add(Dense(1568))  \n",
        "dae.add(Reshape((7, 7, 32)))\n",
        "dae.add(Conv2D(32, (3, 3), activation='elu', padding='same'))\n",
        "dae.add(UpSampling2D((2, 2)))\n",
        "dae.add(BatchNormalization())\n",
        "dae.add(Conv2D(32, (3, 3), activation='elu', padding='same'))\n",
        "dae.add(UpSampling2D((2, 2)))\n",
        "dae.add(BatchNormalization())\n",
        "dae.add(Conv2D(1, (3, 3), activation='sigmoid', padding='same'))\n",
        "\n",
        "dae.summary()\n",
        "dae.compile(optimizer='adam', loss='binary_crossentropy')"
      ],
      "execution_count": 15,
      "outputs": [
        {
          "output_type": "stream",
          "text": [
            "_________________________________________________________________\n",
            "Layer (type)                 Output Shape              Param #   \n",
            "=================================================================\n",
            "conv2d_2 (Conv2D)            (None, 28, 28, 32)        320       \n",
            "_________________________________________________________________\n",
            "max_pooling2d_2 (MaxPooling2 (None, 14, 14, 32)        0         \n",
            "_________________________________________________________________\n",
            "batch_normalization_3 (Batch (None, 14, 14, 32)        128       \n",
            "_________________________________________________________________\n",
            "conv2d_3 (Conv2D)            (None, 14, 14, 32)        9248      \n",
            "_________________________________________________________________\n",
            "max_pooling2d_3 (MaxPooling2 (None, 7, 7, 32)          0         \n",
            "_________________________________________________________________\n",
            "batch_normalization_4 (Batch (None, 7, 7, 32)          128       \n",
            "_________________________________________________________________\n",
            "flatten_3 (Flatten)          (None, 1568)              0         \n",
            "_________________________________________________________________\n",
            "neural_codes (Dense)         (None, 128)               200832    \n",
            "_________________________________________________________________\n",
            "dense_3 (Dense)              (None, 1568)              202272    \n",
            "_________________________________________________________________\n",
            "reshape_1 (Reshape)          (None, 7, 7, 32)          0         \n",
            "_________________________________________________________________\n",
            "conv2d_4 (Conv2D)            (None, 7, 7, 32)          9248      \n",
            "_________________________________________________________________\n",
            "up_sampling2d_1 (UpSampling2 (None, 14, 14, 32)        0         \n",
            "_________________________________________________________________\n",
            "batch_normalization_5 (Batch (None, 14, 14, 32)        128       \n",
            "_________________________________________________________________\n",
            "conv2d_5 (Conv2D)            (None, 14, 14, 32)        9248      \n",
            "_________________________________________________________________\n",
            "up_sampling2d_2 (UpSampling2 (None, 28, 28, 32)        0         \n",
            "_________________________________________________________________\n",
            "batch_normalization_6 (Batch (None, 28, 28, 32)        128       \n",
            "_________________________________________________________________\n",
            "conv2d_6 (Conv2D)            (None, 28, 28, 1)         289       \n",
            "=================================================================\n",
            "Total params: 431,969\n",
            "Trainable params: 431,713\n",
            "Non-trainable params: 256\n",
            "_________________________________________________________________\n"
          ],
          "name": "stdout"
        }
      ]
    },
    {
      "metadata": {
        "id": "LX5G9VfQt8pg",
        "colab_type": "code",
        "colab": {
          "autoexec": {
            "startup": false,
            "wait_interval": 0
          },
          "output_extras": [
            {
              "item_id": 164
            },
            {
              "item_id": 343
            },
            {
              "item_id": 500
            },
            {
              "item_id": 641
            },
            {
              "item_id": 776
            },
            {
              "item_id": 908
            },
            {
              "item_id": 1039
            },
            {
              "item_id": 1168
            },
            {
              "item_id": 1294
            },
            {
              "item_id": 1299
            },
            {
              "item_id": 1300
            }
          ],
          "base_uri": "https://localhost:8080/",
          "height": 408
        },
        "outputId": "4ca92585-2be8-491f-fb67-708742a59945",
        "executionInfo": {
          "status": "ok",
          "timestamp": 1520943227317,
          "user_tz": -60,
          "elapsed": 339807,
          "user": {
            "displayName": "Thijs Ledeboer",
            "photoUrl": "https://lh3.googleusercontent.com/a/default-user=s128",
            "userId": "112614377174306060047"
          }
        }
      },
      "cell_type": "code",
      "source": [
        "batch_size = 32\n",
        "epochs = 10\n",
        "\n",
        "dae.fit(x_train_noisy, x_train,\n",
        "                batch_size=batch_size,\n",
        "                epochs=epochs,\n",
        "                validation_split=1/12)"
      ],
      "execution_count": 16,
      "outputs": [
        {
          "output_type": "stream",
          "text": [
            "Train on 55000 samples, validate on 5000 samples\n",
            "Epoch 1/10\n",
            "55000/55000 [==============================] - 36s 656us/step - loss: 0.3093 - val_loss: 0.2946\n",
            "Epoch 2/10\n",
            "10112/55000 [====>.........................] - ETA: 26s - loss: 0.2926"
          ],
          "name": "stdout"
        },
        {
          "output_type": "stream",
          "text": [
            "55000/55000 [==============================] - 34s 610us/step - loss: 0.2917 - val_loss: 0.2909\n",
            "Epoch 3/10\n",
            "36416/55000 [==================>...........] - ETA: 11s - loss: 0.2882"
          ],
          "name": "stdout"
        },
        {
          "output_type": "stream",
          "text": [
            "55000/55000 [==============================] - 34s 613us/step - loss: 0.2882 - val_loss: 0.2914\n",
            "Epoch 4/10\n",
            "46784/55000 [========================>.....] - ETA: 4s - loss: 0.2861"
          ],
          "name": "stdout"
        },
        {
          "output_type": "stream",
          "text": [
            "55000/55000 [==============================] - 34s 612us/step - loss: 0.2861 - val_loss: 0.2876\n",
            "Epoch 5/10\n",
            "50912/55000 [==========================>...] - ETA: 2s - loss: 0.2847"
          ],
          "name": "stdout"
        },
        {
          "output_type": "stream",
          "text": [
            "55000/55000 [==============================] - 33s 608us/step - loss: 0.2847 - val_loss: 0.2884\n",
            "Epoch 6/10\n",
            "52448/55000 [===========================>..] - ETA: 1s - loss: 0.2836"
          ],
          "name": "stdout"
        },
        {
          "output_type": "stream",
          "text": [
            "55000/55000 [==============================] - 34s 614us/step - loss: 0.2836 - val_loss: 0.2874\n",
            "Epoch 7/10\n",
            "53120/55000 [===========================>..] - ETA: 1s - loss: 0.2826"
          ],
          "name": "stdout"
        },
        {
          "output_type": "stream",
          "text": [
            "55000/55000 [==============================] - 34s 614us/step - loss: 0.2826 - val_loss: 0.2858\n",
            "Epoch 8/10\n",
            "53376/55000 [============================>.] - ETA: 0s - loss: 0.2818"
          ],
          "name": "stdout"
        },
        {
          "output_type": "stream",
          "text": [
            "55000/55000 [==============================] - 34s 616us/step - loss: 0.2819 - val_loss: 0.2857\n",
            "Epoch 9/10\n",
            "53472/55000 [============================>.] - ETA: 0s - loss: 0.2811"
          ],
          "name": "stdout"
        },
        {
          "output_type": "stream",
          "text": [
            "55000/55000 [==============================] - 34s 611us/step - loss: 0.2812 - val_loss: 0.2864\n",
            "Epoch 10/10\n",
            "53216/55000 [============================>.] - ETA: 1s - loss: 0.2806"
          ],
          "name": "stdout"
        },
        {
          "output_type": "stream",
          "text": [
            "55000/55000 [==============================] - 33s 602us/step - loss: 0.2807 - val_loss: 0.2862\n"
          ],
          "name": "stdout"
        },
        {
          "output_type": "execute_result",
          "data": {
            "text/plain": [
              "<keras.callbacks.History at 0x7f34dc52cda0>"
            ]
          },
          "metadata": {
            "tags": []
          },
          "execution_count": 16
        }
      ]
    },
    {
      "metadata": {
        "id": "GVFKJlAAQyLZ",
        "colab_type": "code",
        "colab": {
          "autoexec": {
            "startup": false,
            "wait_interval": 0
          }
        }
      },
      "cell_type": "code",
      "source": [
        "from google.colab import files\n",
        "dae.save(\"dae_fashionmnist_l.h5\")\n",
        "\n",
        "#files.download(\"dae_fashionmnist_1.h5\")"
      ],
      "execution_count": 0,
      "outputs": []
    },
    {
      "metadata": {
        "id": "mQd3ecq0QyLb",
        "colab_type": "text"
      },
      "cell_type": "markdown",
      "source": [
        "***\n",
        "\n",
        "**b)** Briefly motivate how and why you chose this architecture.\n",
        "\n",
        "**Answer:**"
      ]
    },
    {
      "metadata": {
        "id": "Wy-INYZ2QyLc",
        "colab_type": "text"
      },
      "cell_type": "markdown",
      "source": [
        "We chose for this architecture based on the architecture of the Denoising Autoencoder from practical 4.1. In this practical an Denoising Autoencoder was build for the MNIST dataset. We tried different activation functions for the different layers of the model. For the convolutional layers we found that relu provided better results than eelu so we sticked by the activation function relu. For the last layer we tried out sigmoid (the same as in the practial) but also hard_sigmoid and tanh. We expected tanh to do better since it is 0 based, however it performed much worse so we sticked with sigmoid as activation function for the last layer. "
      ]
    },
    {
      "metadata": {
        "id": "KBTbmap8QyLd",
        "colab_type": "text"
      },
      "cell_type": "markdown",
      "source": [
        "***\n",
        "\n",
        "Visualise a few test examples, their noisy versions, and their reconstructions."
      ]
    },
    {
      "metadata": {
        "id": "8WA27ubjQyLd",
        "colab_type": "code",
        "colab": {
          "autoexec": {
            "startup": false,
            "wait_interval": 0
          },
          "output_extras": [
            {
              "item_id": 1
            },
            {
              "item_id": 2
            },
            {
              "item_id": 3
            }
          ],
          "base_uri": "https://localhost:8080/",
          "height": 341
        },
        "outputId": "3a980302-c659-4c70-ef1b-8f67578393b4",
        "executionInfo": {
          "status": "ok",
          "timestamp": 1520934282127,
          "user_tz": -60,
          "elapsed": 4288,
          "user": {
            "displayName": "Thijs Ledeboer",
            "photoUrl": "https://lh3.googleusercontent.com/a/default-user=s128",
            "userId": "112614377174306060047"
          }
        }
      },
      "cell_type": "code",
      "source": [
        "# NOTE: you don't need to change this code, just run it after having trained the DAE\n",
        "def plot_examples(x):\n",
        "    n = 10\n",
        "    plt.figure(figsize=(20, 2))\n",
        "    for i in range(n):\n",
        "        ax = plt.subplot(1, n, i+1)\n",
        "        plt.imshow(x[i].reshape(28, 28))\n",
        "        plt.gray()\n",
        "        ax.get_xaxis().set_visible(False)\n",
        "        ax.get_yaxis().set_visible(False)\n",
        "    plt.show()\n",
        "\n",
        "x_test_reconstr = dae.predict(x_test_noisy, batch_size=batch_size)\n",
        "\n",
        "plot_examples(x_test)\n",
        "plot_examples(x_test_noisy)\n",
        "plot_examples(x_test_reconstr)"
      ],
      "execution_count": 111,
      "outputs": [
        {
          "output_type": "display_data",
          "data": {
            "image/png": "[encoded data removed]",
            "text/plain": [
              "<matplotlib.figure.Figure at 0x7f233506f630>"
            ]
          },
          "metadata": {
            "tags": []
          }
        },
        {
          "output_type": "display_data",
          "data": {
            "image/png": "[encoded data removed]",
            "text/plain": [
              "<matplotlib.figure.Figure at 0x7f2334e91f60>"
            ]
          },
          "metadata": {
            "tags": []
          }
        },
        {
          "output_type": "display_data",
          "data": {
            "image/png": "[encoded data removed]",
            "text/plain": [
              "<matplotlib.figure.Figure at 0x7f233b262eb8>"
            ]
          },
          "metadata": {
            "tags": []
          }
        }
      ]
    },
    {
      "metadata": {
        "id": "4cHWbZm1QyLe",
        "colab_type": "text"
      },
      "cell_type": "markdown",
      "source": [
        "**c)** Do you consider the results acceptable? Do you think they can be useful for image retrieval? Explain why in one or two sentences.\n",
        "\n",
        "**Answer:**"
      ]
    },
    {
      "metadata": {
        "id": "S_8NheqRQyLf",
        "colab_type": "text"
      },
      "cell_type": "markdown",
      "source": [
        "We think the obtained results are indeed acceptable. The images reconstructed via our Denoising Autoencoder are recognisable except for the flipflop. However based on the noisy image of the flipflop seems like random pixels. In other of the noisy pictures there is some form recognizable. Another unrecoginizable thing is the text \"LEE\" on the second example picture. This is most likely due to the lack of training material for such strings.\n",
        "\n",
        "We think that the can be used for image retrieval since no picture is ever without noise. If you know beforehand what kind of images you will get it is possible to train a Denoising Autoencoder and have it work to obtain pictures which should be somewhat the same as which you were trying to retrieve."
      ]
    },
    {
      "metadata": {
        "id": "5g4UMQY4QyLf",
        "colab_type": "text"
      },
      "cell_type": "markdown",
      "source": [
        "***\n",
        "\n",
        "**d)** Why can we train on the full dataset `x_train` here, whereas in Tasks 2.1 and 2.2 we had to use `x_train_l` (the first 5 classes only) for training?\n",
        "\n",
        "**Answer:**"
      ]
    },
    {
      "metadata": {
        "id": "QNzZbGaAQyLg",
        "colab_type": "text"
      },
      "cell_type": "markdown",
      "source": [
        "We can do that here because we artifically add noise to the different images. Because of this none of the images which were originally in the set is still in the training sets. We can use a different noise function to obtain a test set which can be quite different than the training images. In the tasks 2.1 and 2.2 this was impossible so we needed to split up the set in order to have a training and test set. We do not need the labels from the training set to validate just the original image for DAE training. "
      ]
    },
    {
      "metadata": {
        "id": "Hrg1qEQtQyLk",
        "colab_type": "text"
      },
      "cell_type": "markdown",
      "source": [
        "***\n",
        "\n",
        "### Task 2.4: Fashion neural retrieval #4\n",
        "Autoencoders come in different shapes and sizes. One key defining property of autoencoders is the means the model uses to prevent the learning of the identity function. Typically, this is done with different regularization methods. In the previous task you used a model that uses noise as a regularizer. In this task you will develop a Sparse Autoencoder (SAE). A sparse autoencoder uses a sparsity regularization to obtain sparse representations of the input data. Sparsity can be achieved by using L1-regularization on the activations of the hidden \"code\" layer.\n",
        "\n",
        "\n",
        "**a)** Design a (convolutional) Sparse Autoencoder (SAE) for the *full* Fashion-MNIST dataset (i.e. use `x_train`, *not* `x_train_l`). For the encoder, use only Convolutional layers and Max-Pooling, followed by a Dense layer with 128 units. The output of this layer will be the \"code\" of the autoencoder (*HINT: you can use* `name=\"neural_codes\"` *for this layer to make it easier to obtain features from it later*). Add an activity regularizer to this layer, using `regularizers.l1(10e-5)` from Keras.\n",
        "For the decoder, start with a Dense layer to upscale to a suitable dimension, and then use only Convolutional layers and UpSampling. You may use BatchNormalization to speed up training.\n",
        "\n",
        "Train the SAE to reconstruct input images. Make sure that it achieves a loss value of at most 0.31 on the test set (show this!). Save the trained model to a \".h5\" file. (make sure you're using Keras version 2.1.3!)"
      ]
    },
    {
      "metadata": {
        "id": "kS5oJDTAQyLk",
        "colab_type": "code",
        "colab": {
          "autoexec": {
            "startup": false,
            "wait_interval": 0
          }
        }
      },
      "cell_type": "code",
      "source": [
        "# import regularizers for sparse autoencoder\n",
        "from keras import regularizers"
      ],
      "execution_count": 0,
      "outputs": []
    },
    {
      "metadata": {
        "id": "lPuHQDPwQyLo",
        "colab_type": "code",
        "colab": {
          "autoexec": {
            "startup": false,
            "wait_interval": 0
          },
          "output_extras": [
            {
              "item_id": 1
            }
          ],
          "base_uri": "https://localhost:8080/",
          "height": 745
        },
        "outputId": "b2bb8c5f-3565-4072-ab7d-975569bdb370",
        "executionInfo": {
          "status": "ok",
          "timestamp": 1520943229702,
          "user_tz": -60,
          "elapsed": 669,
          "user": {
            "displayName": "Thijs Ledeboer",
            "photoUrl": "https://lh3.googleusercontent.com/a/default-user=s128",
            "userId": "112614377174306060047"
          }
        }
      },
      "cell_type": "code",
      "source": [
        "# define autoencoder\n",
        "sae = Sequential()\n",
        "\n",
        "# === SOLUTION: ===\n",
        "# insert code here\n",
        "\n",
        "sae.add(Conv2D(32, (3, 3), activation='elu', padding='same', input_shape=input_shape))\n",
        "sae.add(MaxPooling2D((2, 2), padding='same'))\n",
        "sae.add(BatchNormalization())\n",
        "sae.add(Conv2D(32, (3, 3), activation='elu', padding='same'))\n",
        "sae.add(MaxPooling2D((2, 2), padding='same'))\n",
        "sae.add(BatchNormalization())\n",
        "sae.add(Flatten())  \n",
        "sae.add(Dense(128, activation='elu', activity_regularizer=regularizers.l1(10e-5), name=\"neural_codes\"))  \n",
        "\n",
        "\n",
        "# decoder\n",
        "sae.add(Dense(1568))  \n",
        "sae.add(Reshape((7, 7, 32)))\n",
        "sae.add(Conv2D(32, (3, 3), activation='elu', padding='same'))\n",
        "sae.add(UpSampling2D((2, 2)))\n",
        "sae.add(BatchNormalization())\n",
        "sae.add(Conv2D(32, (3, 3), activation='elu', padding='same'))\n",
        "sae.add(UpSampling2D((2, 2)))\n",
        "sae.add(BatchNormalization())\n",
        "sae.add(Conv2D(1, (3, 3), activation='sigmoid', padding='same'))\n",
        "\n",
        "sae.summary()\n",
        "sae.compile(optimizer='adam', loss='binary_crossentropy')"
      ],
      "execution_count": 19,
      "outputs": [
        {
          "output_type": "stream",
          "text": [
            "_________________________________________________________________\n",
            "Layer (type)                 Output Shape              Param #   \n",
            "=================================================================\n",
            "conv2d_7 (Conv2D)            (None, 28, 28, 32)        320       \n",
            "_________________________________________________________________\n",
            "max_pooling2d_4 (MaxPooling2 (None, 14, 14, 32)        0         \n",
            "_________________________________________________________________\n",
            "batch_normalization_7 (Batch (None, 14, 14, 32)        128       \n",
            "_________________________________________________________________\n",
            "conv2d_8 (Conv2D)            (None, 14, 14, 32)        9248      \n",
            "_________________________________________________________________\n",
            "max_pooling2d_5 (MaxPooling2 (None, 7, 7, 32)          0         \n",
            "_________________________________________________________________\n",
            "batch_normalization_8 (Batch (None, 7, 7, 32)          128       \n",
            "_________________________________________________________________\n",
            "flatten_4 (Flatten)          (None, 1568)              0         \n",
            "_________________________________________________________________\n",
            "neural_codes (Dense)         (None, 128)               200832    \n",
            "_________________________________________________________________\n",
            "dense_4 (Dense)              (None, 1568)              202272    \n",
            "_________________________________________________________________\n",
            "reshape_2 (Reshape)          (None, 7, 7, 32)          0         \n",
            "_________________________________________________________________\n",
            "conv2d_9 (Conv2D)            (None, 7, 7, 32)          9248      \n",
            "_________________________________________________________________\n",
            "up_sampling2d_3 (UpSampling2 (None, 14, 14, 32)        0         \n",
            "_________________________________________________________________\n",
            "batch_normalization_9 (Batch (None, 14, 14, 32)        128       \n",
            "_________________________________________________________________\n",
            "conv2d_10 (Conv2D)           (None, 14, 14, 32)        9248      \n",
            "_________________________________________________________________\n",
            "up_sampling2d_4 (UpSampling2 (None, 28, 28, 32)        0         \n",
            "_________________________________________________________________\n",
            "batch_normalization_10 (Batc (None, 28, 28, 32)        128       \n",
            "_________________________________________________________________\n",
            "conv2d_11 (Conv2D)           (None, 28, 28, 1)         289       \n",
            "=================================================================\n",
            "Total params: 431,969\n",
            "Trainable params: 431,713\n",
            "Non-trainable params: 256\n",
            "_________________________________________________________________\n"
          ],
          "name": "stdout"
        }
      ]
    },
    {
      "metadata": {
        "id": "zBnHSyNQ1SAp",
        "colab_type": "code",
        "colab": {
          "autoexec": {
            "startup": false,
            "wait_interval": 0
          },
          "output_extras": [
            {
              "item_id": 166
            },
            {
              "item_id": 363
            },
            {
              "item_id": 521
            },
            {
              "item_id": 665
            },
            {
              "item_id": 803
            },
            {
              "item_id": 938
            },
            {
              "item_id": 1014
            },
            {
              "item_id": 1142
            },
            {
              "item_id": 1266
            },
            {
              "item_id": 1273
            },
            {
              "item_id": 1274
            }
          ],
          "base_uri": "https://localhost:8080/",
          "height": 408
        },
        "outputId": "e91fbff8-4665-4d06-d567-4cd96f86027a",
        "executionInfo": {
          "status": "ok",
          "timestamp": 1520943574431,
          "user_tz": -60,
          "elapsed": 344502,
          "user": {
            "displayName": "Thijs Ledeboer",
            "photoUrl": "https://lh3.googleusercontent.com/a/default-user=s128",
            "userId": "112614377174306060047"
          }
        }
      },
      "cell_type": "code",
      "source": [
        "batch_size = 32\n",
        "epochs = 10\n",
        "\n",
        "sae.fit(x_train_noisy, x_train,\n",
        "                batch_size=batch_size,\n",
        "                epochs=epochs,\n",
        "                validation_split=1/12)"
      ],
      "execution_count": 20,
      "outputs": [
        {
          "output_type": "stream",
          "text": [
            "Train on 55000 samples, validate on 5000 samples\n",
            "Epoch 1/10\n",
            "55000/55000 [==============================] - 36s 653us/step - loss: 0.3793 - val_loss: 0.3353\n",
            "Epoch 2/10\n",
            "10112/55000 [====>.........................] - ETA: 27s - loss: 0.3277"
          ],
          "name": "stdout"
        },
        {
          "output_type": "stream",
          "text": [
            "55000/55000 [==============================] - 34s 621us/step - loss: 0.3124 - val_loss: 0.3004\n",
            "Epoch 3/10\n",
            "36416/55000 [==================>...........] - ETA: 11s - loss: 0.2992"
          ],
          "name": "stdout"
        },
        {
          "output_type": "stream",
          "text": [
            "55000/55000 [==============================] - 34s 621us/step - loss: 0.2982 - val_loss: 0.2978\n",
            "Epoch 4/10\n",
            "46880/55000 [========================>.....] - ETA: 4s - loss: 0.2952"
          ],
          "name": "stdout"
        },
        {
          "output_type": "stream",
          "text": [
            "55000/55000 [==============================] - 34s 619us/step - loss: 0.2949 - val_loss: 0.2957\n",
            "Epoch 5/10\n",
            "50976/55000 [==========================>...] - ETA: 2s - loss: 0.2925"
          ],
          "name": "stdout"
        },
        {
          "output_type": "stream",
          "text": [
            "55000/55000 [==============================] - 34s 624us/step - loss: 0.2926 - val_loss: 0.2934\n",
            "Epoch 6/10\n",
            "52544/55000 [===========================>..] - ETA: 1s - loss: 0.2910"
          ],
          "name": "stdout"
        },
        {
          "output_type": "stream",
          "text": [
            "55000/55000 [==============================] - 34s 624us/step - loss: 0.2910 - val_loss: 0.2934\n",
            "Epoch 7/10\n",
            "53216/55000 [============================>.] - ETA: 1s - loss: 0.2898"
          ],
          "name": "stdout"
        },
        {
          "output_type": "stream",
          "text": [
            "55000/55000 [==============================] - 34s 624us/step - loss: 0.2898 - val_loss: 0.2918\n",
            "Epoch 8/10\n",
            "53376/55000 [============================>.] - ETA: 0s - loss: 0.2890"
          ],
          "name": "stdout"
        },
        {
          "output_type": "stream",
          "text": [
            "55000/55000 [==============================] - 34s 616us/step - loss: 0.2888 - val_loss: 0.2960\n",
            "Epoch 9/10\n",
            "53504/55000 [============================>.] - ETA: 0s - loss: 0.2879"
          ],
          "name": "stdout"
        },
        {
          "output_type": "stream",
          "text": [
            "55000/55000 [==============================] - 34s 619us/step - loss: 0.2879 - val_loss: 0.2933\n",
            "Epoch 10/10\n",
            "53152/55000 [===========================>..] - ETA: 1s - loss: 0.2870"
          ],
          "name": "stdout"
        },
        {
          "output_type": "stream",
          "text": [
            "55000/55000 [==============================] - 34s 616us/step - loss: 0.2871 - val_loss: 0.2923\n"
          ],
          "name": "stdout"
        },
        {
          "output_type": "execute_result",
          "data": {
            "text/plain": [
              "<keras.callbacks.History at 0x7f34da1e2198>"
            ]
          },
          "metadata": {
            "tags": []
          },
          "execution_count": 20
        }
      ]
    },
    {
      "metadata": {
        "id": "Mku2we4SQyLp",
        "colab_type": "code",
        "colab": {
          "autoexec": {
            "startup": false,
            "wait_interval": 0
          }
        }
      },
      "cell_type": "code",
      "source": [
        "from google.colab import files\n",
        "sae.save(\"sae_fashionmnist_l.h5\")\n",
        "\n",
        "#files.download(\"sae_fashionmnist_1.h5\")"
      ],
      "execution_count": 0,
      "outputs": []
    },
    {
      "metadata": {
        "id": "SgVN1qCOQyLs",
        "colab_type": "text"
      },
      "cell_type": "markdown",
      "source": [
        "***\n",
        "\n",
        "**b)** Briefly motivate how and why you chose this architecture.\n",
        "\n",
        "**Answer:**"
      ]
    },
    {
      "metadata": {
        "id": "MAdXOkBHQyLt",
        "colab_type": "text"
      },
      "cell_type": "markdown",
      "source": [
        "We chose for this architecture because it already obtained satisfactory results in the previous question with the DEA. We thought and hoped that it would perform equally good. "
      ]
    },
    {
      "metadata": {
        "id": "IAAqeS2ZQyLu",
        "colab_type": "text"
      },
      "cell_type": "markdown",
      "source": [
        "***\n",
        "\n",
        "Visualise a few test examples and their reconstructions."
      ]
    },
    {
      "metadata": {
        "id": "ocfhXJQpQyLv",
        "colab_type": "code",
        "colab": {
          "autoexec": {
            "startup": false,
            "wait_interval": 0
          },
          "output_extras": [
            {
              "item_id": 1
            },
            {
              "item_id": 2
            }
          ],
          "base_uri": "https://localhost:8080/",
          "height": 233
        },
        "outputId": "5d903b11-9761-4012-b7ae-ff84c4d21dd4",
        "executionInfo": {
          "status": "ok",
          "timestamp": 1520936131675,
          "user_tz": -60,
          "elapsed": 4047,
          "user": {
            "displayName": "Thijs Ledeboer",
            "photoUrl": "https://lh3.googleusercontent.com/a/default-user=s128",
            "userId": "112614377174306060047"
          }
        }
      },
      "cell_type": "code",
      "source": [
        "# NOTE: you don't need to change this code, just run it after having trained the SAE\n",
        "def plot_examples(x):\n",
        "    n = 10\n",
        "    plt.figure(figsize=(20, 2))\n",
        "    for i in range(n):\n",
        "        ax = plt.subplot(1, n, i+1)\n",
        "        plt.imshow(x[i].reshape(28, 28))\n",
        "        plt.gray()\n",
        "        ax.get_xaxis().set_visible(False)\n",
        "        ax.get_yaxis().set_visible(False)\n",
        "    plt.show()\n",
        "\n",
        "x_test_reconstr = sae.predict(x_test, batch_size=batch_size)\n",
        "\n",
        "plot_examples(x_test)\n",
        "plot_examples(x_test_reconstr)"
      ],
      "execution_count": 121,
      "outputs": [
        {
          "output_type": "display_data",
          "data": {
            "image/png": "[encoded data removed]",
            "text/plain": [
              "<matplotlib.figure.Figure at 0x7f2334e91e10>"
            ]
          },
          "metadata": {
            "tags": []
          }
        },
        {
          "output_type": "display_data",
          "data": {
            "image/png": "[encoded data removed]",
            "text/plain": [
              "<matplotlib.figure.Figure at 0x7f2331c520b8>"
            ]
          },
          "metadata": {
            "tags": []
          }
        }
      ]
    },
    {
      "metadata": {
        "id": "GEceYdeOQyLw",
        "colab_type": "text"
      },
      "cell_type": "markdown",
      "source": [
        "**c)** Compare the visual results to those of the DAE in Task 2.3. Also compare the loss values of the test set for the DAE and SAE. How can you explain the difference?\n",
        "\n",
        "**Answer:**"
      ]
    },
    {
      "metadata": {
        "id": "nqkTQEdDQyLx",
        "colab_type": "text"
      },
      "cell_type": "markdown",
      "source": [
        "There is a little bit of a difference between the loss values of the DAE and the one from the SAE. The SAE has slightly higher loss values but in our opinion does generate better representations of the original picture. For example the flipflop is clearly a flipflop now instead of somewhat of a blur with the DAE. The differences come from the way that both encoders generate their 'corrupted' data of the original data. For the DEA the 'corrupted' data is generated somewhat random and beforehand. This means that any possbible 'corrupted' version has a change to exists, every pixel of the image can be changed. The sparse autoencoder imposes sparcity on hidden layers, in our case on the last dense layer of the encoder. This allowes the autoencoder to learn useful structures of the data. The sparse autoencoder applies penalties on layers. In this case on the activity layer and this penalty is then incorperated into the loss function, thus explaining the higher loss values. "
      ]
    },
    {
      "metadata": {
        "id": "qvfnidDrQyLy",
        "colab_type": "text"
      },
      "cell_type": "markdown",
      "source": [
        "***\n",
        "\n",
        "### Task 2.5: Comparison\n",
        "Obtain 128-dimensional neural code representations of the last five classes of the Fashion-MNIST dataset (the *retrieval set*: `x_train_r`) from the following models/layers:\n",
        "1. The last dense hidden layer (before the output layer) of the MLP you trained in Task 2.1\n",
        "2. The last dense hidden layer (before the output layer) of the CNN you trained in Task 2.2\n",
        "3. The center layer/code of the DAE you trained in Task 2.3\n",
        "4. The center layer/code of the SAE you trained in Task 2.4\n",
        "5. A PCA-transformation"
      ]
    },
    {
      "metadata": {
        "id": "1Lso3um-QyLz",
        "colab_type": "code",
        "colab": {
          "autoexec": {
            "startup": false,
            "wait_interval": 0
          }
        }
      },
      "cell_type": "code",
      "source": [
        "# additional imports\n",
        "from keras.models import load_model\n",
        "from keras.models import Model\n",
        "from sklearn.decomposition import PCA"
      ],
      "execution_count": 0,
      "outputs": []
    },
    {
      "metadata": {
        "id": "3t8q8fuvQyL0",
        "colab_type": "code",
        "colab": {
          "autoexec": {
            "startup": false,
            "wait_interval": 0
          },
          "output_extras": [
            {
              "item_id": 1
            }
          ],
          "base_uri": "https://localhost:8080/",
          "height": 194
        },
        "outputId": "2e031eb5-ba56-4343-f829-05d14d486b60",
        "executionInfo": {
          "status": "ok",
          "timestamp": 1520943729555,
          "user_tz": -60,
          "elapsed": 37073,
          "user": {
            "displayName": "Thijs Ledeboer",
            "photoUrl": "https://lh3.googleusercontent.com/a/default-user=s128",
            "userId": "112614377174306060047"
          }
        }
      },
      "cell_type": "code",
      "source": [
        "# load the previously trained and saved models\n",
        "mlp = load_model(\"mlp_fashionmnist_l.h5\")\n",
        "cnn = load_model(\"cnn_fashionmnist_l.h5\")\n",
        "dae = load_model(\"dae_fashionmnist_l.h5\")\n",
        "sae = load_model(\"sae_fashionmnist_l.h5\")\n",
        "# NOTE: change the name \"neural codes\" if the layer from which you wish to retrieve neural codes has a different name\n",
        "mlp_nc = Model(inputs=mlp.input, outputs=mlp.get_layer(\"neural_codes\").output)\n",
        "cnn_nc = Model(inputs=cnn.input, outputs=cnn.get_layer(\"neural_codes\").output)\n",
        "dae_nc = Model(inputs=dae.input, outputs=dae.get_layer(\"neural_codes\").output)\n",
        "sae_nc = Model(inputs=sae.input, outputs=sae.get_layer(\"neural_codes\").output)\n",
        "\n",
        "# obtain flat representations of the data\n",
        "x_train_r_flat = x_train_r.reshape((x_train_r.shape[0], -1))\n",
        "x_test_r_flat = x_test_r.reshape((x_test_r.shape[0], -1))\n",
        "\n",
        "# train PCA on the retrieval set\n",
        "pca = PCA(n_components=128)\n",
        "pca.fit(x_train_r_flat)\n",
        "\n",
        "# obtain 128-dimensional representations\n",
        "nc_mlp_train = mlp_nc.predict(x_train_r)\n",
        "nc_mlp_test = mlp_nc.predict(x_test_r)\n",
        "nc_cnn_train = cnn_nc.predict(x_train_r)\n",
        "nc_cnn_test = cnn_nc.predict(x_test_r)\n",
        "nc_dae_train = dae_nc.predict(x_train_r)\n",
        "nc_dae_test = dae_nc.predict(x_test_r)\n",
        "nc_sae_train = sae_nc.predict(x_train_r)\n",
        "nc_sae_test = sae_nc.predict(x_test_r)\n",
        "nc_pca_train = pca.transform(x_train_r_flat)\n",
        "nc_pca_test = pca.transform(x_test_r_flat)\n",
        "\n",
        "# print the shapes to confirm all features are 128-dimensional\n",
        "print(nc_mlp_train.shape)\n",
        "print(nc_mlp_test.shape)\n",
        "print(nc_cnn_train.shape)\n",
        "print(nc_cnn_test.shape)\n",
        "print(nc_dae_train.shape)\n",
        "print(nc_dae_test.shape)\n",
        "print(nc_sae_train.shape)\n",
        "print(nc_sae_test.shape)\n",
        "print(nc_pca_train.shape)\n",
        "print(nc_pca_test.shape)"
      ],
      "execution_count": 28,
      "outputs": [
        {
          "output_type": "stream",
          "text": [
            "(30000, 128)\n",
            "(5000, 128)\n",
            "(30000, 128)\n",
            "(5000, 128)\n",
            "(30000, 128)\n",
            "(5000, 128)\n",
            "(30000, 128)\n",
            "(5000, 128)\n",
            "(30000, 128)\n",
            "(5000, 128)\n"
          ],
          "name": "stdout"
        }
      ]
    },
    {
      "metadata": {
        "id": "IK-f25xGQyL1",
        "colab_type": "text"
      },
      "cell_type": "markdown",
      "source": [
        "***\n",
        "\n",
        "**a)** Evaluate the retrieval task as described in Question 1 on the last 5 classes (the retrieval set) of the Fashion-MNIST dataset, for the five data representations given above. Use query images from the test set and retrieve images from the training set only. Print the five resulting retrieval scores (between 0 and 5).\n",
        "\n",
        "*HINT: you can use* `y_train_digits_r` *and* `y_test_digits_r` *to obtain digit encodings (as opposed to one-hot encodings) of the data labels.*"
      ]
    },
    {
      "metadata": {
        "id": "UaqLBkrffI3_",
        "colab_type": "code",
        "colab": {
          "autoexec": {
            "startup": false,
            "wait_interval": 0
          },
          "output_extras": [
            {
              "item_id": 2
            }
          ],
          "base_uri": "https://localhost:8080/",
          "height": 70
        },
        "outputId": "f46cc323-fa5b-4af1-8cf6-caa8462d5524",
        "executionInfo": {
          "status": "ok",
          "timestamp": 1520946690706,
          "user_tz": -60,
          "elapsed": 2293,
          "user": {
            "displayName": "Thijs Ledeboer",
            "photoUrl": "https://lh3.googleusercontent.com/a/default-user=s128",
            "userId": "112614377174306060047"
          }
        }
      },
      "cell_type": "code",
      "source": [
        "!pip install itertools"
      ],
      "execution_count": 66,
      "outputs": [
        {
          "output_type": "stream",
          "text": [
            "Collecting itertools\n",
            "\u001b[31m  Could not find a version that satisfies the requirement itertools (from versions: )\u001b[0m\n",
            "\u001b[31mNo matching distribution found for itertools\u001b[0m\n"
          ],
          "name": "stdout"
        }
      ]
    },
    {
      "metadata": {
        "id": "_Epn95_TQyL2",
        "colab_type": "code",
        "colab": {
          "autoexec": {
            "startup": false,
            "wait_interval": 0
          },
          "output_extras": [
            {
              "item_id": 1
            }
          ],
          "base_uri": "https://localhost:8080/",
          "height": 105
        },
        "outputId": "ea1f35dc-d95f-4bb4-f650-f6cbc9f10a37",
        "executionInfo": {
          "status": "ok",
          "timestamp": 1520947419785,
          "user_tz": -60,
          "elapsed": 5551,
          "user": {
            "displayName": "Thijs Ledeboer",
            "photoUrl": "https://lh3.googleusercontent.com/a/default-user=s128",
            "userId": "112614377174306060047"
          }
        }
      },
      "cell_type": "code",
      "source": [
        "# make random selection of n query images/indices, the same for all experiments\n",
        "n = 200\n",
        "n_examples = 5000  # the retrieval test set has 5000 images\n",
        "indices = np.random.choice(range(n_examples), size=n, replace=False)\n",
        "scores=[0,0,0,0,0]\n",
        "p = 0\n",
        "#print(y_train_digits_r)\n",
        "representations = [\n",
        "    (nc_mlp_train, nc_mlp_test),\n",
        "    (nc_cnn_train, nc_cnn_test),\n",
        "    (nc_dae_train, nc_dae_test),\n",
        "    (nc_sae_train, nc_sae_test),\n",
        "    (nc_pca_train, nc_pca_test),\n",
        "]\n",
        "for (nc_train, nc_test) in representations:\n",
        "    # === SOLUTION: ===\n",
        "    # insert code here\n",
        "    neigh = NearestNeighbors(n_neighbors=5, p=2)\n",
        "    neigh.fit(nc_train)\n",
        "    QI = nc_test[indices]\n",
        "    nn = neigh.kneighbors(QI)\n",
        "    for i in nn[1]:\n",
        "      for k, l  in zip(i[:-1], i[1:]):\n",
        "        #print(k, l)\n",
        "        label = y_train[k]\n",
        "        label_digit = y_train_digits[k]\n",
        "        label_class_j = classes[label_digit]\n",
        "        #print(label_class)\n",
        "        label = y_train[l]\n",
        "        label_digit = y_train_digits[l]\n",
        "        label_class_k = classes[label_digit]\n",
        "        #print(label_class)\n",
        "        if label_class_j == label_class_k:\n",
        "          scores[p] +=1\n",
        "    p += 1\n",
        "for s in scores:\n",
        "  q = s/200\n",
        "  print(q)"
      ],
      "execution_count": 80,
      "outputs": [
        {
          "output_type": "stream",
          "text": [
            "0.4\n",
            "0.4\n",
            "0.485\n",
            "0.335\n",
            "0.52\n"
          ],
          "name": "stdout"
        }
      ]
    },
    {
      "metadata": {
        "id": "xTSsSYOuQyL4",
        "colab_type": "text"
      },
      "cell_type": "markdown",
      "source": [
        "***\n",
        "\n",
        "**b)** Compare the \"baseline\" PCA-transformed data with the other methods. Is PCA a suitable method to obtain representations for image retrieval in this situation? Why do you think so? Would you expect a similar conclusion for the Caltech101 dataset from Question 1?\n",
        "\n",
        "**Answer:**"
      ]
    },
    {
      "metadata": {
        "id": "S5RwOwc-QyL4",
        "colab_type": "text"
      },
      "cell_type": "markdown",
      "source": [
        "We think that PCA is a suitable method to obtain representations for image retrieval. Out of all the three different models it obtains the best score. Ofcourse all of them don't achieve a spectecular score (most are less than 0.5). Since it is quite random for them to select items from the training set based on images out of the test set. However based on the scores we see that PCA does not only perform as well it performs even better then our trained models. We think this is due to the fact that there are quite a large differences between the different classes in the training set of which the images are chosen. The also do not really compare to the classes in the test set. \n",
        "\n",
        "We expect the same result for the Caltech101 dataset since here also there are quite some different classes. However it could play a factor that in those pictures there is color as well which is not present in the FASHION-MINST data set."
      ]
    },
    {
      "metadata": {
        "id": "RmsLjqg0QyL5",
        "colab_type": "text"
      },
      "cell_type": "markdown",
      "source": [
        "***\n",
        "\n",
        "Observe the difference between encodings from the DAE and SAE."
      ]
    },
    {
      "metadata": {
        "id": "ErYpJnX8QyL6",
        "colab_type": "code",
        "colab": {
          "autoexec": {
            "startup": false,
            "wait_interval": 0
          },
          "output_extras": [
            {
              "item_id": 1
            }
          ],
          "base_uri": "https://localhost:8080/",
          "height": 1225
        },
        "outputId": "2b1d2d7a-c5eb-47b8-8ded-386a44b80ebf",
        "executionInfo": {
          "status": "ok",
          "timestamp": 1520947528325,
          "user_tz": -60,
          "elapsed": 539,
          "user": {
            "displayName": "Thijs Ledeboer",
            "photoUrl": "https://lh3.googleusercontent.com/a/default-user=s128",
            "userId": "112614377174306060047"
          }
        }
      },
      "cell_type": "code",
      "source": [
        "print(\"Mean activation for DAE encodings:\", np.mean(nc_dae_train))\n",
        "print(\"Mean activation for SAE encodings:\", np.mean(nc_sae_train))\n",
        "\n",
        "index = 9000  # try a few indices here\n",
        "print(\"DAE encoding example:\")\n",
        "print(nc_dae_train[index])\n",
        "print(\"SAE encoding example:\")\n",
        "print(nc_sae_train[index])"
      ],
      "execution_count": 84,
      "outputs": [
        {
          "output_type": "stream",
          "text": [
            "Mean activation for DAE encodings: 3.442056\n",
            "Mean activation for SAE encodings: -0.00017243795\n",
            "DAE encoding example:\n",
            "[ 2.83382630e+00 -9.98998106e-01 -9.95019734e-01 -7.43273079e-01\n",
            " -9.42138851e-01 -9.99733448e-01 -9.98841822e-01  2.29535084e+01\n",
            "  9.52881241e+00  1.87907219e+00 -1.00000000e+00  1.34943123e+01\n",
            "  9.93903828e+00 -9.99506056e-01  6.09373856e+00 -9.98469472e-01\n",
            " -9.99911487e-01  1.11554861e+01 -9.65158641e-01 -9.91949856e-01\n",
            "  2.97600722e+00 -9.99993503e-01 -9.69555378e-01 -9.99689400e-01\n",
            " -5.69364727e-01  1.39413226e+00  6.23614550e+00  8.58841133e+00\n",
            " -9.99770880e-01 -9.99563694e-01  1.06557169e+01  5.51328135e+00\n",
            " -9.92507696e-01  4.86196578e-03 -9.85668480e-01  2.74740434e+00\n",
            "  6.03305674e+00  5.08033371e+00 -9.99938905e-01 -9.99669135e-01\n",
            " -5.35120487e-01  2.18159959e-01 -8.84691238e-01 -9.94392157e-01\n",
            " -9.42477942e-01 -9.99991834e-01 -4.34415936e-01 -9.99806225e-01\n",
            " -9.88536239e-01  5.49327326e+00  1.54768925e+01 -1.93113625e-01\n",
            "  8.17384815e+00  8.09881115e+00 -9.98520672e-01  6.62300158e+00\n",
            " -9.99415278e-01 -9.98655796e-01 -9.50842559e-01 -9.99310851e-01\n",
            "  4.42731476e+00 -9.98738527e-01 -9.99933660e-01 -9.95052516e-01\n",
            " -9.92560148e-01  2.32795048e+01 -9.99730587e-01 -9.99999046e-01\n",
            " -9.99999881e-01 -9.65131104e-01 -9.99477029e-01  4.81537342e+00\n",
            "  1.52635127e-01 -9.13735569e-01  4.94364405e+00 -8.81808281e-01\n",
            " -9.99999285e-01 -9.05386269e-01  1.32386274e+01 -9.99264896e-01\n",
            "  4.95647097e+00 -9.99927819e-01  1.58322978e+00 -9.86997843e-01\n",
            " -9.95062888e-01 -9.83445525e-01  6.49302387e+00 -9.72766876e-01\n",
            " -9.89697635e-01  5.15856457e+00 -5.66903472e-01 -6.29431605e-01\n",
            " -9.97648180e-01 -9.92548168e-01  2.19916010e+00 -9.99902427e-01\n",
            "  4.86065149e+00 -9.87117767e-01 -9.99321103e-01 -9.99999344e-01\n",
            " -9.99970973e-01  1.06331415e+01 -9.40899312e-01 -8.62271488e-01\n",
            " -9.98503089e-01  3.00089645e+00 -9.29831862e-01 -9.84711409e-01\n",
            "  3.09602189e+00 -9.92254972e-01 -9.99992073e-01  3.16996241e+00\n",
            "  1.19396305e+01 -9.86107647e-01 -9.82469141e-01  5.86306334e+00\n",
            "  2.20834885e+01 -9.99998450e-01 -8.42877209e-01  5.99725103e+00\n",
            " -8.49547088e-01  7.98944521e+00  5.27801275e+00 -9.94208097e-01\n",
            " -9.85817850e-01 -4.43912089e-01 -9.94620442e-01 -9.99991596e-01]\n",
            "SAE encoding example:\n",
            "[ 4.82957205e-03 -7.56144524e-04  1.84022263e-03  1.77976256e-03\n",
            " -5.31497002e-02 -2.80093551e-02 -4.22710180e-03 -1.25560164e-02\n",
            "  3.18370480e-03 -5.41925430e-04 -9.44942236e-03 -2.12895870e-03\n",
            " -1.17981434e-03 -1.97070837e-03  6.52184524e-03 -2.19184160e-03\n",
            " -5.11753559e-03  6.49241637e-03 -3.43596935e-03 -2.29418278e-04\n",
            " -3.88472676e-02  1.71296112e-02  8.40867695e-04 -7.73429871e-03\n",
            " -4.37444448e-03  9.88237467e-03 -7.11721182e-03 -1.06829405e-03\n",
            " -2.21991539e-03 -1.06365681e-02  9.18997824e-03  1.93315372e-03\n",
            "  1.20444950e-02  2.03417963e-03 -7.01189041e-04  5.16152475e-03\n",
            " -2.21729875e-02  5.90095297e-04  9.26297158e-03  9.42356419e-04\n",
            " -7.19499588e-03 -4.35262918e-03  1.49717908e-02 -6.09165430e-03\n",
            "  9.53650195e-03  1.94671322e-02 -3.68779898e-03  7.96385854e-02\n",
            " -3.37916613e-03  5.35902567e-03 -7.09789991e-03 -6.72340393e-03\n",
            "  9.86150373e-03  3.22664902e-03 -1.51474476e-02 -9.87350941e-03\n",
            "  3.55591439e-03 -4.22215462e-03 -3.68356705e-04 -1.22531056e-02\n",
            "  3.65163176e-03 -1.72257423e-05 -1.23440623e-02 -4.14371490e-04\n",
            "  1.32176820e-02 -7.45016336e-03 -9.26560163e-03 -3.18217278e-03\n",
            "  1.49735902e-03  3.67248920e-03 -1.00088120e-02  5.45298075e-03\n",
            " -2.57861614e-03 -8.20088387e-03 -2.55566835e-03 -8.94069672e-03\n",
            " -1.01387501e-03  1.07558258e-02 -1.07115507e-03 -1.11787915e-02\n",
            "  1.58928111e-02  2.33843457e-03  1.37013886e-02 -3.55839729e-05\n",
            " -1.05369091e-03  8.33447836e-03 -2.50577927e-04  1.57880224e-03\n",
            "  2.34461180e-03  1.76401064e-03 -2.53158808e-03 -2.67243385e-03\n",
            " -2.31611729e-03 -1.35967731e-02  2.70098029e-03 -1.15894079e-02\n",
            " -7.24059343e-03  5.87955536e-03  1.32143288e-03  1.75826380e-03\n",
            " -1.22165680e-03 -1.29901171e-02  7.11748609e-03 -1.51687860e-03\n",
            " -1.81654096e-02 -4.83423471e-03  3.17255175e-03  3.51532851e-03\n",
            "  3.51687800e-03  8.27249838e-04  4.10311408e-02 -1.22990012e-02\n",
            "  1.29784993e-03  8.33893940e-03 -1.28269196e-04  2.21712748e-03\n",
            "  1.59065556e-02  5.80255874e-03 -1.23119354e-03 -9.87178087e-03\n",
            " -3.01561356e-02  3.10959737e-03  5.23533439e-03  4.65912744e-04\n",
            " -5.50162792e-03  3.45518813e-03 -2.90197134e-03  1.22956140e-03]\n"
          ],
          "name": "stdout"
        }
      ]
    },
    {
      "metadata": {
        "id": "l1X_VGidQyL7",
        "colab_type": "text"
      },
      "cell_type": "markdown",
      "source": [
        "**c)** Discuss the difference in encodings between the two autoencoders (denoising and sparse). Also discuss the difference in retrieval performance for these encodings. How would you explain this difference?\n",
        "\n",
        "**Answer:**"
      ]
    },
    {
      "metadata": {
        "id": "8de_dlzBQyL8",
        "colab_type": "text"
      },
      "cell_type": "markdown",
      "source": [
        "There is quite a difference between the different mean activations. It seems that in almost every case the DAE encoding is way more positive than the SAE encoding. We think that it is due to the fact that the DAE encoding looks at a lot of different aspects of the image. It tries to find what are key features for certain classes. The SEA encoding tries to find hidden features in the data. We expect that because of that the encoding is a lot less positive "
      ]
    },
    {
      "metadata": {
        "id": "8Pi-C1IcQyL8",
        "colab_type": "text"
      },
      "cell_type": "markdown",
      "source": [
        "***\n",
        "\n",
        "**d)** What is the best performing method you found in part a)? Describe what advantage you believe this method has over the others.\n",
        "\n",
        "**Answer:**"
      ]
    },
    {
      "metadata": {
        "id": "43w8ug6LQyL9",
        "colab_type": "text"
      },
      "cell_type": "markdown",
      "source": [
        "*=== write your answer here ===*"
      ]
    }
  ]
}